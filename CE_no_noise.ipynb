{
 "cells": [
  {
   "cell_type": "code",
   "execution_count": 1,
   "metadata": {
    "executionInfo": {
     "elapsed": 4900,
     "status": "ok",
     "timestamp": 1715782928249,
     "user": {
      "displayName": "Jonatan Hyberg",
      "userId": "02103785444766429018"
     },
     "user_tz": -120
    },
    "id": "kyqOgTWzCTUX"
   },
   "outputs": [
    {
     "name": "stderr",
     "output_type": "stream",
     "text": [
      "2024-05-22 19:41:16.848590: I tensorflow/core/util/port.cc:113] oneDNN custom operations are on. You may see slightly different numerical results due to floating-point round-off errors from different computation orders. To turn them off, set the environment variable `TF_ENABLE_ONEDNN_OPTS=0`.\n",
      "2024-05-22 19:41:16.882931: E external/local_xla/xla/stream_executor/cuda/cuda_dnn.cc:9261] Unable to register cuDNN factory: Attempting to register factory for plugin cuDNN when one has already been registered\n",
      "2024-05-22 19:41:16.882966: E external/local_xla/xla/stream_executor/cuda/cuda_fft.cc:607] Unable to register cuFFT factory: Attempting to register factory for plugin cuFFT when one has already been registered\n",
      "2024-05-22 19:41:16.883923: E external/local_xla/xla/stream_executor/cuda/cuda_blas.cc:1515] Unable to register cuBLAS factory: Attempting to register factory for plugin cuBLAS when one has already been registered\n",
      "2024-05-22 19:41:16.890360: I tensorflow/core/platform/cpu_feature_guard.cc:182] This TensorFlow binary is optimized to use available CPU instructions in performance-critical operations.\n",
      "To enable the following instructions: AVX2 AVX512F AVX512_VNNI AVX512_BF16 AVX_VNNI AMX_TILE AMX_INT8 AMX_BF16 FMA, in other operations, rebuild TensorFlow with the appropriate compiler flags.\n"
     ]
    }
   ],
   "source": [
    "import sys\n",
    "import tensorflow as tf\n",
    "import matplotlib.pyplot as plt\n",
    "from tensorflow.keras.datasets import cifar10\n",
    "from tensorflow.keras.layers import Conv2D\n",
    "from tensorflow.keras.layers import MaxPooling2D\n",
    "from tensorflow.keras.layers import Dense\n",
    "from tensorflow.keras.layers import Flatten\n",
    "from tensorflow.keras.utils import to_categorical\n",
    "from tensorflow.keras.models import Sequential\n",
    "from tensorflow.keras.optimizers import SGD\n",
    "from keras.layers import Dropout\n",
    "from tensorflow.keras.preprocessing.image import ImageDataGenerator\n",
    "# from cosine_annealing import CosineAnnealingScheduler\n",
    "from keras.layers import BatchNormalization\n",
    "import pickle\n",
    "from keras.regularizers import l2\n",
    "from  scipy import ndimage\n",
    "import numpy as np"
   ]
  },
  {
   "cell_type": "markdown",
   "metadata": {
    "id": "y67Ec5FICTUd"
   },
   "source": [
    "#### Dataset\n"
   ]
  },
  {
   "cell_type": "markdown",
   "metadata": {
    "id": "CYNU45pfCTUf"
   },
   "source": [
    "Load dataset + One-hot encoding + Normalization"
   ]
  },
  {
   "cell_type": "code",
   "execution_count": 2,
   "metadata": {
    "executionInfo": {
     "elapsed": 495,
     "status": "ok",
     "timestamp": 1715782996141,
     "user": {
      "displayName": "Jonatan Hyberg",
      "userId": "02103785444766429018"
     },
     "user_tz": -120
    },
    "id": "o8BGn2ZOCTUg"
   },
   "outputs": [],
   "source": [
    "def load_dataset(noise_ratio=0, sym=True):\n",
    "    (trainX, trainY), (testX, testY) = cifar10.load_data()\n",
    "    n_classes = 10\n",
    "\n",
    "    if noise_ratio > 0:\n",
    "        trainY_original = np.copy(trainY)\n",
    "        if not sym:\n",
    "            # Asymmetric noise\n",
    "            source_class = [9, 2, 3, 5, 4]\n",
    "            target_class = [1, 0, 5, 3, 7]\n",
    "            \n",
    "            for s, t in zip(source_class, target_class):\n",
    "                cls_idx = np.where(trainY_original == s)[0]\n",
    "                n_noisy = int(noise_ratio * cls_idx.shape[0] / 100)\n",
    "                noisy_sample_index = np.random.choice(cls_idx, n_noisy, replace=False)\n",
    "                trainY[noisy_sample_index] = t\n",
    "        else:\n",
    "            # Symetric noise\n",
    "            n_samples = trainY.shape[0]\n",
    "            n_noisy = int(noise_ratio * n_samples / 100)\n",
    "            class_index = [np.where(trainY_original == i)[0] for i in range(n_classes)]\n",
    "            class_noisy = int(n_noisy / n_classes)\n",
    "\n",
    "            noisy_idx = []\n",
    "            for d in range(n_classes):\n",
    "                noisy_class_index = np.random.choice(class_index[d], class_noisy, replace=False)\n",
    "                noisy_idx.extend(noisy_class_index)\n",
    "\n",
    "            for i in noisy_idx:\n",
    "                class_ind = trainY_original[i]\n",
    "                other_class_list = list(range(n_classes))\n",
    "                other_class_list.remove(class_ind)\n",
    "                other_class = np.random.choice(other_class_list)\n",
    "                trainY[i] = other_class\n",
    "        \n",
    "    # One-hot encoding\n",
    "    trainY = to_categorical(trainY)\n",
    "    testY = to_categorical(testY)\n",
    "    # Normalize to [0,1]\n",
    "    trainX = trainX.astype('float32') / 255.0\n",
    "    testX = testX.astype('float32') / 255.0\n",
    "\n",
    "    return trainX, trainY, testX, testY"
   ]
  },
  {
   "cell_type": "markdown",
   "metadata": {
    "id": "-eHdUCx4CTUg"
   },
   "source": [
    "#### Model"
   ]
  },
  {
   "cell_type": "markdown",
   "metadata": {
    "id": "_ZUdh8aqCTUh"
   },
   "source": [
    "Imortant functions"
   ]
  },
  {
   "cell_type": "code",
   "execution_count": 3,
   "metadata": {
    "executionInfo": {
     "elapsed": 2,
     "status": "ok",
     "timestamp": 1715784774519,
     "user": {
      "displayName": "Jonatan Hyberg",
      "userId": "02103785444766429018"
     },
     "user_tz": -120
    },
    "id": "BGpONL8FCTUh"
   },
   "outputs": [],
   "source": [
    "def train(model, trainX, trainY, testX, testY):\n",
    "\n",
    "\tgenerator = ImageDataGenerator(width_shift_range=0.1, height_shift_range=0.1, horizontal_flip=True)\n",
    "\n",
    "\ttrain_data = generator.flow(trainX, trainY, batch_size=64)\n",
    "\n",
    "\tresults = model.fit(train_data, epochs=100, validation_data=(testX, testY), verbose=1)\n",
    "\n",
    "\treturn results\n",
    "\n",
    "def evaluate(model, testX, testY):\n",
    "    _, acc = model.evaluate(testX, testY, verbose=0)\n",
    "\n",
    "    print(f\"The model achieved a final accuracy of {acc*100:.2f}%\")\n",
    "\n",
    "def plot_results(history):\n",
    "\tplt.title('Cross Entropy Loss')\n",
    "\tplt.plot(history['loss'], color='blue', label='Training loss')\n",
    "\tplt.plot(history['val_loss'], color='orange', label='Validation/test loss')\n",
    "\tplt.legend()\n",
    "\tplt.show()\n",
    "\n",
    "\tplt.title('Classification Accuracy')\n",
    "\tplt.plot(history['accuracy'], color='blue', label='Training accuracy')\n",
    "\tplt.plot(history['val_accuracy'], color='orange', label='Validation/test accuracy')\n",
    "\tplt.legend()\n",
    "\tplt.show()"
   ]
  },
  {
   "cell_type": "code",
   "execution_count": 4,
   "metadata": {
    "executionInfo": {
     "elapsed": 2,
     "status": "ok",
     "timestamp": 1715783002196,
     "user": {
      "displayName": "Jonatan Hyberg",
      "userId": "02103785444766429018"
     },
     "user_tz": -120
    },
    "id": "Ls19xeC0CTUi"
   },
   "outputs": [],
   "source": [
    "def save_model(filename, model):\n",
    "    filename = './models/' + filename\n",
    "    pickle.dump(model, open(filename, 'wb'))\n",
    "\n",
    "def save_history(filename, history):\n",
    "    filename = './history/' + filename\n",
    "    pickle.dump(history, open(filename, 'wb'))\n",
    "\n",
    "def load_model(filename):\n",
    "    filename = './models/' + filename\n",
    "    model = pickle.load(open(filename, 'rb'))\n",
    "    return model\n",
    "\n",
    "def load_history(filename):\n",
    "    filename = './history/' + filename\n",
    "    history = pickle.load(open(filename, 'rb'))\n",
    "    return history"
   ]
  },
  {
   "cell_type": "markdown",
   "metadata": {
    "id": "fXqNA_VcCTUj"
   },
   "source": [
    "Baseline model"
   ]
  },
  {
   "cell_type": "code",
   "execution_count": 5,
   "metadata": {
    "executionInfo": {
     "elapsed": 4,
     "status": "ok",
     "timestamp": 1715789630290,
     "user": {
      "displayName": "Jonatan Hyberg",
      "userId": "02103785444766429018"
     },
     "user_tz": -120
    },
    "id": "C9xaw4BBCTUj"
   },
   "outputs": [],
   "source": [
    "def dropout_model():\n",
    "    # Create architecture\n",
    "    model = Sequential()\n",
    "    model.add(Conv2D(32, (3, 3), activation='relu', kernel_initializer='he_uniform', padding='same', input_shape=(32, 32, 3)))\n",
    "    model.add(BatchNormalization())\n",
    "    model.add(Conv2D(32, (3, 3), activation='relu', kernel_initializer='he_uniform', padding='same'))\n",
    "    model.add(BatchNormalization())\n",
    "    model.add(MaxPooling2D((2, 2)))\n",
    "    # model.add(Dropout(0.2))\n",
    "    model.add(Conv2D(64, (3, 3), activation='relu', kernel_initializer='he_uniform', padding='same'))\n",
    "    model.add(BatchNormalization())\n",
    "    model.add(Conv2D(64, (3, 3), activation='relu', kernel_initializer='he_uniform', padding='same'))\n",
    "    model.add(BatchNormalization())\n",
    "    model.add(MaxPooling2D((2, 2)))\n",
    "    # model.add(Dropout(0.3))\n",
    "    model.add(Conv2D(128, (3, 3), activation='relu', kernel_initializer='he_uniform', padding='same'))\n",
    "    model.add(BatchNormalization())\n",
    "    model.add(Conv2D(128, (3, 3), activation='relu', kernel_initializer='he_uniform', padding='same'))\n",
    "    model.add(BatchNormalization())\n",
    "    model.add(MaxPooling2D((2, 2)))\n",
    "    # model.add(Dropout(0.4))\n",
    "    model.add(Flatten())\n",
    "    model.add(Dense(128, activation='relu', kernel_initializer='he_uniform'))\n",
    "    model.add(BatchNormalization())\n",
    "    # model.add(Dropout(0.5))\n",
    "    model.add(Dense(10, activation='softmax'))\n",
    "\n",
    "    total_steps = int(trainX.shape[0]/64) * 100\n",
    "    decay_steps = total_steps*0.8\n",
    "    initial_learning_rate = 0.0001\n",
    "    warmup_steps = 1000\n",
    "    target_learning_rate = 0.1\n",
    "    alpha = 0.001\n",
    "\n",
    "    lr_warmup_decayed_fn = tf.keras.optimizers.schedules.CosineDecay(\n",
    "        initial_learning_rate, decay_steps, warmup_target=target_learning_rate,\n",
    "        warmup_steps=warmup_steps,alpha = alpha\n",
    "    )\n",
    "    # Optimization method\n",
    "    opt = SGD(learning_rate=lr_warmup_decayed_fn, momentum=0.9)\n",
    "\n",
    "    # Compile model and choose loss type\n",
    "    model.compile(optimizer=opt, loss='categorical_crossentropy', metrics=['accuracy'])\n",
    "    return model"
   ]
  },
  {
   "cell_type": "code",
   "execution_count": 6,
   "metadata": {
    "colab": {
     "base_uri": "https://localhost:8080/"
    },
    "executionInfo": {
     "elapsed": 9036,
     "status": "ok",
     "timestamp": 1715783015758,
     "user": {
      "displayName": "Jonatan Hyberg",
      "userId": "02103785444766429018"
     },
     "user_tz": -120
    },
    "id": "q_FZ9SNHCTUj",
    "outputId": "db089f9d-58a3-4b4e-c9d6-6d4208bdcd7f"
   },
   "outputs": [],
   "source": [
    "trainX, trainY, testX, testY = load_dataset(noise_ratio=0, sym=True)"
   ]
  },
  {
   "cell_type": "code",
   "execution_count": 7,
   "metadata": {
    "colab": {
     "base_uri": "https://localhost:8080/"
    },
    "executionInfo": {
     "elapsed": 3670727,
     "status": "ok",
     "timestamp": 1715793305366,
     "user": {
      "displayName": "Jonatan Hyberg",
      "userId": "02103785444766429018"
     },
     "user_tz": -120
    },
    "id": "5aSe_cO4CTUk",
    "outputId": "490b509f-4efa-4d66-cae6-6271c8a1ee29"
   },
   "outputs": [
    {
     "name": "stderr",
     "output_type": "stream",
     "text": [
      "2024-05-22 19:41:20.210387: W tensorflow/core/common_runtime/gpu/gpu_device.cc:2348] TensorFlow was not built with CUDA kernel binaries compatible with compute capability 9.0. CUDA kernels will be jit-compiled from PTX, which could take 30 minutes or longer.\n",
      "2024-05-22 19:41:20.235592: W tensorflow/core/common_runtime/gpu/gpu_device.cc:2348] TensorFlow was not built with CUDA kernel binaries compatible with compute capability 9.0. CUDA kernels will be jit-compiled from PTX, which could take 30 minutes or longer.\n",
      "2024-05-22 19:41:20.481865: I tensorflow/core/common_runtime/gpu/gpu_device.cc:1929] Created device /job:localhost/replica:0/task:0/device:GPU:0 with 1333 MB memory:  -> device: 0, name: NVIDIA H100 80GB HBM3 MIG 1g.10gb, pci bus id: 0000:df:00.0, compute capability: 9.0\n",
      "2024-05-22 19:41:20.859075: W external/local_xla/xla/stream_executor/gpu/asm_compiler.cc:225] Falling back to the CUDA driver for PTX compilation; ptxas does not support CC 9.0\n",
      "2024-05-22 19:41:20.859099: W external/local_xla/xla/stream_executor/gpu/asm_compiler.cc:228] Used ptxas at ptxas\n",
      "2024-05-22 19:41:20.859143: W tensorflow/compiler/mlir/tools/kernel_gen/transforms/gpu_kernel_to_blob_pass.cc:191] Failed to compile generated PTX with ptxas. Falling back to compilation by driver.\n",
      "2024-05-22 19:41:20.862824: W tensorflow/compiler/mlir/tools/kernel_gen/transforms/gpu_kernel_to_blob_pass.cc:191] Failed to compile generated PTX with ptxas. Falling back to compilation by driver.\n",
      "2024-05-22 19:41:20.862849: W tensorflow/compiler/mlir/tools/kernel_gen/transforms/gpu_kernel_to_blob_pass.cc:191] Failed to compile generated PTX with ptxas. Falling back to compilation by driver.\n",
      "2024-05-22 19:41:20.863371: W tensorflow/compiler/mlir/tools/kernel_gen/transforms/gpu_kernel_to_blob_pass.cc:191] Failed to compile generated PTX with ptxas. Falling back to compilation by driver.\n",
      "2024-05-22 19:41:20.864143: W tensorflow/compiler/mlir/tools/kernel_gen/transforms/gpu_kernel_to_blob_pass.cc:191] Failed to compile generated PTX with ptxas. Falling back to compilation by driver.\n",
      "2024-05-22 19:41:20.865778: W tensorflow/compiler/mlir/tools/kernel_gen/transforms/gpu_kernel_to_blob_pass.cc:191] Failed to compile generated PTX with ptxas. Falling back to compilation by driver.\n",
      "2024-05-22 19:41:20.865921: W tensorflow/compiler/mlir/tools/kernel_gen/transforms/gpu_kernel_to_blob_pass.cc:191] Failed to compile generated PTX with ptxas. Falling back to compilation by driver.\n",
      "2024-05-22 19:41:20.865946: W tensorflow/compiler/mlir/tools/kernel_gen/transforms/gpu_kernel_to_blob_pass.cc:191] Failed to compile generated PTX with ptxas. Falling back to compilation by driver.\n"
     ]
    },
    {
     "name": "stdout",
     "output_type": "stream",
     "text": [
      "Epoch 1/100\n"
     ]
    },
    {
     "name": "stderr",
     "output_type": "stream",
     "text": [
      "2024-05-22 19:41:22.329430: I external/local_xla/xla/stream_executor/cuda/cuda_dnn.cc:454] Loaded cuDNN version 8907\n",
      "2024-05-22 19:41:22.393627: W external/local_xla/xla/stream_executor/gpu/redzone_allocator.cc:322] UNIMPLEMENTED: ptxas ptxas too old. Falling back to the driver to compile.\n",
      "Relying on driver to perform ptx compilation. \n",
      "Modify $PATH to customize ptxas location.\n",
      "This message will be only logged once.\n",
      "2024-05-22 19:41:22.707962: W tensorflow/compiler/mlir/tools/kernel_gen/transforms/gpu_kernel_to_blob_pass.cc:191] Failed to compile generated PTX with ptxas. Falling back to compilation by driver.\n",
      "2024-05-22 19:41:22.833264: W tensorflow/compiler/mlir/tools/kernel_gen/transforms/gpu_kernel_to_blob_pass.cc:191] Failed to compile generated PTX with ptxas. Falling back to compilation by driver.\n",
      "2024-05-22 19:41:22.833295: W tensorflow/compiler/mlir/tools/kernel_gen/transforms/gpu_kernel_to_blob_pass.cc:191] Failed to compile generated PTX with ptxas. Falling back to compilation by driver.\n",
      "2024-05-22 19:41:22.833318: W tensorflow/compiler/mlir/tools/kernel_gen/transforms/gpu_kernel_to_blob_pass.cc:191] Failed to compile generated PTX with ptxas. Falling back to compilation by driver.\n",
      "2024-05-22 19:41:22.833340: W tensorflow/compiler/mlir/tools/kernel_gen/transforms/gpu_kernel_to_blob_pass.cc:191] Failed to compile generated PTX with ptxas. Falling back to compilation by driver.\n",
      "2024-05-22 19:41:22.833362: W tensorflow/compiler/mlir/tools/kernel_gen/transforms/gpu_kernel_to_blob_pass.cc:191] Failed to compile generated PTX with ptxas. Falling back to compilation by driver.\n",
      "2024-05-22 19:41:22.835822: W tensorflow/compiler/mlir/tools/kernel_gen/transforms/gpu_kernel_to_blob_pass.cc:191] Failed to compile generated PTX with ptxas. Falling back to compilation by driver.\n",
      "2024-05-22 19:41:22.835852: W tensorflow/compiler/mlir/tools/kernel_gen/transforms/gpu_kernel_to_blob_pass.cc:191] Failed to compile generated PTX with ptxas. Falling back to compilation by driver.\n",
      "2024-05-22 19:41:22.835871: W tensorflow/compiler/mlir/tools/kernel_gen/transforms/gpu_kernel_to_blob_pass.cc:191] Failed to compile generated PTX with ptxas. Falling back to compilation by driver.\n",
      "2024-05-22 19:41:23.029353: W tensorflow/compiler/mlir/tools/kernel_gen/transforms/gpu_kernel_to_blob_pass.cc:191] Failed to compile generated PTX with ptxas. Falling back to compilation by driver.\n",
      "2024-05-22 19:41:23.124836: I external/local_xla/xla/service/service.cc:168] XLA service 0x7f7b21e4dad0 initialized for platform CUDA (this does not guarantee that XLA will be used). Devices:\n",
      "2024-05-22 19:41:23.124871: I external/local_xla/xla/service/service.cc:176]   StreamExecutor device (0): NVIDIA H100 80GB HBM3 MIG 1g.10gb, Compute Capability 9.0\n",
      "WARNING: All log messages before absl::InitializeLog() is called are written to STDERR\n",
      "I0000 00:00:1716406883.185493  618380 device_compiler.h:186] Compiled cluster using XLA!  This line is logged at most once for the lifetime of the process.\n",
      "2024-05-22 19:41:23.301056: W tensorflow/compiler/mlir/tools/kernel_gen/transforms/gpu_kernel_to_blob_pass.cc:191] Failed to compile generated PTX with ptxas. Falling back to compilation by driver.\n"
     ]
    },
    {
     "name": "stdout",
     "output_type": "stream",
     "text": [
      "782/782 [==============================] - 25s 26ms/step - loss: 1.4286 - accuracy: 0.4958 - val_loss: 4.0753 - val_accuracy: 0.2551\n",
      "Epoch 2/100\n",
      "782/782 [==============================] - 19s 24ms/step - loss: 0.9253 - accuracy: 0.6743 - val_loss: 1.0336 - val_accuracy: 0.6744\n",
      "Epoch 3/100\n",
      "782/782 [==============================] - 19s 24ms/step - loss: 0.7549 - accuracy: 0.7399 - val_loss: 0.7903 - val_accuracy: 0.7289\n",
      "Epoch 4/100\n",
      "782/782 [==============================] - 18s 23ms/step - loss: 0.6588 - accuracy: 0.7730 - val_loss: 0.8008 - val_accuracy: 0.7337\n",
      "Epoch 5/100\n",
      "782/782 [==============================] - 19s 24ms/step - loss: 0.5920 - accuracy: 0.7984 - val_loss: 0.7452 - val_accuracy: 0.7582\n",
      "Epoch 6/100\n",
      "782/782 [==============================] - 19s 24ms/step - loss: 0.5513 - accuracy: 0.8106 - val_loss: 0.6060 - val_accuracy: 0.7993\n",
      "Epoch 7/100\n",
      "782/782 [==============================] - 18s 23ms/step - loss: 0.5176 - accuracy: 0.8214 - val_loss: 0.5791 - val_accuracy: 0.8073\n",
      "Epoch 8/100\n",
      "782/782 [==============================] - 18s 23ms/step - loss: 0.4817 - accuracy: 0.8330 - val_loss: 0.6010 - val_accuracy: 0.8118\n",
      "Epoch 9/100\n",
      "782/782 [==============================] - 18s 23ms/step - loss: 0.4571 - accuracy: 0.8434 - val_loss: 0.5321 - val_accuracy: 0.8221\n",
      "Epoch 10/100\n",
      "782/782 [==============================] - 18s 23ms/step - loss: 0.4346 - accuracy: 0.8501 - val_loss: 0.5982 - val_accuracy: 0.8148\n",
      "Epoch 11/100\n",
      "782/782 [==============================] - 18s 23ms/step - loss: 0.4126 - accuracy: 0.8576 - val_loss: 0.5653 - val_accuracy: 0.8195\n",
      "Epoch 12/100\n",
      "782/782 [==============================] - 18s 23ms/step - loss: 0.3988 - accuracy: 0.8623 - val_loss: 0.4817 - val_accuracy: 0.8427\n",
      "Epoch 13/100\n",
      "782/782 [==============================] - 18s 23ms/step - loss: 0.3776 - accuracy: 0.8680 - val_loss: 0.7152 - val_accuracy: 0.7888\n",
      "Epoch 14/100\n",
      "782/782 [==============================] - 18s 23ms/step - loss: 0.3586 - accuracy: 0.8751 - val_loss: 0.5317 - val_accuracy: 0.8311\n",
      "Epoch 15/100\n",
      "782/782 [==============================] - 19s 24ms/step - loss: 0.3496 - accuracy: 0.8788 - val_loss: 0.4975 - val_accuracy: 0.8430\n",
      "Epoch 16/100\n",
      "782/782 [==============================] - 18s 23ms/step - loss: 0.3332 - accuracy: 0.8855 - val_loss: 0.5367 - val_accuracy: 0.8312\n",
      "Epoch 17/100\n",
      "782/782 [==============================] - 18s 23ms/step - loss: 0.3241 - accuracy: 0.8885 - val_loss: 0.4854 - val_accuracy: 0.8473\n",
      "Epoch 18/100\n",
      "782/782 [==============================] - 19s 24ms/step - loss: 0.3103 - accuracy: 0.8920 - val_loss: 0.5142 - val_accuracy: 0.8375\n",
      "Epoch 19/100\n",
      "782/782 [==============================] - 19s 24ms/step - loss: 0.2997 - accuracy: 0.8963 - val_loss: 0.4468 - val_accuracy: 0.8601\n",
      "Epoch 20/100\n",
      "782/782 [==============================] - 18s 23ms/step - loss: 0.2888 - accuracy: 0.9001 - val_loss: 0.4588 - val_accuracy: 0.8545\n",
      "Epoch 21/100\n",
      "782/782 [==============================] - 18s 23ms/step - loss: 0.2815 - accuracy: 0.9004 - val_loss: 0.4580 - val_accuracy: 0.8538\n",
      "Epoch 22/100\n",
      "782/782 [==============================] - 18s 23ms/step - loss: 0.2722 - accuracy: 0.9045 - val_loss: 0.5693 - val_accuracy: 0.8321\n",
      "Epoch 23/100\n",
      "782/782 [==============================] - 19s 24ms/step - loss: 0.2617 - accuracy: 0.9089 - val_loss: 0.5291 - val_accuracy: 0.8337\n",
      "Epoch 24/100\n",
      "782/782 [==============================] - 18s 23ms/step - loss: 0.2552 - accuracy: 0.9110 - val_loss: 0.4456 - val_accuracy: 0.8621\n",
      "Epoch 25/100\n",
      "782/782 [==============================] - 18s 24ms/step - loss: 0.2463 - accuracy: 0.9138 - val_loss: 0.4295 - val_accuracy: 0.8687\n",
      "Epoch 26/100\n",
      "782/782 [==============================] - 19s 24ms/step - loss: 0.2360 - accuracy: 0.9168 - val_loss: 0.4535 - val_accuracy: 0.8638\n",
      "Epoch 27/100\n",
      "782/782 [==============================] - 18s 24ms/step - loss: 0.2338 - accuracy: 0.9178 - val_loss: 0.4202 - val_accuracy: 0.8659\n",
      "Epoch 28/100\n",
      "782/782 [==============================] - 19s 24ms/step - loss: 0.2235 - accuracy: 0.9209 - val_loss: 0.4374 - val_accuracy: 0.8650\n",
      "Epoch 29/100\n",
      "782/782 [==============================] - 20s 25ms/step - loss: 0.2163 - accuracy: 0.9237 - val_loss: 0.4370 - val_accuracy: 0.8711\n",
      "Epoch 30/100\n",
      "782/782 [==============================] - 20s 25ms/step - loss: 0.2107 - accuracy: 0.9267 - val_loss: 0.4294 - val_accuracy: 0.8712\n",
      "Epoch 31/100\n",
      "782/782 [==============================] - 19s 24ms/step - loss: 0.1999 - accuracy: 0.9300 - val_loss: 0.4633 - val_accuracy: 0.8630\n",
      "Epoch 32/100\n",
      "782/782 [==============================] - 20s 25ms/step - loss: 0.1960 - accuracy: 0.9305 - val_loss: 0.4631 - val_accuracy: 0.8654\n",
      "Epoch 33/100\n",
      "782/782 [==============================] - 19s 24ms/step - loss: 0.1863 - accuracy: 0.9348 - val_loss: 0.4241 - val_accuracy: 0.8739\n",
      "Epoch 34/100\n",
      "782/782 [==============================] - 19s 24ms/step - loss: 0.1829 - accuracy: 0.9361 - val_loss: 0.4728 - val_accuracy: 0.8675\n",
      "Epoch 35/100\n",
      "782/782 [==============================] - 19s 24ms/step - loss: 0.1774 - accuracy: 0.9381 - val_loss: 0.4362 - val_accuracy: 0.8729\n",
      "Epoch 36/100\n",
      "782/782 [==============================] - 18s 23ms/step - loss: 0.1769 - accuracy: 0.9375 - val_loss: 0.4623 - val_accuracy: 0.8713\n",
      "Epoch 37/100\n",
      "782/782 [==============================] - 18s 22ms/step - loss: 0.1649 - accuracy: 0.9413 - val_loss: 0.4710 - val_accuracy: 0.8677\n",
      "Epoch 38/100\n",
      "782/782 [==============================] - 18s 23ms/step - loss: 0.1627 - accuracy: 0.9432 - val_loss: 0.4503 - val_accuracy: 0.8743\n",
      "Epoch 39/100\n",
      "782/782 [==============================] - 19s 24ms/step - loss: 0.1516 - accuracy: 0.9467 - val_loss: 0.4349 - val_accuracy: 0.8813\n",
      "Epoch 40/100\n",
      "782/782 [==============================] - 19s 24ms/step - loss: 0.1465 - accuracy: 0.9487 - val_loss: 0.4457 - val_accuracy: 0.8771\n",
      "Epoch 41/100\n",
      "782/782 [==============================] - 18s 24ms/step - loss: 0.1430 - accuracy: 0.9495 - val_loss: 0.4752 - val_accuracy: 0.8768\n",
      "Epoch 42/100\n",
      "782/782 [==============================] - 20s 25ms/step - loss: 0.1393 - accuracy: 0.9508 - val_loss: 0.4697 - val_accuracy: 0.8739\n",
      "Epoch 43/100\n",
      "782/782 [==============================] - 19s 24ms/step - loss: 0.1299 - accuracy: 0.9548 - val_loss: 0.4516 - val_accuracy: 0.8778\n",
      "Epoch 44/100\n",
      "782/782 [==============================] - 19s 24ms/step - loss: 0.1318 - accuracy: 0.9535 - val_loss: 0.4709 - val_accuracy: 0.8729\n",
      "Epoch 45/100\n",
      "782/782 [==============================] - 19s 24ms/step - loss: 0.1236 - accuracy: 0.9558 - val_loss: 0.4507 - val_accuracy: 0.8791\n",
      "Epoch 46/100\n",
      "782/782 [==============================] - 19s 24ms/step - loss: 0.1215 - accuracy: 0.9566 - val_loss: 0.4535 - val_accuracy: 0.8826\n",
      "Epoch 47/100\n",
      "782/782 [==============================] - 19s 24ms/step - loss: 0.1183 - accuracy: 0.9578 - val_loss: 0.4397 - val_accuracy: 0.8846\n",
      "Epoch 48/100\n",
      "782/782 [==============================] - 19s 24ms/step - loss: 0.1132 - accuracy: 0.9597 - val_loss: 0.4474 - val_accuracy: 0.8843\n",
      "Epoch 49/100\n",
      "782/782 [==============================] - 20s 25ms/step - loss: 0.1064 - accuracy: 0.9624 - val_loss: 0.4577 - val_accuracy: 0.8825\n",
      "Epoch 50/100\n",
      "782/782 [==============================] - 19s 24ms/step - loss: 0.1044 - accuracy: 0.9634 - val_loss: 0.4306 - val_accuracy: 0.8910\n",
      "Epoch 51/100\n",
      "782/782 [==============================] - 19s 24ms/step - loss: 0.0977 - accuracy: 0.9651 - val_loss: 0.4493 - val_accuracy: 0.8881\n",
      "Epoch 52/100\n",
      "782/782 [==============================] - 19s 24ms/step - loss: 0.0973 - accuracy: 0.9651 - val_loss: 0.4575 - val_accuracy: 0.8865\n",
      "Epoch 53/100\n",
      "782/782 [==============================] - 18s 23ms/step - loss: 0.0953 - accuracy: 0.9665 - val_loss: 0.4500 - val_accuracy: 0.8886\n",
      "Epoch 54/100\n",
      "782/782 [==============================] - 18s 23ms/step - loss: 0.0869 - accuracy: 0.9692 - val_loss: 0.4491 - val_accuracy: 0.8894\n",
      "Epoch 55/100\n",
      "782/782 [==============================] - 19s 24ms/step - loss: 0.0870 - accuracy: 0.9686 - val_loss: 0.4701 - val_accuracy: 0.8851\n",
      "Epoch 56/100\n",
      "782/782 [==============================] - 18s 23ms/step - loss: 0.0802 - accuracy: 0.9713 - val_loss: 0.4623 - val_accuracy: 0.8889\n",
      "Epoch 57/100\n",
      "782/782 [==============================] - 18s 23ms/step - loss: 0.0814 - accuracy: 0.9709 - val_loss: 0.4665 - val_accuracy: 0.8877\n",
      "Epoch 58/100\n",
      "782/782 [==============================] - 18s 23ms/step - loss: 0.0786 - accuracy: 0.9726 - val_loss: 0.4688 - val_accuracy: 0.8860\n",
      "Epoch 59/100\n",
      "782/782 [==============================] - 18s 23ms/step - loss: 0.0757 - accuracy: 0.9732 - val_loss: 0.4588 - val_accuracy: 0.8909\n",
      "Epoch 60/100\n",
      "782/782 [==============================] - 18s 23ms/step - loss: 0.0721 - accuracy: 0.9738 - val_loss: 0.4635 - val_accuracy: 0.8907\n",
      "Epoch 61/100\n",
      "782/782 [==============================] - 19s 24ms/step - loss: 0.0698 - accuracy: 0.9757 - val_loss: 0.4623 - val_accuracy: 0.8908\n",
      "Epoch 62/100\n",
      "782/782 [==============================] - 18s 24ms/step - loss: 0.0667 - accuracy: 0.9765 - val_loss: 0.4621 - val_accuracy: 0.8898\n",
      "Epoch 63/100\n",
      "782/782 [==============================] - 18s 23ms/step - loss: 0.0651 - accuracy: 0.9769 - val_loss: 0.4736 - val_accuracy: 0.8875\n",
      "Epoch 64/100\n",
      "782/782 [==============================] - 18s 23ms/step - loss: 0.0647 - accuracy: 0.9774 - val_loss: 0.4706 - val_accuracy: 0.8907\n",
      "Epoch 65/100\n",
      "782/782 [==============================] - 18s 23ms/step - loss: 0.0608 - accuracy: 0.9785 - val_loss: 0.4688 - val_accuracy: 0.8908\n",
      "Epoch 66/100\n",
      "782/782 [==============================] - 18s 23ms/step - loss: 0.0588 - accuracy: 0.9790 - val_loss: 0.4725 - val_accuracy: 0.8904\n",
      "Epoch 67/100\n",
      "782/782 [==============================] - 18s 23ms/step - loss: 0.0614 - accuracy: 0.9786 - val_loss: 0.4762 - val_accuracy: 0.8908\n",
      "Epoch 68/100\n",
      "782/782 [==============================] - 18s 23ms/step - loss: 0.0609 - accuracy: 0.9789 - val_loss: 0.4702 - val_accuracy: 0.8921\n",
      "Epoch 69/100\n",
      "782/782 [==============================] - 18s 23ms/step - loss: 0.0541 - accuracy: 0.9811 - val_loss: 0.4732 - val_accuracy: 0.8932\n",
      "Epoch 70/100\n",
      "782/782 [==============================] - 19s 24ms/step - loss: 0.0564 - accuracy: 0.9798 - val_loss: 0.4730 - val_accuracy: 0.8914\n",
      "Epoch 71/100\n",
      "782/782 [==============================] - 19s 24ms/step - loss: 0.0545 - accuracy: 0.9804 - val_loss: 0.4680 - val_accuracy: 0.8938\n",
      "Epoch 72/100\n",
      "782/782 [==============================] - 19s 24ms/step - loss: 0.0557 - accuracy: 0.9801 - val_loss: 0.4752 - val_accuracy: 0.8927\n",
      "Epoch 73/100\n",
      "782/782 [==============================] - 18s 23ms/step - loss: 0.0554 - accuracy: 0.9801 - val_loss: 0.4770 - val_accuracy: 0.8916\n",
      "Epoch 74/100\n",
      "782/782 [==============================] - 18s 24ms/step - loss: 0.0515 - accuracy: 0.9816 - val_loss: 0.4783 - val_accuracy: 0.8922\n",
      "Epoch 75/100\n",
      "782/782 [==============================] - 19s 24ms/step - loss: 0.0514 - accuracy: 0.9818 - val_loss: 0.4759 - val_accuracy: 0.8932\n",
      "Epoch 76/100\n",
      "782/782 [==============================] - 19s 24ms/step - loss: 0.0515 - accuracy: 0.9819 - val_loss: 0.4751 - val_accuracy: 0.8929\n",
      "Epoch 77/100\n",
      "782/782 [==============================] - 18s 24ms/step - loss: 0.0496 - accuracy: 0.9827 - val_loss: 0.4752 - val_accuracy: 0.8933\n",
      "Epoch 78/100\n",
      "782/782 [==============================] - 20s 25ms/step - loss: 0.0508 - accuracy: 0.9815 - val_loss: 0.4763 - val_accuracy: 0.8926\n",
      "Epoch 79/100\n",
      "782/782 [==============================] - 20s 25ms/step - loss: 0.0525 - accuracy: 0.9820 - val_loss: 0.4753 - val_accuracy: 0.8928\n",
      "Epoch 80/100\n",
      "782/782 [==============================] - 19s 25ms/step - loss: 0.0483 - accuracy: 0.9831 - val_loss: 0.4778 - val_accuracy: 0.8913\n",
      "Epoch 81/100\n",
      "782/782 [==============================] - 19s 24ms/step - loss: 0.0503 - accuracy: 0.9822 - val_loss: 0.4761 - val_accuracy: 0.8925\n",
      "Epoch 82/100\n",
      "782/782 [==============================] - 19s 24ms/step - loss: 0.0491 - accuracy: 0.9829 - val_loss: 0.4784 - val_accuracy: 0.8920\n",
      "Epoch 83/100\n",
      "782/782 [==============================] - 19s 24ms/step - loss: 0.0516 - accuracy: 0.9821 - val_loss: 0.4749 - val_accuracy: 0.8934\n",
      "Epoch 84/100\n",
      "782/782 [==============================] - 18s 24ms/step - loss: 0.0512 - accuracy: 0.9824 - val_loss: 0.4773 - val_accuracy: 0.8932\n",
      "Epoch 85/100\n",
      "782/782 [==============================] - 18s 23ms/step - loss: 0.0489 - accuracy: 0.9831 - val_loss: 0.4749 - val_accuracy: 0.8927\n",
      "Epoch 86/100\n",
      "782/782 [==============================] - 18s 23ms/step - loss: 0.0533 - accuracy: 0.9813 - val_loss: 0.4737 - val_accuracy: 0.8925\n",
      "Epoch 87/100\n",
      "782/782 [==============================] - 17s 22ms/step - loss: 0.0507 - accuracy: 0.9825 - val_loss: 0.4757 - val_accuracy: 0.8929\n",
      "Epoch 88/100\n",
      "782/782 [==============================] - 18s 22ms/step - loss: 0.0491 - accuracy: 0.9834 - val_loss: 0.4749 - val_accuracy: 0.8930\n",
      "Epoch 89/100\n",
      "782/782 [==============================] - 18s 23ms/step - loss: 0.0532 - accuracy: 0.9809 - val_loss: 0.4748 - val_accuracy: 0.8930\n",
      "Epoch 90/100\n",
      "782/782 [==============================] - 18s 22ms/step - loss: 0.0520 - accuracy: 0.9821 - val_loss: 0.4771 - val_accuracy: 0.8927\n",
      "Epoch 91/100\n",
      "782/782 [==============================] - 18s 23ms/step - loss: 0.0503 - accuracy: 0.9829 - val_loss: 0.4742 - val_accuracy: 0.8930\n",
      "Epoch 92/100\n",
      "782/782 [==============================] - 19s 24ms/step - loss: 0.0512 - accuracy: 0.9818 - val_loss: 0.4765 - val_accuracy: 0.8925\n",
      "Epoch 93/100\n",
      "782/782 [==============================] - 19s 24ms/step - loss: 0.0529 - accuracy: 0.9809 - val_loss: 0.4781 - val_accuracy: 0.8922\n",
      "Epoch 94/100\n",
      "782/782 [==============================] - 19s 25ms/step - loss: 0.0505 - accuracy: 0.9821 - val_loss: 0.4770 - val_accuracy: 0.8925\n",
      "Epoch 95/100\n",
      "782/782 [==============================] - 18s 23ms/step - loss: 0.0494 - accuracy: 0.9832 - val_loss: 0.4760 - val_accuracy: 0.8923\n",
      "Epoch 96/100\n",
      "782/782 [==============================] - 19s 24ms/step - loss: 0.0491 - accuracy: 0.9827 - val_loss: 0.4779 - val_accuracy: 0.8926\n",
      "Epoch 97/100\n",
      "782/782 [==============================] - 18s 23ms/step - loss: 0.0514 - accuracy: 0.9814 - val_loss: 0.4767 - val_accuracy: 0.8921\n",
      "Epoch 98/100\n",
      "782/782 [==============================] - 19s 24ms/step - loss: 0.0507 - accuracy: 0.9820 - val_loss: 0.4778 - val_accuracy: 0.8927\n",
      "Epoch 99/100\n",
      "782/782 [==============================] - 19s 24ms/step - loss: 0.0499 - accuracy: 0.9829 - val_loss: 0.4771 - val_accuracy: 0.8924\n",
      "Epoch 100/100\n",
      "782/782 [==============================] - 19s 24ms/step - loss: 0.0522 - accuracy: 0.9815 - val_loss: 0.4770 - val_accuracy: 0.8929\n"
     ]
    }
   ],
   "source": [
    "model = dropout_model()\n",
    "results = train(model, trainX, trainY, testX, testY)"
   ]
  },
  {
   "cell_type": "code",
   "execution_count": 8,
   "metadata": {
    "colab": {
     "base_uri": "https://localhost:8080/",
     "height": 904
    },
    "executionInfo": {
     "elapsed": 2168,
     "status": "ok",
     "timestamp": 1715793363574,
     "user": {
      "displayName": "Jonatan Hyberg",
      "userId": "02103785444766429018"
     },
     "user_tz": -120
    },
    "id": "yNdQN-nnCTUk",
    "outputId": "fc0a0793-fbbc-436a-b9b3-5941ca4db1ca"
   },
   "outputs": [
    {
     "data": {
      "image/png": "[encoded data removed]",
      "text/plain": [
       "<Figure size 640x480 with 1 Axes>"
      ]
     },
     "metadata": {},
     "output_type": "display_data"
    },
    {
     "data": {
      "image/png": "[encoded data removed]",
      "text/plain": [
       "<Figure size 640x480 with 1 Axes>"
      ]
     },
     "metadata": {},
     "output_type": "display_data"
    },
    {
     "name": "stdout",
     "output_type": "stream",
     "text": [
      "The model achieved a final accuracy of 89.29%\n"
     ]
    }
   ],
   "source": [
    "plot_results(results.history)\n",
    "evaluate(model, testX, testY)"
   ]
  },
  {
   "cell_type": "code",
   "execution_count": 9,
   "metadata": {
    "executionInfo": {
     "elapsed": 301,
     "status": "ok",
     "timestamp": 1715793629457,
     "user": {
      "displayName": "Jonatan Hyberg",
      "userId": "02103785444766429018"
     },
     "user_tz": -120
    },
    "id": "VmsurzVECTUk"
   },
   "outputs": [],
   "source": [
    "save_model('CE_no_noise', model)\n",
    "save_history('CE_no_noise', results.history)"
   ]
  }
 ],
 "metadata": {
  "accelerator": "GPU",
  "colab": {
   "gpuType": "T4",
   "provenance": [
    {
     "file_id": "1irCtCvrPih104WASUJu-j-MZJMXLKCEy",
     "timestamp": 1715782757909
    }
   ]
  },
  "kernelspec": {
   "display_name": "Python 3 (ipykernel)",
   "language": "python",
   "name": "python3"
  },
  "language_info": {
   "codemirror_mode": {
    "name": "ipython",
    "version": 3
   },
   "file_extension": ".py",
   "mimetype": "text/x-python",
   "name": "python",
   "nbconvert_exporter": "python",
   "pygments_lexer": "ipython3",
   "version": "3.10.13"
  }
 },
 "nbformat": 4,
 "nbformat_minor": 4
}
