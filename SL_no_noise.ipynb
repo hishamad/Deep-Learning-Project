{
 "cells": [
  {
   "cell_type": "code",
   "execution_count": 1,
   "metadata": {
    "executionInfo": {
     "elapsed": 4900,
     "status": "ok",
     "timestamp": 1715782928249,
     "user": {
      "displayName": "Jonatan Hyberg",
      "userId": "02103785444766429018"
     },
     "user_tz": -120
    },
    "id": "kyqOgTWzCTUX"
   },
   "outputs": [
    {
     "name": "stderr",
     "output_type": "stream",
     "text": [
      "2024-05-22 21:00:42.844988: I tensorflow/core/util/port.cc:113] oneDNN custom operations are on. You may see slightly different numerical results due to floating-point round-off errors from different computation orders. To turn them off, set the environment variable `TF_ENABLE_ONEDNN_OPTS=0`.\n",
      "2024-05-22 21:00:42.880291: E external/local_xla/xla/stream_executor/cuda/cuda_dnn.cc:9261] Unable to register cuDNN factory: Attempting to register factory for plugin cuDNN when one has already been registered\n",
      "2024-05-22 21:00:42.880324: E external/local_xla/xla/stream_executor/cuda/cuda_fft.cc:607] Unable to register cuFFT factory: Attempting to register factory for plugin cuFFT when one has already been registered\n",
      "2024-05-22 21:00:42.881296: E external/local_xla/xla/stream_executor/cuda/cuda_blas.cc:1515] Unable to register cuBLAS factory: Attempting to register factory for plugin cuBLAS when one has already been registered\n",
      "2024-05-22 21:00:42.887714: I tensorflow/core/platform/cpu_feature_guard.cc:182] This TensorFlow binary is optimized to use available CPU instructions in performance-critical operations.\n",
      "To enable the following instructions: AVX2 AVX512F AVX512_VNNI AVX512_BF16 AVX_VNNI AMX_TILE AMX_INT8 AMX_BF16 FMA, in other operations, rebuild TensorFlow with the appropriate compiler flags.\n"
     ]
    }
   ],
   "source": [
    "import sys\n",
    "import tensorflow as tf\n",
    "import matplotlib.pyplot as plt\n",
    "from tensorflow.keras.datasets import cifar10\n",
    "from tensorflow.keras.layers import Conv2D\n",
    "from tensorflow.keras.layers import MaxPooling2D\n",
    "from tensorflow.keras.layers import Dense\n",
    "from tensorflow.keras.layers import Flatten\n",
    "from tensorflow.keras.utils import to_categorical\n",
    "from tensorflow.keras.models import Sequential\n",
    "from tensorflow.keras.optimizers import SGD\n",
    "from keras.layers import Dropout\n",
    "from tensorflow.keras.preprocessing.image import ImageDataGenerator\n",
    "# from cosine_annealing import CosineAnnealingScheduler\n",
    "from keras.layers import BatchNormalization\n",
    "import pickle\n",
    "from keras.regularizers import l2\n",
    "from  scipy import ndimage\n",
    "import numpy as np"
   ]
  },
  {
   "cell_type": "markdown",
   "metadata": {
    "id": "y67Ec5FICTUd"
   },
   "source": [
    "#### Dataset\n"
   ]
  },
  {
   "cell_type": "markdown",
   "metadata": {
    "id": "CYNU45pfCTUf"
   },
   "source": [
    "Load dataset + One-hot encoding + Normalization"
   ]
  },
  {
   "cell_type": "code",
   "execution_count": 2,
   "metadata": {
    "executionInfo": {
     "elapsed": 495,
     "status": "ok",
     "timestamp": 1715782996141,
     "user": {
      "displayName": "Jonatan Hyberg",
      "userId": "02103785444766429018"
     },
     "user_tz": -120
    },
    "id": "o8BGn2ZOCTUg"
   },
   "outputs": [],
   "source": [
    "def load_dataset(noise_ratio=0, sym=True):\n",
    "    (trainX, trainY), (testX, testY) = cifar10.load_data()\n",
    "    n_classes = 10\n",
    "\n",
    "    if noise_ratio > 0:\n",
    "        trainY_original = np.copy(trainY)\n",
    "        if not sym:\n",
    "            # Asymmetric noise\n",
    "            source_class = [9, 2, 3, 5, 4]\n",
    "            target_class = [1, 0, 5, 3, 7]\n",
    "            \n",
    "            for s, t in zip(source_class, target_class):\n",
    "                cls_idx = np.where(trainY_original == s)[0]\n",
    "                n_noisy = int(noise_ratio * cls_idx.shape[0] / 100)\n",
    "                noisy_sample_index = np.random.choice(cls_idx, n_noisy, replace=False)\n",
    "                trainY[noisy_sample_index] = t\n",
    "        else:\n",
    "            # Symetric noise\n",
    "            n_samples = trainY.shape[0]\n",
    "            n_noisy = int(noise_ratio * n_samples / 100)\n",
    "            class_index = [np.where(trainY_original == i)[0] for i in range(n_classes)]\n",
    "            class_noisy = int(n_noisy / n_classes)\n",
    "\n",
    "            noisy_idx = []\n",
    "            for d in range(n_classes):\n",
    "                noisy_class_index = np.random.choice(class_index[d], class_noisy, replace=False)\n",
    "                noisy_idx.extend(noisy_class_index)\n",
    "\n",
    "            for i in noisy_idx:\n",
    "                class_ind = trainY_original[i]\n",
    "                other_class_list = list(range(n_classes))\n",
    "                other_class_list.remove(class_ind)\n",
    "                other_class = np.random.choice(other_class_list)\n",
    "                trainY[i] = other_class\n",
    "        \n",
    "    # One-hot encoding\n",
    "    trainY = to_categorical(trainY)\n",
    "    testY = to_categorical(testY)\n",
    "    # Normalize to [0,1]\n",
    "    trainX = trainX.astype('float32') / 255.0\n",
    "    testX = testX.astype('float32') / 255.0\n",
    "\n",
    "    return trainX, trainY, testX, testY"
   ]
  },
  {
   "cell_type": "markdown",
   "metadata": {
    "id": "-eHdUCx4CTUg"
   },
   "source": [
    "#### Model"
   ]
  },
  {
   "cell_type": "markdown",
   "metadata": {
    "id": "_ZUdh8aqCTUh"
   },
   "source": [
    "Imortant functions"
   ]
  },
  {
   "cell_type": "code",
   "execution_count": 3,
   "metadata": {
    "executionInfo": {
     "elapsed": 2,
     "status": "ok",
     "timestamp": 1715784774519,
     "user": {
      "displayName": "Jonatan Hyberg",
      "userId": "02103785444766429018"
     },
     "user_tz": -120
    },
    "id": "BGpONL8FCTUh"
   },
   "outputs": [],
   "source": [
    "def train(model, trainX, trainY, testX, testY):\n",
    "\n",
    "\tgenerator = ImageDataGenerator(width_shift_range=0.1, height_shift_range=0.1, horizontal_flip=True)\n",
    "\n",
    "\ttrain_data = generator.flow(trainX, trainY, batch_size=64)\n",
    "\n",
    "\tresults = model.fit(train_data, epochs=100, validation_data=(testX, testY), verbose=1)\n",
    "\n",
    "\treturn results\n",
    "\n",
    "def evaluate(model, testX, testY):\n",
    "    _, acc = model.evaluate(testX, testY, verbose=0)\n",
    "\n",
    "    print(f\"The model achieved a final accuracy of {acc*100:.2f}%\")\n",
    "\n",
    "def plot_results(history):\n",
    "\tplt.title('Cross Entropy Loss')\n",
    "\tplt.plot(history['loss'], color='blue', label='Training loss')\n",
    "\tplt.plot(history['val_loss'], color='orange', label='Validation/test loss')\n",
    "\tplt.legend()\n",
    "\tplt.show()\n",
    "\n",
    "\tplt.title('Classification Accuracy')\n",
    "\tplt.plot(history['accuracy'], color='blue', label='Training accuracy')\n",
    "\tplt.plot(history['val_accuracy'], color='orange', label='Validation/test accuracy')\n",
    "\tplt.legend()\n",
    "\tplt.show()"
   ]
  },
  {
   "cell_type": "code",
   "execution_count": 4,
   "metadata": {
    "executionInfo": {
     "elapsed": 2,
     "status": "ok",
     "timestamp": 1715783002196,
     "user": {
      "displayName": "Jonatan Hyberg",
      "userId": "02103785444766429018"
     },
     "user_tz": -120
    },
    "id": "Ls19xeC0CTUi"
   },
   "outputs": [],
   "source": [
    "def save_model(filename, model):\n",
    "    filename = './models/' + filename\n",
    "    pickle.dump(model, open(filename, 'wb'))\n",
    "\n",
    "def save_history(filename, history):\n",
    "    filename = './history/' + filename\n",
    "    pickle.dump(history, open(filename, 'wb'))\n",
    "\n",
    "def load_model(filename):\n",
    "    filename = './models/' + filename\n",
    "    model = pickle.load(open(filename, 'rb'))\n",
    "    return model\n",
    "\n",
    "def load_history(filename):\n",
    "    filename = './history/' + filename\n",
    "    history = pickle.load(open(filename, 'rb'))\n",
    "    return history"
   ]
  },
  {
   "cell_type": "markdown",
   "metadata": {},
   "source": [
    "SL loss function"
   ]
  },
  {
   "cell_type": "markdown",
   "metadata": {},
   "source": [
    "https://github.com/YisenWang/symmetric_cross_entropy_for_noisy_labels/blob/master/loss.py"
   ]
  },
  {
   "cell_type": "code",
   "execution_count": 5,
   "metadata": {},
   "outputs": [],
   "source": [
    "def symmetric_cross_entropy(y_true, y_pred):\n",
    "    alpha = 0.1\n",
    "    beta = 1.0\n",
    "    y_true_1 = y_true\n",
    "    y_pred_1 = y_pred\n",
    "\n",
    "    y_true_2 = y_true\n",
    "    y_pred_2 = y_pred\n",
    "\n",
    "    y_pred_1 = tf.clip_by_value(y_pred_1, 1e-7, 1.0)\n",
    "    y_true_2 = tf.clip_by_value(y_true_2, 1e-4, 1.0)\n",
    "\n",
    "    return alpha*tf.math.reduce_mean(-tf.math.reduce_sum(y_true_1 * tf.math.log(y_pred_1), axis = -1)) + beta*tf.math.reduce_mean(-tf.math.reduce_sum(y_pred_2 * tf.math.log(y_true_2), axis = -1))\n"
   ]
  },
  {
   "cell_type": "markdown",
   "metadata": {
    "id": "fXqNA_VcCTUj"
   },
   "source": [
    "Baseline model"
   ]
  },
  {
   "cell_type": "code",
   "execution_count": 6,
   "metadata": {
    "executionInfo": {
     "elapsed": 4,
     "status": "ok",
     "timestamp": 1715789630290,
     "user": {
      "displayName": "Jonatan Hyberg",
      "userId": "02103785444766429018"
     },
     "user_tz": -120
    },
    "id": "C9xaw4BBCTUj"
   },
   "outputs": [],
   "source": [
    "def dropout_model():\n",
    "    # Create architecture\n",
    "    model = Sequential()\n",
    "    model.add(Conv2D(32, (3, 3), activation='relu', kernel_initializer='he_uniform', padding='same', input_shape=(32, 32, 3)))\n",
    "    model.add(BatchNormalization())\n",
    "    model.add(Conv2D(32, (3, 3), activation='relu', kernel_initializer='he_uniform', padding='same'))\n",
    "    model.add(BatchNormalization())\n",
    "    model.add(MaxPooling2D((2, 2)))\n",
    "    # model.add(Dropout(0.2))\n",
    "    model.add(Conv2D(64, (3, 3), activation='relu', kernel_initializer='he_uniform', padding='same'))\n",
    "    model.add(BatchNormalization())\n",
    "    model.add(Conv2D(64, (3, 3), activation='relu', kernel_initializer='he_uniform', padding='same'))\n",
    "    model.add(BatchNormalization())\n",
    "    model.add(MaxPooling2D((2, 2)))\n",
    "    # model.add(Dropout(0.3))\n",
    "    model.add(Conv2D(128, (3, 3), activation='relu', kernel_initializer='he_uniform', padding='same'))\n",
    "    model.add(BatchNormalization())\n",
    "    model.add(Conv2D(128, (3, 3), activation='relu', kernel_initializer='he_uniform', padding='same'))\n",
    "    model.add(BatchNormalization())\n",
    "    model.add(MaxPooling2D((2, 2)))\n",
    "    # model.add(Dropout(0.4))\n",
    "    model.add(Flatten())\n",
    "    model.add(Dense(128, activation='relu', kernel_initializer='he_uniform'))\n",
    "    model.add(BatchNormalization())\n",
    "    # model.add(Dropout(0.5))\n",
    "    model.add(Dense(10, activation='softmax'))\n",
    "\n",
    "    total_steps = int(trainX.shape[0]/64) * 100\n",
    "    decay_steps = total_steps*0.8\n",
    "    initial_learning_rate = 0.0001\n",
    "    warmup_steps = 1000\n",
    "    target_learning_rate = 0.1\n",
    "    alpha_2 = 0.001\n",
    "\n",
    "    lr_warmup_decayed_fn = tf.keras.optimizers.schedules.CosineDecay(\n",
    "        initial_learning_rate, decay_steps, warmup_target=target_learning_rate,\n",
    "        warmup_steps=warmup_steps,alpha = alpha_2\n",
    "    )\n",
    "    # Optimization method\n",
    "    opt = SGD(learning_rate=lr_warmup_decayed_fn, momentum=0.9)\n",
    "\n",
    "    # Compile model and choose loss type\n",
    "    model.compile(optimizer=opt, loss=symmetric_cross_entropy, metrics=['accuracy'])\n",
    "    return model"
   ]
  },
  {
   "cell_type": "code",
   "execution_count": 7,
   "metadata": {
    "colab": {
     "base_uri": "https://localhost:8080/"
    },
    "executionInfo": {
     "elapsed": 9036,
     "status": "ok",
     "timestamp": 1715783015758,
     "user": {
      "displayName": "Jonatan Hyberg",
      "userId": "02103785444766429018"
     },
     "user_tz": -120
    },
    "id": "q_FZ9SNHCTUj",
    "outputId": "db089f9d-58a3-4b4e-c9d6-6d4208bdcd7f"
   },
   "outputs": [],
   "source": [
    "trainX, trainY, testX, testY = load_dataset(noise_ratio=0, sym=True)"
   ]
  },
  {
   "cell_type": "code",
   "execution_count": 8,
   "metadata": {
    "colab": {
     "base_uri": "https://localhost:8080/"
    },
    "executionInfo": {
     "elapsed": 3670727,
     "status": "ok",
     "timestamp": 1715793305366,
     "user": {
      "displayName": "Jonatan Hyberg",
      "userId": "02103785444766429018"
     },
     "user_tz": -120
    },
    "id": "5aSe_cO4CTUk",
    "outputId": "490b509f-4efa-4d66-cae6-6271c8a1ee29"
   },
   "outputs": [
    {
     "name": "stderr",
     "output_type": "stream",
     "text": [
      "2024-05-22 21:00:46.213186: W tensorflow/core/common_runtime/gpu/gpu_device.cc:2348] TensorFlow was not built with CUDA kernel binaries compatible with compute capability 9.0. CUDA kernels will be jit-compiled from PTX, which could take 30 minutes or longer.\n",
      "2024-05-22 21:00:46.228145: W tensorflow/core/common_runtime/gpu/gpu_device.cc:2348] TensorFlow was not built with CUDA kernel binaries compatible with compute capability 9.0. CUDA kernels will be jit-compiled from PTX, which could take 30 minutes or longer.\n",
      "2024-05-22 21:00:46.388594: I tensorflow/core/common_runtime/gpu/gpu_device.cc:1929] Created device /job:localhost/replica:0/task:0/device:GPU:0 with 8077 MB memory:  -> device: 0, name: NVIDIA H100 80GB HBM3 MIG 1g.10gb, pci bus id: 0000:df:00.0, compute capability: 9.0\n",
      "2024-05-22 21:00:46.795971: W external/local_xla/xla/stream_executor/gpu/asm_compiler.cc:225] Falling back to the CUDA driver for PTX compilation; ptxas does not support CC 9.0\n",
      "2024-05-22 21:00:46.795996: W external/local_xla/xla/stream_executor/gpu/asm_compiler.cc:228] Used ptxas at ptxas\n",
      "2024-05-22 21:00:46.796044: W tensorflow/compiler/mlir/tools/kernel_gen/transforms/gpu_kernel_to_blob_pass.cc:191] Failed to compile generated PTX with ptxas. Falling back to compilation by driver.\n",
      "2024-05-22 21:00:46.796060: W tensorflow/compiler/mlir/tools/kernel_gen/transforms/gpu_kernel_to_blob_pass.cc:191] Failed to compile generated PTX with ptxas. Falling back to compilation by driver.\n",
      "2024-05-22 21:00:46.796082: W tensorflow/compiler/mlir/tools/kernel_gen/transforms/gpu_kernel_to_blob_pass.cc:191] Failed to compile generated PTX with ptxas. Falling back to compilation by driver.\n",
      "2024-05-22 21:00:46.796095: W tensorflow/compiler/mlir/tools/kernel_gen/transforms/gpu_kernel_to_blob_pass.cc:191] Failed to compile generated PTX with ptxas. Falling back to compilation by driver.\n",
      "2024-05-22 21:00:46.796109: W tensorflow/compiler/mlir/tools/kernel_gen/transforms/gpu_kernel_to_blob_pass.cc:191] Failed to compile generated PTX with ptxas. Falling back to compilation by driver.\n",
      "2024-05-22 21:00:46.796127: W tensorflow/compiler/mlir/tools/kernel_gen/transforms/gpu_kernel_to_blob_pass.cc:191] Failed to compile generated PTX with ptxas. Falling back to compilation by driver.\n",
      "2024-05-22 21:00:46.796140: W tensorflow/compiler/mlir/tools/kernel_gen/transforms/gpu_kernel_to_blob_pass.cc:191] Failed to compile generated PTX with ptxas. Falling back to compilation by driver.\n",
      "2024-05-22 21:00:46.796160: W tensorflow/compiler/mlir/tools/kernel_gen/transforms/gpu_kernel_to_blob_pass.cc:191] Failed to compile generated PTX with ptxas. Falling back to compilation by driver.\n"
     ]
    },
    {
     "name": "stdout",
     "output_type": "stream",
     "text": [
      "Epoch 1/100\n"
     ]
    },
    {
     "name": "stderr",
     "output_type": "stream",
     "text": [
      "2024-05-22 21:00:48.384351: I external/local_xla/xla/stream_executor/cuda/cuda_dnn.cc:454] Loaded cuDNN version 8907\n",
      "2024-05-22 21:00:48.408335: W tensorflow/compiler/mlir/tools/kernel_gen/transforms/gpu_kernel_to_blob_pass.cc:191] Failed to compile generated PTX with ptxas. Falling back to compilation by driver.\n",
      "2024-05-22 21:00:48.408440: W tensorflow/compiler/mlir/tools/kernel_gen/transforms/gpu_kernel_to_blob_pass.cc:191] Failed to compile generated PTX with ptxas. Falling back to compilation by driver.\n",
      "2024-05-22 21:00:48.408922: W tensorflow/compiler/mlir/tools/kernel_gen/transforms/gpu_kernel_to_blob_pass.cc:191] Failed to compile generated PTX with ptxas. Falling back to compilation by driver.\n",
      "2024-05-22 21:00:48.408966: W tensorflow/compiler/mlir/tools/kernel_gen/transforms/gpu_kernel_to_blob_pass.cc:191] Failed to compile generated PTX with ptxas. Falling back to compilation by driver.\n",
      "2024-05-22 21:00:48.411031: W tensorflow/compiler/mlir/tools/kernel_gen/transforms/gpu_kernel_to_blob_pass.cc:191] Failed to compile generated PTX with ptxas. Falling back to compilation by driver.\n",
      "2024-05-22 21:00:48.411370: W tensorflow/compiler/mlir/tools/kernel_gen/transforms/gpu_kernel_to_blob_pass.cc:191] Failed to compile generated PTX with ptxas. Falling back to compilation by driver.\n",
      "2024-05-22 21:00:48.416622: W tensorflow/compiler/mlir/tools/kernel_gen/transforms/gpu_kernel_to_blob_pass.cc:191] Failed to compile generated PTX with ptxas. Falling back to compilation by driver.\n",
      "2024-05-22 21:00:48.416758: W tensorflow/compiler/mlir/tools/kernel_gen/transforms/gpu_kernel_to_blob_pass.cc:191] Failed to compile generated PTX with ptxas. Falling back to compilation by driver.\n",
      "2024-05-22 21:00:48.468553: W external/local_xla/xla/stream_executor/gpu/redzone_allocator.cc:322] UNIMPLEMENTED: ptxas ptxas too old. Falling back to the driver to compile.\n",
      "Relying on driver to perform ptx compilation. \n",
      "Modify $PATH to customize ptxas location.\n",
      "This message will be only logged once.\n",
      "2024-05-22 21:00:48.595929: W tensorflow/compiler/mlir/tools/kernel_gen/transforms/gpu_kernel_to_blob_pass.cc:191] Failed to compile generated PTX with ptxas. Falling back to compilation by driver.\n",
      "2024-05-22 21:00:48.806119: W tensorflow/compiler/mlir/tools/kernel_gen/transforms/gpu_kernel_to_blob_pass.cc:191] Failed to compile generated PTX with ptxas. Falling back to compilation by driver.\n",
      "2024-05-22 21:00:48.906844: W tensorflow/compiler/mlir/tools/kernel_gen/transforms/gpu_kernel_to_blob_pass.cc:191] Failed to compile generated PTX with ptxas. Falling back to compilation by driver.\n",
      "2024-05-22 21:00:48.906879: W tensorflow/compiler/mlir/tools/kernel_gen/transforms/gpu_kernel_to_blob_pass.cc:191] Failed to compile generated PTX with ptxas. Falling back to compilation by driver.\n",
      "2024-05-22 21:00:48.907047: W tensorflow/compiler/mlir/tools/kernel_gen/transforms/gpu_kernel_to_blob_pass.cc:191] Failed to compile generated PTX with ptxas. Falling back to compilation by driver.\n",
      "2024-05-22 21:00:48.908699: W tensorflow/compiler/mlir/tools/kernel_gen/transforms/gpu_kernel_to_blob_pass.cc:191] Failed to compile generated PTX with ptxas. Falling back to compilation by driver.\n",
      "2024-05-22 21:00:48.908742: W tensorflow/compiler/mlir/tools/kernel_gen/transforms/gpu_kernel_to_blob_pass.cc:191] Failed to compile generated PTX with ptxas. Falling back to compilation by driver.\n",
      "2024-05-22 21:00:48.909652: W tensorflow/compiler/mlir/tools/kernel_gen/transforms/gpu_kernel_to_blob_pass.cc:191] Failed to compile generated PTX with ptxas. Falling back to compilation by driver.\n",
      "2024-05-22 21:00:48.912181: W tensorflow/compiler/mlir/tools/kernel_gen/transforms/gpu_kernel_to_blob_pass.cc:191] Failed to compile generated PTX with ptxas. Falling back to compilation by driver.\n",
      "2024-05-22 21:00:48.913032: W tensorflow/compiler/mlir/tools/kernel_gen/transforms/gpu_kernel_to_blob_pass.cc:191] Failed to compile generated PTX with ptxas. Falling back to compilation by driver.\n",
      "2024-05-22 21:00:49.094650: W tensorflow/compiler/mlir/tools/kernel_gen/transforms/gpu_kernel_to_blob_pass.cc:191] Failed to compile generated PTX with ptxas. Falling back to compilation by driver.\n",
      "2024-05-22 21:00:49.181681: W tensorflow/compiler/mlir/tools/kernel_gen/transforms/gpu_kernel_to_blob_pass.cc:191] Failed to compile generated PTX with ptxas. Falling back to compilation by driver.\n",
      "2024-05-22 21:00:49.233610: W tensorflow/compiler/mlir/tools/kernel_gen/transforms/gpu_kernel_to_blob_pass.cc:191] Failed to compile generated PTX with ptxas. Falling back to compilation by driver.\n",
      "2024-05-22 21:00:49.265722: W tensorflow/compiler/mlir/tools/kernel_gen/transforms/gpu_kernel_to_blob_pass.cc:191] Failed to compile generated PTX with ptxas. Falling back to compilation by driver.\n",
      "2024-05-22 21:00:49.417501: W tensorflow/compiler/mlir/tools/kernel_gen/transforms/gpu_kernel_to_blob_pass.cc:191] Failed to compile generated PTX with ptxas. Falling back to compilation by driver.\n",
      "2024-05-22 21:00:49.417532: W tensorflow/compiler/mlir/tools/kernel_gen/transforms/gpu_kernel_to_blob_pass.cc:191] Failed to compile generated PTX with ptxas. Falling back to compilation by driver.\n",
      "2024-05-22 21:00:49.420383: W tensorflow/compiler/mlir/tools/kernel_gen/transforms/gpu_kernel_to_blob_pass.cc:191] Failed to compile generated PTX with ptxas. Falling back to compilation by driver.\n",
      "2024-05-22 21:00:49.420437: W tensorflow/compiler/mlir/tools/kernel_gen/transforms/gpu_kernel_to_blob_pass.cc:191] Failed to compile generated PTX with ptxas. Falling back to compilation by driver.\n",
      "2024-05-22 21:00:49.422659: W tensorflow/compiler/mlir/tools/kernel_gen/transforms/gpu_kernel_to_blob_pass.cc:191] Failed to compile generated PTX with ptxas. Falling back to compilation by driver.\n",
      "2024-05-22 21:00:49.423007: W tensorflow/compiler/mlir/tools/kernel_gen/transforms/gpu_kernel_to_blob_pass.cc:191] Failed to compile generated PTX with ptxas. Falling back to compilation by driver.\n",
      "2024-05-22 21:00:49.423160: W tensorflow/compiler/mlir/tools/kernel_gen/transforms/gpu_kernel_to_blob_pass.cc:191] Failed to compile generated PTX with ptxas. Falling back to compilation by driver.\n",
      "2024-05-22 21:00:49.423201: W tensorflow/compiler/mlir/tools/kernel_gen/transforms/gpu_kernel_to_blob_pass.cc:191] Failed to compile generated PTX with ptxas. Falling back to compilation by driver.\n",
      "2024-05-22 21:00:49.423245: W tensorflow/compiler/mlir/tools/kernel_gen/transforms/gpu_kernel_to_blob_pass.cc:191] Failed to compile generated PTX with ptxas. Falling back to compilation by driver.\n",
      "2024-05-22 21:00:49.768519: I external/local_xla/xla/service/service.cc:168] XLA service 0x7ef5c006a460 initialized for platform CUDA (this does not guarantee that XLA will be used). Devices:\n",
      "2024-05-22 21:00:49.768558: I external/local_xla/xla/service/service.cc:176]   StreamExecutor device (0): NVIDIA H100 80GB HBM3 MIG 1g.10gb, Compute Capability 9.0\n",
      "WARNING: All log messages before absl::InitializeLog() is called are written to STDERR\n",
      "I0000 00:00:1716411649.829595  756615 device_compiler.h:186] Compiled cluster using XLA!  This line is logged at most once for the lifetime of the process.\n"
     ]
    },
    {
     "name": "stdout",
     "output_type": "stream",
     "text": [
      "782/782 [==============================] - 24s 24ms/step - loss: 5.9634 - accuracy: 0.4017 - val_loss: 7.9126 - val_accuracy: 0.2490\n",
      "Epoch 2/100\n",
      "782/782 [==============================] - 17s 21ms/step - loss: 5.3575 - accuracy: 0.4732 - val_loss: 6.8874 - val_accuracy: 0.3464\n",
      "Epoch 3/100\n",
      "782/782 [==============================] - 17s 22ms/step - loss: 5.4241 - accuracy: 0.4789 - val_loss: 6.1314 - val_accuracy: 0.4249\n",
      "Epoch 4/100\n",
      "782/782 [==============================] - 17s 21ms/step - loss: 6.6199 - accuracy: 0.3789 - val_loss: 8.0232 - val_accuracy: 0.2545\n",
      "Epoch 5/100\n",
      "782/782 [==============================] - 16s 21ms/step - loss: 7.6550 - accuracy: 0.2889 - val_loss: 7.9493 - val_accuracy: 0.2633\n",
      "Epoch 6/100\n",
      "782/782 [==============================] - 18s 23ms/step - loss: 7.2739 - accuracy: 0.3243 - val_loss: 7.8603 - val_accuracy: 0.2720\n",
      "Epoch 7/100\n",
      "782/782 [==============================] - 17s 22ms/step - loss: 7.0852 - accuracy: 0.3425 - val_loss: 7.4069 - val_accuracy: 0.3140\n",
      "Epoch 8/100\n",
      "782/782 [==============================] - 17s 22ms/step - loss: 7.1644 - accuracy: 0.3360 - val_loss: 7.6244 - val_accuracy: 0.2939\n",
      "Epoch 9/100\n",
      "782/782 [==============================] - 17s 22ms/step - loss: 7.3280 - accuracy: 0.3213 - val_loss: 7.8454 - val_accuracy: 0.2745\n",
      "Epoch 10/100\n",
      "782/782 [==============================] - 17s 21ms/step - loss: 7.2193 - accuracy: 0.3317 - val_loss: 8.0492 - val_accuracy: 0.2553\n",
      "Epoch 11/100\n",
      "782/782 [==============================] - 17s 22ms/step - loss: 7.3915 - accuracy: 0.3159 - val_loss: 7.2915 - val_accuracy: 0.3250\n",
      "Epoch 12/100\n",
      "782/782 [==============================] - 17s 21ms/step - loss: 7.3595 - accuracy: 0.3190 - val_loss: 8.0818 - val_accuracy: 0.2525\n",
      "Epoch 13/100\n",
      "782/782 [==============================] - 18s 22ms/step - loss: 7.4611 - accuracy: 0.3097 - val_loss: 7.8874 - val_accuracy: 0.2707\n",
      "Epoch 14/100\n",
      "782/782 [==============================] - 17s 21ms/step - loss: 7.2558 - accuracy: 0.3288 - val_loss: 7.5598 - val_accuracy: 0.3010\n",
      "Epoch 15/100\n",
      "782/782 [==============================] - 17s 21ms/step - loss: 7.5241 - accuracy: 0.3040 - val_loss: 7.6852 - val_accuracy: 0.2891\n",
      "Epoch 16/100\n",
      "782/782 [==============================] - 17s 22ms/step - loss: 7.3336 - accuracy: 0.3218 - val_loss: 7.5468 - val_accuracy: 0.3022\n",
      "Epoch 17/100\n",
      "782/782 [==============================] - 17s 21ms/step - loss: 7.2707 - accuracy: 0.3277 - val_loss: 7.2222 - val_accuracy: 0.3323\n",
      "Epoch 18/100\n",
      "782/782 [==============================] - 17s 21ms/step - loss: 7.3093 - accuracy: 0.3241 - val_loss: 7.6413 - val_accuracy: 0.2937\n",
      "Epoch 19/100\n",
      "782/782 [==============================] - 16s 21ms/step - loss: 7.4448 - accuracy: 0.3114 - val_loss: 7.4609 - val_accuracy: 0.3102\n",
      "Epoch 20/100\n",
      "782/782 [==============================] - 17s 22ms/step - loss: 7.3637 - accuracy: 0.3191 - val_loss: 7.5474 - val_accuracy: 0.3024\n",
      "Epoch 21/100\n",
      "782/782 [==============================] - 16s 21ms/step - loss: 7.3808 - accuracy: 0.3177 - val_loss: 7.2726 - val_accuracy: 0.3277\n",
      "Epoch 22/100\n",
      "782/782 [==============================] - 17s 21ms/step - loss: 7.4602 - accuracy: 0.3102 - val_loss: 7.1200 - val_accuracy: 0.3416\n",
      "Epoch 23/100\n",
      "782/782 [==============================] - 17s 21ms/step - loss: 7.2326 - accuracy: 0.3313 - val_loss: 7.2316 - val_accuracy: 0.3313\n",
      "Epoch 24/100\n",
      "782/782 [==============================] - 16s 21ms/step - loss: 7.2117 - accuracy: 0.3332 - val_loss: 7.2933 - val_accuracy: 0.3258\n",
      "Epoch 25/100\n",
      "782/782 [==============================] - 17s 21ms/step - loss: 7.1107 - accuracy: 0.3426 - val_loss: 7.1356 - val_accuracy: 0.3401\n",
      "Epoch 26/100\n",
      "782/782 [==============================] - 17s 21ms/step - loss: 7.1039 - accuracy: 0.3432 - val_loss: 7.0315 - val_accuracy: 0.3500\n",
      "Epoch 27/100\n",
      "782/782 [==============================] - 17s 21ms/step - loss: 6.9565 - accuracy: 0.3567 - val_loss: 7.1634 - val_accuracy: 0.3378\n",
      "Epoch 28/100\n",
      "782/782 [==============================] - 17s 21ms/step - loss: 6.9753 - accuracy: 0.3550 - val_loss: 6.9331 - val_accuracy: 0.3590\n",
      "Epoch 29/100\n",
      "782/782 [==============================] - 17s 21ms/step - loss: 6.9542 - accuracy: 0.3572 - val_loss: 8.5912 - val_accuracy: 0.2060\n",
      "Epoch 30/100\n",
      "782/782 [==============================] - 17s 22ms/step - loss: 6.8281 - accuracy: 0.3687 - val_loss: 6.7872 - val_accuracy: 0.3726\n",
      "Epoch 31/100\n",
      "782/782 [==============================] - 17s 22ms/step - loss: 7.2459 - accuracy: 0.3302 - val_loss: 7.2199 - val_accuracy: 0.3325\n",
      "Epoch 32/100\n",
      "782/782 [==============================] - 17s 21ms/step - loss: 6.8666 - accuracy: 0.3651 - val_loss: 6.5968 - val_accuracy: 0.3903\n",
      "Epoch 33/100\n",
      "782/782 [==============================] - 17s 22ms/step - loss: 6.9743 - accuracy: 0.3552 - val_loss: 6.8327 - val_accuracy: 0.3685\n",
      "Epoch 34/100\n",
      "782/782 [==============================] - 17s 21ms/step - loss: 6.8444 - accuracy: 0.3672 - val_loss: 6.3784 - val_accuracy: 0.4101\n",
      "Epoch 35/100\n",
      "782/782 [==============================] - 17s 21ms/step - loss: 6.7269 - accuracy: 0.3781 - val_loss: 6.4452 - val_accuracy: 0.4040\n",
      "Epoch 36/100\n",
      "782/782 [==============================] - 17s 22ms/step - loss: 6.6361 - accuracy: 0.3865 - val_loss: 6.3610 - val_accuracy: 0.4120\n",
      "Epoch 37/100\n",
      "782/782 [==============================] - 17s 22ms/step - loss: 6.6886 - accuracy: 0.3815 - val_loss: 6.3433 - val_accuracy: 0.4137\n",
      "Epoch 38/100\n",
      "782/782 [==============================] - 17s 21ms/step - loss: 6.5237 - accuracy: 0.3968 - val_loss: 6.3959 - val_accuracy: 0.4089\n",
      "Epoch 39/100\n",
      "782/782 [==============================] - 17s 21ms/step - loss: 6.4711 - accuracy: 0.4018 - val_loss: 6.9598 - val_accuracy: 0.3566\n",
      "Epoch 40/100\n",
      "782/782 [==============================] - 16s 21ms/step - loss: 6.6377 - accuracy: 0.3864 - val_loss: 6.5611 - val_accuracy: 0.3934\n",
      "Epoch 41/100\n",
      "782/782 [==============================] - 17s 22ms/step - loss: 6.5135 - accuracy: 0.3979 - val_loss: 6.5634 - val_accuracy: 0.3933\n",
      "Epoch 42/100\n",
      "782/782 [==============================] - 17s 21ms/step - loss: 6.5587 - accuracy: 0.3936 - val_loss: 6.4083 - val_accuracy: 0.4077\n",
      "Epoch 43/100\n",
      "782/782 [==============================] - 17s 21ms/step - loss: 6.4974 - accuracy: 0.3993 - val_loss: 6.4568 - val_accuracy: 0.4030\n",
      "Epoch 44/100\n",
      "782/782 [==============================] - 16s 21ms/step - loss: 6.3643 - accuracy: 0.4116 - val_loss: 6.1403 - val_accuracy: 0.4322\n",
      "Epoch 45/100\n",
      "782/782 [==============================] - 17s 22ms/step - loss: 6.3218 - accuracy: 0.4155 - val_loss: 6.4195 - val_accuracy: 0.4066\n",
      "Epoch 46/100\n",
      "782/782 [==============================] - 17s 21ms/step - loss: 6.3847 - accuracy: 0.4097 - val_loss: 6.3398 - val_accuracy: 0.4140\n",
      "Epoch 47/100\n",
      "782/782 [==============================] - 17s 21ms/step - loss: 6.3102 - accuracy: 0.4166 - val_loss: 6.3502 - val_accuracy: 0.4130\n",
      "Epoch 48/100\n",
      "782/782 [==============================] - 16s 21ms/step - loss: 6.3212 - accuracy: 0.4156 - val_loss: 6.1920 - val_accuracy: 0.4274\n",
      "Epoch 49/100\n",
      "782/782 [==============================] - 17s 22ms/step - loss: 6.3112 - accuracy: 0.4165 - val_loss: 6.1874 - val_accuracy: 0.4277\n",
      "Epoch 50/100\n",
      "782/782 [==============================] - 17s 21ms/step - loss: 6.3744 - accuracy: 0.4107 - val_loss: 6.3839 - val_accuracy: 0.4097\n",
      "Epoch 51/100\n",
      "782/782 [==============================] - 17s 21ms/step - loss: 6.3809 - accuracy: 0.4101 - val_loss: 6.1979 - val_accuracy: 0.4268\n",
      "Epoch 52/100\n",
      "782/782 [==============================] - 17s 21ms/step - loss: 6.2277 - accuracy: 0.4242 - val_loss: 5.9888 - val_accuracy: 0.4464\n",
      "Epoch 53/100\n",
      "782/782 [==============================] - 18s 23ms/step - loss: 6.0860 - accuracy: 0.4374 - val_loss: 5.9971 - val_accuracy: 0.4456\n",
      "Epoch 54/100\n",
      "782/782 [==============================] - 16s 21ms/step - loss: 6.1806 - accuracy: 0.4285 - val_loss: 6.3186 - val_accuracy: 0.4155\n",
      "Epoch 55/100\n",
      "782/782 [==============================] - 17s 21ms/step - loss: 6.1804 - accuracy: 0.4286 - val_loss: 5.9060 - val_accuracy: 0.4542\n",
      "Epoch 56/100\n",
      "782/782 [==============================] - 17s 21ms/step - loss: 6.0760 - accuracy: 0.4382 - val_loss: 5.9440 - val_accuracy: 0.4504\n",
      "Epoch 57/100\n",
      "782/782 [==============================] - 16s 21ms/step - loss: 6.0068 - accuracy: 0.4446 - val_loss: 5.9213 - val_accuracy: 0.4525\n",
      "Epoch 58/100\n",
      "782/782 [==============================] - 17s 21ms/step - loss: 6.0348 - accuracy: 0.4420 - val_loss: 5.7812 - val_accuracy: 0.4656\n",
      "Epoch 59/100\n",
      "782/782 [==============================] - 17s 21ms/step - loss: 5.9208 - accuracy: 0.4525 - val_loss: 5.7661 - val_accuracy: 0.4669\n",
      "Epoch 60/100\n",
      "782/782 [==============================] - 17s 21ms/step - loss: 5.8964 - accuracy: 0.4548 - val_loss: 5.7275 - val_accuracy: 0.4706\n",
      "Epoch 61/100\n",
      "782/782 [==============================] - 17s 22ms/step - loss: 5.9124 - accuracy: 0.4533 - val_loss: 5.8409 - val_accuracy: 0.4598\n",
      "Epoch 62/100\n",
      "782/782 [==============================] - 17s 21ms/step - loss: 5.9207 - accuracy: 0.4526 - val_loss: 5.7373 - val_accuracy: 0.4694\n",
      "Epoch 63/100\n",
      "782/782 [==============================] - 17s 21ms/step - loss: 5.8401 - accuracy: 0.4600 - val_loss: 5.7357 - val_accuracy: 0.4697\n",
      "Epoch 64/100\n",
      "782/782 [==============================] - 16s 21ms/step - loss: 5.7651 - accuracy: 0.4670 - val_loss: 5.6351 - val_accuracy: 0.4789\n",
      "Epoch 65/100\n",
      "782/782 [==============================] - 16s 21ms/step - loss: 5.7492 - accuracy: 0.4684 - val_loss: 5.6664 - val_accuracy: 0.4760\n",
      "Epoch 66/100\n",
      "782/782 [==============================] - 17s 21ms/step - loss: 5.7243 - accuracy: 0.4707 - val_loss: 5.5917 - val_accuracy: 0.4829\n",
      "Epoch 67/100\n",
      "782/782 [==============================] - 16s 21ms/step - loss: 5.7035 - accuracy: 0.4725 - val_loss: 5.5502 - val_accuracy: 0.4867\n",
      "Epoch 68/100\n",
      "782/782 [==============================] - 16s 21ms/step - loss: 5.6965 - accuracy: 0.4733 - val_loss: 5.5703 - val_accuracy: 0.4849\n",
      "Epoch 69/100\n",
      "782/782 [==============================] - 17s 22ms/step - loss: 5.6944 - accuracy: 0.4735 - val_loss: 5.5227 - val_accuracy: 0.4894\n",
      "Epoch 70/100\n",
      "782/782 [==============================] - 17s 22ms/step - loss: 5.7211 - accuracy: 0.4709 - val_loss: 5.5562 - val_accuracy: 0.4864\n",
      "Epoch 71/100\n",
      "782/782 [==============================] - 17s 22ms/step - loss: 5.6555 - accuracy: 0.4770 - val_loss: 5.5260 - val_accuracy: 0.4890\n",
      "Epoch 72/100\n",
      "782/782 [==============================] - 17s 21ms/step - loss: 5.6305 - accuracy: 0.4793 - val_loss: 5.5022 - val_accuracy: 0.4912\n",
      "Epoch 73/100\n",
      "782/782 [==============================] - 17s 22ms/step - loss: 5.6392 - accuracy: 0.4786 - val_loss: 5.4784 - val_accuracy: 0.4936\n",
      "Epoch 74/100\n",
      "782/782 [==============================] - 17s 21ms/step - loss: 5.5924 - accuracy: 0.4829 - val_loss: 5.4615 - val_accuracy: 0.4951\n",
      "Epoch 75/100\n",
      "782/782 [==============================] - 17s 21ms/step - loss: 5.5839 - accuracy: 0.4838 - val_loss: 5.4587 - val_accuracy: 0.4953\n",
      "Epoch 76/100\n",
      "782/782 [==============================] - 17s 21ms/step - loss: 5.5782 - accuracy: 0.4843 - val_loss: 5.4447 - val_accuracy: 0.4967\n",
      "Epoch 77/100\n",
      "782/782 [==============================] - 17s 22ms/step - loss: 5.5838 - accuracy: 0.4837 - val_loss: 5.4450 - val_accuracy: 0.4965\n",
      "Epoch 78/100\n",
      "782/782 [==============================] - 17s 21ms/step - loss: 5.5970 - accuracy: 0.4825 - val_loss: 5.4524 - val_accuracy: 0.4957\n",
      "Epoch 79/100\n",
      "782/782 [==============================] - 17s 21ms/step - loss: 5.5575 - accuracy: 0.4861 - val_loss: 5.4604 - val_accuracy: 0.4951\n",
      "Epoch 80/100\n",
      "782/782 [==============================] - 17s 22ms/step - loss: 5.5749 - accuracy: 0.4845 - val_loss: 5.4427 - val_accuracy: 0.4967\n",
      "Epoch 81/100\n",
      "782/782 [==============================] - 17s 21ms/step - loss: 5.5690 - accuracy: 0.4851 - val_loss: 5.4543 - val_accuracy: 0.4956\n",
      "Epoch 82/100\n",
      "782/782 [==============================] - 17s 21ms/step - loss: 5.5950 - accuracy: 0.4827 - val_loss: 5.4620 - val_accuracy: 0.4949\n",
      "Epoch 83/100\n",
      "782/782 [==============================] - 17s 21ms/step - loss: 5.5898 - accuracy: 0.4832 - val_loss: 5.4506 - val_accuracy: 0.4960\n",
      "Epoch 84/100\n",
      "782/782 [==============================] - 17s 21ms/step - loss: 5.5856 - accuracy: 0.4835 - val_loss: 5.4528 - val_accuracy: 0.4956\n",
      "Epoch 85/100\n",
      "782/782 [==============================] - 17s 22ms/step - loss: 5.5784 - accuracy: 0.4843 - val_loss: 5.4626 - val_accuracy: 0.4948\n",
      "Epoch 86/100\n",
      "782/782 [==============================] - 17s 21ms/step - loss: 5.5692 - accuracy: 0.4851 - val_loss: 5.4514 - val_accuracy: 0.4959\n",
      "Epoch 87/100\n",
      "782/782 [==============================] - 17s 22ms/step - loss: 5.5822 - accuracy: 0.4839 - val_loss: 5.4534 - val_accuracy: 0.4958\n",
      "Epoch 88/100\n",
      "782/782 [==============================] - 17s 22ms/step - loss: 5.5691 - accuracy: 0.4850 - val_loss: 5.4467 - val_accuracy: 0.4964\n",
      "Epoch 89/100\n",
      "782/782 [==============================] - 17s 21ms/step - loss: 5.5533 - accuracy: 0.4865 - val_loss: 5.4470 - val_accuracy: 0.4964\n",
      "Epoch 90/100\n",
      "782/782 [==============================] - 17s 22ms/step - loss: 5.5771 - accuracy: 0.4844 - val_loss: 5.4355 - val_accuracy: 0.4975\n",
      "Epoch 91/100\n",
      "782/782 [==============================] - 17s 22ms/step - loss: 5.5829 - accuracy: 0.4838 - val_loss: 5.4463 - val_accuracy: 0.4963\n",
      "Epoch 92/100\n",
      "782/782 [==============================] - 17s 22ms/step - loss: 5.5867 - accuracy: 0.4834 - val_loss: 5.4587 - val_accuracy: 0.4952\n",
      "Epoch 93/100\n",
      "782/782 [==============================] - 17s 22ms/step - loss: 5.5605 - accuracy: 0.4857 - val_loss: 5.4510 - val_accuracy: 0.4959\n",
      "Epoch 94/100\n",
      "782/782 [==============================] - 17s 22ms/step - loss: 5.5970 - accuracy: 0.4826 - val_loss: 5.4512 - val_accuracy: 0.4956\n",
      "Epoch 95/100\n",
      "782/782 [==============================] - 17s 22ms/step - loss: 5.5725 - accuracy: 0.4848 - val_loss: 5.4498 - val_accuracy: 0.4959\n",
      "Epoch 96/100\n",
      "782/782 [==============================] - 17s 22ms/step - loss: 5.5799 - accuracy: 0.4840 - val_loss: 5.4489 - val_accuracy: 0.4960\n",
      "Epoch 97/100\n",
      "782/782 [==============================] - 17s 22ms/step - loss: 5.5836 - accuracy: 0.4837 - val_loss: 5.4480 - val_accuracy: 0.4963\n",
      "Epoch 98/100\n",
      "782/782 [==============================] - 17s 22ms/step - loss: 5.5501 - accuracy: 0.4868 - val_loss: 5.4624 - val_accuracy: 0.4948\n",
      "Epoch 99/100\n",
      "782/782 [==============================] - 17s 22ms/step - loss: 5.5679 - accuracy: 0.4853 - val_loss: 5.4553 - val_accuracy: 0.4956\n",
      "Epoch 100/100\n",
      "782/782 [==============================] - 18s 22ms/step - loss: 5.5888 - accuracy: 0.4832 - val_loss: 5.4414 - val_accuracy: 0.4970\n"
     ]
    }
   ],
   "source": [
    "model = dropout_model()\n",
    "results = train(model, trainX, trainY, testX, testY)"
   ]
  },
  {
   "cell_type": "code",
   "execution_count": 9,
   "metadata": {
    "colab": {
     "base_uri": "https://localhost:8080/",
     "height": 904
    },
    "executionInfo": {
     "elapsed": 2168,
     "status": "ok",
     "timestamp": 1715793363574,
     "user": {
      "displayName": "Jonatan Hyberg",
      "userId": "02103785444766429018"
     },
     "user_tz": -120
    },
    "id": "yNdQN-nnCTUk",
    "outputId": "fc0a0793-fbbc-436a-b9b3-5941ca4db1ca"
   },
   "outputs": [
    {
     "data": {
      "image/png": "[encoded data removed]",
      "text/plain": [
       "<Figure size 640x480 with 1 Axes>"
      ]
     },
     "metadata": {},
     "output_type": "display_data"
    },
    {
     "data": {
      "image/png": "[encoded data removed]",
      "text/plain": [
       "<Figure size 640x480 with 1 Axes>"
      ]
     },
     "metadata": {},
     "output_type": "display_data"
    },
    {
     "name": "stdout",
     "output_type": "stream",
     "text": [
      "The model achieved a final accuracy of 49.70%\n"
     ]
    }
   ],
   "source": [
    "plot_results(results.history)\n",
    "evaluate(model, testX, testY)"
   ]
  },
  {
   "cell_type": "code",
   "execution_count": 10,
   "metadata": {
    "executionInfo": {
     "elapsed": 301,
     "status": "ok",
     "timestamp": 1715793629457,
     "user": {
      "displayName": "Jonatan Hyberg",
      "userId": "02103785444766429018"
     },
     "user_tz": -120
    },
    "id": "VmsurzVECTUk"
   },
   "outputs": [],
   "source": [
    "save_model('SL_no_noise', model)\n",
    "save_history('SL_no_noise', results.history)"
   ]
  }
 ],
 "metadata": {
  "accelerator": "GPU",
  "colab": {
   "gpuType": "T4",
   "provenance": [
    {
     "file_id": "1irCtCvrPih104WASUJu-j-MZJMXLKCEy",
     "timestamp": 1715782757909
    }
   ]
  },
  "kernelspec": {
   "display_name": "Python 3 (ipykernel)",
   "language": "python",
   "name": "python3"
  },
  "language_info": {
   "codemirror_mode": {
    "name": "ipython",
    "version": 3
   },
   "file_extension": ".py",
   "mimetype": "text/x-python",
   "name": "python",
   "nbconvert_exporter": "python",
   "pygments_lexer": "ipython3",
   "version": "3.10.13"
  },
  "vscode": {
   "interpreter": {
    "hash": "63009f7f2cc996fccde2458c7f62140de231233c09c29bb8f0fa7c6864762ba3"
   }
  }
 },
 "nbformat": 4,
 "nbformat_minor": 4
}
