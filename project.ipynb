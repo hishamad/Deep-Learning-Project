{
 "cells": [
  {
   "cell_type": "code",
   "execution_count": 65,
   "metadata": {},
   "outputs": [],
   "source": [
    "import sys\n",
    "import tensorflow as tf\n",
    "import matplotlib.pyplot as plt\n",
    "from tensorflow.keras.datasets import cifar10\n",
    "from tensorflow.keras.layers import Conv2D\n",
    "from tensorflow.keras.layers import MaxPooling2D\n",
    "from tensorflow.keras.layers import Dense\n",
    "from tensorflow.keras.layers import Flatten\n",
    "from tensorflow.keras.utils import to_categorical\n",
    "from tensorflow.keras.models import Sequential\n",
    "from tensorflow.keras.optimizers import SGD\n",
    "from keras.layers import Dropout\n",
    "import pickle"
   ]
  },
  {
   "attachments": {},
   "cell_type": "markdown",
   "metadata": {},
   "source": [
    "#### Dataset\n"
   ]
  },
  {
   "attachments": {},
   "cell_type": "markdown",
   "metadata": {},
   "source": [
    "Load dataset + One-hot encoding + Normalization"
   ]
  },
  {
   "cell_type": "code",
   "execution_count": 49,
   "metadata": {},
   "outputs": [],
   "source": [
    "def load_dataset():\n",
    "    (trainX, trainY), (testX, testY) = cifar10.load_data()\n",
    "    # One-hot encoding\n",
    "    trainY = to_categorical(trainY)\n",
    "    testY = to_categorical(testY)\n",
    "    # Normalize to [0,1]\n",
    "    trainX = trainX.astype('float32') / 255.0\n",
    "    testX = testX.astype('float32') / 255.0\n",
    "\n",
    "    return trainX, trainY, testX, testY"
   ]
  },
  {
   "attachments": {},
   "cell_type": "markdown",
   "metadata": {},
   "source": [
    "#### Model"
   ]
  },
  {
   "attachments": {},
   "cell_type": "markdown",
   "metadata": {},
   "source": [
    "Imortant functions"
   ]
  },
  {
   "cell_type": "code",
   "execution_count": 50,
   "metadata": {},
   "outputs": [],
   "source": [
    "def train(model):    \n",
    "    trainX, trainY, testX, testY = load_dataset()\n",
    "\n",
    "    results = model.fit(trainX, trainY, epochs=200, batch_size=512, validation_data=(testX, testY), verbose=0)\n",
    "\n",
    "    return results\n",
    "\n",
    "def evaluate(model):\n",
    "    _, acc = model.evaluate(testX, testY, verbose=0)\n",
    "\n",
    "    print(f\"The model achieved a final accuracy of {acc*100:.2f}%\")\n",
    "\n",
    "def plot_results(results):\n",
    "\tplt.title('Cross Entropy Loss')\n",
    "\tplt.plot(results.history['loss'], color='blue', label='Training loss')\n",
    "\tplt.plot(results.history['val_loss'], color='orange', label='Validation/test loss')\n",
    "\tplt.show()\n",
    "\n",
    "\tplt.title('Classification Accuracy')\n",
    "\tplt.plot(results.history['accuracy'], color='blue', label='Training accuracy')\n",
    "\tplt.plot(results.history['val_accuracy'], color='orange', label='Validation/test accuracy')\n",
    "\tplt.show()"
   ]
  },
  {
   "cell_type": "code",
   "execution_count": 69,
   "metadata": {},
   "outputs": [],
   "source": [
    "def save_model(filename, model):\n",
    "    filename = './models/' + filename\n",
    "    pickle.dump(model, open(filename, 'wb'))\n",
    "\n",
    "def save_history(filename, results):\n",
    "    filename = './history/' + filename\n",
    "    pickle.dump(results.history, open(filename, 'wb'))\n",
    "\n",
    "def load_model(filename):\n",
    "    filename = './models/' + filename\n",
    "    model = pickle.load(open(filename, 'rb'))\n",
    "    return model\n",
    "\n",
    "def load_history(filename):\n",
    "    filename = './history/' + filename\n",
    "    history = pickle.load(open(filename, 'rb'))\n",
    "    return history"
   ]
  },
  {
   "attachments": {},
   "cell_type": "markdown",
   "metadata": {},
   "source": [
    "Baseline model"
   ]
  },
  {
   "cell_type": "code",
   "execution_count": 53,
   "metadata": {},
   "outputs": [],
   "source": [
    "def baseline_model():\n",
    "    # Create architecture \n",
    "    model = Sequential()\n",
    "    model.add(Conv2D(32, (3, 3), activation='relu', kernel_initializer='he_uniform', padding='same'))\n",
    "    model.add(Conv2D(32, (3, 3), activation='relu', kernel_initializer='he_uniform', padding='same'))\n",
    "    model.add(MaxPooling2D((2, 2)))\n",
    "    model.add(Conv2D(64, (3, 3), activation='relu', kernel_initializer='he_uniform', padding='same'))\n",
    "    model.add(Conv2D(64, (3, 3), activation='relu', kernel_initializer='he_uniform', padding='same'))\n",
    "    model.add(MaxPooling2D((2, 2)))\n",
    "    model.add(Conv2D(128, (3, 3), activation='relu', kernel_initializer='he_uniform', padding='same'))\n",
    "    model.add(Conv2D(128, (3, 3), activation='relu', kernel_initializer='he_uniform', padding='same'))\n",
    "    model.add(MaxPooling2D((2, 2)))\n",
    "    model.add(Flatten())\n",
    "    model.add(Dense(128, activation='relu', kernel_initializer='he_uniform'))\n",
    "    model.add(Dense(10, activation='softmax'))\n",
    "    \n",
    "    # Optimization method\n",
    "    opt = SGD(learning_rate=0.001, momentum=0.9)\n",
    "\n",
    "    # Compile model and choose loss type\n",
    "    model.compile(optimizer=opt, loss='categorical_crossentropy', metrics=['accuracy'])\n",
    "    return model"
   ]
  },
  {
   "cell_type": "code",
   "execution_count": 56,
   "metadata": {},
   "outputs": [],
   "source": [
    "model = baseline_model()\n",
    "results = train(model)"
   ]
  },
  {
   "cell_type": "code",
   "execution_count": 62,
   "metadata": {},
   "outputs": [
    {
     "data": {
      "image/png": "[encoded data removed]",
      "text/plain": [
       "<Figure size 432x288 with 1 Axes>"
      ]
     },
     "metadata": {
      "needs_background": "light"
     },
     "output_type": "display_data"
    },
    {
     "data": {
      "image/png": "[encoded data removed]",
      "text/plain": [
       "<Figure size 432x288 with 1 Axes>"
      ]
     },
     "metadata": {
      "needs_background": "light"
     },
     "output_type": "display_data"
    },
    {
     "name": "stdout",
     "output_type": "stream",
     "text": [
      "The model achieved a final accuracy of 71.82%\n"
     ]
    }
   ],
   "source": [
    "plot_results(results)\n",
    "evaluate(model)"
   ]
  },
  {
   "cell_type": "code",
   "execution_count": 70,
   "metadata": {},
   "outputs": [],
   "source": [
    "save_model('base_model', model)\n",
    "save_history('base_model', results)"
   ]
  },
  {
   "cell_type": "code",
   "execution_count": 76,
   "metadata": {},
   "outputs": [
    {
     "data": {
      "text/plain": [
       "[1.499952793121338,\n",
       " 1.3341110944747925,\n",
       " 1.231519341468811,\n",
       " 1.250896692276001,\n",
       " 1.098757028579712,\n",
       " 1.0711617469787598,\n",
       " 0.9951909184455872,\n",
       " 0.965298056602478,\n",
       " 0.9875771403312683,\n",
       " 0.9205739498138428,\n",
       " 0.9330790042877197,\n",
       " 0.9949928522109985,\n",
       " 0.9653283953666687,\n",
       " 0.9613861441612244,\n",
       " 0.9588316679000854,\n",
       " 0.9716053009033203,\n",
       " 0.9919947385787964,\n",
       " 1.0864280462265015,\n",
       " 1.0967388153076172,\n",
       " 1.2392531633377075,\n",
       " 1.243506669998169,\n",
       " 1.2927309274673462,\n",
       " 1.4267878532409668,\n",
       " 1.4461625814437866,\n",
       " 1.5697811841964722,\n",
       " 1.6148086786270142,\n",
       " 1.7432564496994019,\n",
       " 1.6966955661773682,\n",
       " 1.91337251663208,\n",
       " 1.8410745859146118,\n",
       " 1.8686379194259644,\n",
       " 1.836189866065979,\n",
       " 2.0280463695526123,\n",
       " 2.126880168914795,\n",
       " 2.0679097175598145,\n",
       " 2.1847996711730957,\n",
       " 2.069645643234253,\n",
       " 2.2078514099121094,\n",
       " 2.2735037803649902,\n",
       " 2.350332260131836,\n",
       " 2.4472897052764893,\n",
       " 2.516573190689087,\n",
       " 2.5585575103759766,\n",
       " 2.5973165035247803,\n",
       " 2.6314761638641357,\n",
       " 2.659420967102051,\n",
       " 2.68468976020813,\n",
       " 2.7049241065979004,\n",
       " 2.725830078125,\n",
       " 2.7443690299987793,\n",
       " 2.761460065841675,\n",
       " 2.778096914291382,\n",
       " 2.7926700115203857,\n",
       " 2.8072028160095215,\n",
       " 2.8204221725463867,\n",
       " 2.833035469055176,\n",
       " 2.845931053161621,\n",
       " 2.856410264968872,\n",
       " 2.8674097061157227,\n",
       " 2.8784139156341553,\n",
       " 2.8879611492156982,\n",
       " 2.897948741912842,\n",
       " 2.908080577850342,\n",
       " 2.9164180755615234,\n",
       " 2.9259631633758545,\n",
       " 2.934525489807129,\n",
       " 2.942401647567749,\n",
       " 2.9501450061798096,\n",
       " 2.9570512771606445,\n",
       " 2.964888572692871,\n",
       " 2.9727237224578857,\n",
       " 2.979172945022583,\n",
       " 2.9860401153564453,\n",
       " 2.993544578552246,\n",
       " 2.9997916221618652,\n",
       " 3.0067965984344482,\n",
       " 3.0133450031280518,\n",
       " 3.0187041759490967,\n",
       " 3.024994373321533,\n",
       " 3.031346559524536,\n",
       " 3.0365450382232666,\n",
       " 3.042393445968628,\n",
       " 3.048246383666992,\n",
       " 3.0531630516052246,\n",
       " 3.0585579872131348,\n",
       " 3.0640432834625244,\n",
       " 3.0690431594848633,\n",
       " 3.074341297149658,\n",
       " 3.0786728858947754,\n",
       " 3.083895683288574,\n",
       " 3.088150978088379,\n",
       " 3.0930349826812744,\n",
       " 3.0981080532073975,\n",
       " 3.102658748626709,\n",
       " 3.1063482761383057,\n",
       " 3.111109972000122,\n",
       " 3.1150286197662354,\n",
       " 3.1195497512817383,\n",
       " 3.1239352226257324,\n",
       " 3.127507448196411]"
      ]
     },
     "execution_count": 76,
     "metadata": {},
     "output_type": "execute_result"
    }
   ],
   "source": [
    "test = load_model('base_model')\n",
    "history_test = load_history('base_model')"
   ]
  }
 ],
 "metadata": {
  "kernelspec": {
   "display_name": "Python 3",
   "language": "python",
   "name": "python3"
  },
  "language_info": {
   "codemirror_mode": {
    "name": "ipython",
    "version": 3
   },
   "file_extension": ".py",
   "mimetype": "text/x-python",
   "name": "python",
   "nbconvert_exporter": "python",
   "pygments_lexer": "ipython3",
   "version": "3.9.4"
  },
  "orig_nbformat": 4
 },
 "nbformat": 4,
 "nbformat_minor": 2
}
