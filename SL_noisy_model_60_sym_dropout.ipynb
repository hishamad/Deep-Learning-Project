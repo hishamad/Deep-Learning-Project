{
 "cells": [
  {
   "cell_type": "code",
   "execution_count": 1,
   "metadata": {
    "executionInfo": {
     "elapsed": 4900,
     "status": "ok",
     "timestamp": 1715782928249,
     "user": {
      "displayName": "Jonatan Hyberg",
      "userId": "02103785444766429018"
     },
     "user_tz": -120
    },
    "id": "kyqOgTWzCTUX"
   },
   "outputs": [
    {
     "name": "stderr",
     "output_type": "stream",
     "text": [
      "2024-05-22 19:04:00.144232: I tensorflow/core/util/port.cc:113] oneDNN custom operations are on. You may see slightly different numerical results due to floating-point round-off errors from different computation orders. To turn them off, set the environment variable `TF_ENABLE_ONEDNN_OPTS=0`.\n",
      "2024-05-22 19:04:00.180364: E external/local_xla/xla/stream_executor/cuda/cuda_dnn.cc:9261] Unable to register cuDNN factory: Attempting to register factory for plugin cuDNN when one has already been registered\n",
      "2024-05-22 19:04:00.180398: E external/local_xla/xla/stream_executor/cuda/cuda_fft.cc:607] Unable to register cuFFT factory: Attempting to register factory for plugin cuFFT when one has already been registered\n",
      "2024-05-22 19:04:00.181309: E external/local_xla/xla/stream_executor/cuda/cuda_blas.cc:1515] Unable to register cuBLAS factory: Attempting to register factory for plugin cuBLAS when one has already been registered\n",
      "2024-05-22 19:04:00.187312: I tensorflow/core/platform/cpu_feature_guard.cc:182] This TensorFlow binary is optimized to use available CPU instructions in performance-critical operations.\n",
      "To enable the following instructions: AVX2 AVX512F AVX512_VNNI AVX512_BF16 AVX_VNNI AMX_TILE AMX_INT8 AMX_BF16 FMA, in other operations, rebuild TensorFlow with the appropriate compiler flags.\n"
     ]
    }
   ],
   "source": [
    "import sys\n",
    "import tensorflow as tf\n",
    "import matplotlib.pyplot as plt\n",
    "from tensorflow.keras.datasets import cifar10\n",
    "from tensorflow.keras.layers import Conv2D\n",
    "from tensorflow.keras.layers import MaxPooling2D\n",
    "from tensorflow.keras.layers import Dense\n",
    "from tensorflow.keras.layers import Flatten\n",
    "from tensorflow.keras.utils import to_categorical\n",
    "from tensorflow.keras.models import Sequential\n",
    "from tensorflow.keras.optimizers import SGD\n",
    "from keras.layers import Dropout\n",
    "from tensorflow.keras.preprocessing.image import ImageDataGenerator\n",
    "# from cosine_annealing import CosineAnnealingScheduler\n",
    "from keras.layers import BatchNormalization\n",
    "import pickle\n",
    "from keras.regularizers import l2\n",
    "from  scipy import ndimage\n",
    "import numpy as np"
   ]
  },
  {
   "cell_type": "markdown",
   "metadata": {
    "id": "y67Ec5FICTUd"
   },
   "source": [
    "#### Dataset\n"
   ]
  },
  {
   "cell_type": "markdown",
   "metadata": {
    "id": "CYNU45pfCTUf"
   },
   "source": [
    "Load dataset + One-hot encoding + Normalization"
   ]
  },
  {
   "cell_type": "code",
   "execution_count": 2,
   "metadata": {
    "executionInfo": {
     "elapsed": 495,
     "status": "ok",
     "timestamp": 1715782996141,
     "user": {
      "displayName": "Jonatan Hyberg",
      "userId": "02103785444766429018"
     },
     "user_tz": -120
    },
    "id": "o8BGn2ZOCTUg"
   },
   "outputs": [],
   "source": [
    "def load_dataset(noise_ratio=0, sym=True):\n",
    "    (trainX, trainY), (testX, testY) = cifar10.load_data()\n",
    "    n_classes = 10\n",
    "\n",
    "    if noise_ratio > 0:\n",
    "        trainY_original = np.copy(trainY)\n",
    "        if not sym:\n",
    "            # Asymmetric noise\n",
    "            source_class = [9, 2, 3, 5, 4]\n",
    "            target_class = [1, 0, 5, 3, 7]\n",
    "            \n",
    "            for s, t in zip(source_class, target_class):\n",
    "                cls_idx = np.where(trainY_original == s)[0]\n",
    "                n_noisy = int(noise_ratio * cls_idx.shape[0] / 100)\n",
    "                noisy_sample_index = np.random.choice(cls_idx, n_noisy, replace=False)\n",
    "                trainY[noisy_sample_index] = t\n",
    "        else:\n",
    "            # Symetric noise\n",
    "            n_samples = trainY.shape[0]\n",
    "            n_noisy = int(noise_ratio * n_samples / 100)\n",
    "            class_index = [np.where(trainY_original == i)[0] for i in range(n_classes)]\n",
    "            class_noisy = int(n_noisy / n_classes)\n",
    "\n",
    "            noisy_idx = []\n",
    "            for d in range(n_classes):\n",
    "                noisy_class_index = np.random.choice(class_index[d], class_noisy, replace=False)\n",
    "                noisy_idx.extend(noisy_class_index)\n",
    "\n",
    "            for i in noisy_idx:\n",
    "                class_ind = trainY_original[i]\n",
    "                other_class_list = list(range(n_classes))\n",
    "                other_class_list.remove(class_ind)\n",
    "                other_class = np.random.choice(other_class_list)\n",
    "                trainY[i] = other_class\n",
    "        \n",
    "    # One-hot encoding\n",
    "    trainY = to_categorical(trainY)\n",
    "    testY = to_categorical(testY)\n",
    "    # Normalize to [0,1]\n",
    "    trainX = trainX.astype('float32') / 255.0\n",
    "    testX = testX.astype('float32') / 255.0\n",
    "\n",
    "    return trainX, trainY, testX, testY"
   ]
  },
  {
   "cell_type": "markdown",
   "metadata": {
    "id": "-eHdUCx4CTUg"
   },
   "source": [
    "#### Model"
   ]
  },
  {
   "cell_type": "markdown",
   "metadata": {
    "id": "_ZUdh8aqCTUh"
   },
   "source": [
    "Imortant functions"
   ]
  },
  {
   "cell_type": "code",
   "execution_count": 3,
   "metadata": {
    "executionInfo": {
     "elapsed": 2,
     "status": "ok",
     "timestamp": 1715784774519,
     "user": {
      "displayName": "Jonatan Hyberg",
      "userId": "02103785444766429018"
     },
     "user_tz": -120
    },
    "id": "BGpONL8FCTUh"
   },
   "outputs": [],
   "source": [
    "def train(model, trainX, trainY, testX, testY):\n",
    "\n",
    "\tgenerator = ImageDataGenerator(width_shift_range=0.1, height_shift_range=0.1, horizontal_flip=True)\n",
    "\n",
    "\ttrain_data = generator.flow(trainX, trainY, batch_size=64)\n",
    "\n",
    "\tresults = model.fit(train_data, epochs=100, validation_data=(testX, testY), verbose=1)\n",
    "\n",
    "\treturn results\n",
    "\n",
    "def evaluate(model, testX, testY):\n",
    "    _, acc = model.evaluate(testX, testY, verbose=0)\n",
    "\n",
    "    print(f\"The model achieved a final accuracy of {acc*100:.2f}%\")\n",
    "\n",
    "def plot_results(history):\n",
    "\tplt.title('Cross Entropy Loss')\n",
    "\tplt.plot(history['loss'], color='blue', label='Training loss')\n",
    "\tplt.plot(history['val_loss'], color='orange', label='Validation/test loss')\n",
    "\tplt.legend()\n",
    "\tplt.show()\n",
    "\n",
    "\tplt.title('Classification Accuracy')\n",
    "\tplt.plot(history['accuracy'], color='blue', label='Training accuracy')\n",
    "\tplt.plot(history['val_accuracy'], color='orange', label='Validation/test accuracy')\n",
    "\tplt.legend()\n",
    "\tplt.show()"
   ]
  },
  {
   "cell_type": "code",
   "execution_count": 4,
   "metadata": {
    "executionInfo": {
     "elapsed": 2,
     "status": "ok",
     "timestamp": 1715783002196,
     "user": {
      "displayName": "Jonatan Hyberg",
      "userId": "02103785444766429018"
     },
     "user_tz": -120
    },
    "id": "Ls19xeC0CTUi"
   },
   "outputs": [],
   "source": [
    "def save_model(filename, model):\n",
    "    filename = './models/' + filename\n",
    "    pickle.dump(model, open(filename, 'wb'))\n",
    "\n",
    "def save_history(filename, history):\n",
    "    filename = './history/' + filename\n",
    "    pickle.dump(history, open(filename, 'wb'))\n",
    "\n",
    "def load_model(filename):\n",
    "    filename = './models/' + filename\n",
    "    model = pickle.load(open(filename, 'rb'))\n",
    "    return model\n",
    "\n",
    "def load_history(filename):\n",
    "    filename = './history/' + filename\n",
    "    history = pickle.load(open(filename, 'rb'))\n",
    "    return history"
   ]
  },
  {
   "cell_type": "markdown",
   "metadata": {},
   "source": [
    "SL loss function"
   ]
  },
  {
   "cell_type": "markdown",
   "metadata": {},
   "source": [
    "https://github.com/YisenWang/symmetric_cross_entropy_for_noisy_labels/blob/master/loss.py"
   ]
  },
  {
   "cell_type": "code",
   "execution_count": 5,
   "metadata": {},
   "outputs": [],
   "source": [
    "def symmetric_cross_entropy(y_true, y_pred):\n",
    "    alpha = 0.1\n",
    "    beta = 1.0\n",
    "    y_true_1 = y_true\n",
    "    y_pred_1 = y_pred\n",
    "\n",
    "    y_true_2 = y_true\n",
    "    y_pred_2 = y_pred\n",
    "\n",
    "    y_pred_1 = tf.clip_by_value(y_pred_1, 1e-7, 1.0)\n",
    "    y_true_2 = tf.clip_by_value(y_true_2, 1e-4, 1.0)\n",
    "\n",
    "    return alpha*tf.math.reduce_mean(-tf.math.reduce_sum(y_true_1 * tf.math.log(y_pred_1), axis = -1)) + beta*tf.math.reduce_mean(-tf.math.reduce_sum(y_pred_2 * tf.math.log(y_true_2), axis = -1))\n"
   ]
  },
  {
   "cell_type": "markdown",
   "metadata": {
    "id": "fXqNA_VcCTUj"
   },
   "source": [
    "Baseline model"
   ]
  },
  {
   "cell_type": "code",
   "execution_count": 6,
   "metadata": {
    "executionInfo": {
     "elapsed": 4,
     "status": "ok",
     "timestamp": 1715789630290,
     "user": {
      "displayName": "Jonatan Hyberg",
      "userId": "02103785444766429018"
     },
     "user_tz": -120
    },
    "id": "C9xaw4BBCTUj"
   },
   "outputs": [],
   "source": [
    "def dropout_model():\n",
    "    # Create architecture\n",
    "    model = Sequential()\n",
    "    model.add(Conv2D(32, (3, 3), activation='relu', kernel_initializer='he_uniform', padding='same', input_shape=(32, 32, 3)))\n",
    "    model.add(BatchNormalization())\n",
    "    model.add(Conv2D(32, (3, 3), activation='relu', kernel_initializer='he_uniform', padding='same'))\n",
    "    model.add(BatchNormalization())\n",
    "    model.add(MaxPooling2D((2, 2)))\n",
    "    model.add(Dropout(0.2))\n",
    "    model.add(Conv2D(64, (3, 3), activation='relu', kernel_initializer='he_uniform', padding='same'))\n",
    "    model.add(BatchNormalization())\n",
    "    model.add(Conv2D(64, (3, 3), activation='relu', kernel_initializer='he_uniform', padding='same'))\n",
    "    model.add(BatchNormalization())\n",
    "    model.add(MaxPooling2D((2, 2)))\n",
    "    model.add(Dropout(0.3))\n",
    "    model.add(Conv2D(128, (3, 3), activation='relu', kernel_initializer='he_uniform', padding='same'))\n",
    "    model.add(BatchNormalization())\n",
    "    model.add(Conv2D(128, (3, 3), activation='relu', kernel_initializer='he_uniform', padding='same'))\n",
    "    model.add(BatchNormalization())\n",
    "    model.add(MaxPooling2D((2, 2)))\n",
    "    model.add(Dropout(0.4))\n",
    "    model.add(Flatten())\n",
    "    model.add(Dense(128, activation='relu', kernel_initializer='he_uniform'))\n",
    "    model.add(BatchNormalization())\n",
    "    model.add(Dropout(0.5))\n",
    "    model.add(Dense(10, activation='softmax'))\n",
    "\n",
    "    total_steps = int(trainX.shape[0]/64) * 100\n",
    "    decay_steps = total_steps*0.8\n",
    "    initial_learning_rate = 0.0001\n",
    "    warmup_steps = 1000\n",
    "    target_learning_rate = 0.1\n",
    "    alpha_2 = 0.001\n",
    "\n",
    "    lr_warmup_decayed_fn = tf.keras.optimizers.schedules.CosineDecay(\n",
    "        initial_learning_rate, decay_steps, warmup_target=target_learning_rate,\n",
    "        warmup_steps=warmup_steps,alpha = alpha_2\n",
    "    )\n",
    "    # Optimization method\n",
    "    opt = SGD(learning_rate=lr_warmup_decayed_fn, momentum=0.9)\n",
    "\n",
    "    # Compile model and choose loss type\n",
    "    model.compile(optimizer=opt, loss=symmetric_cross_entropy, metrics=['accuracy'])\n",
    "    return model"
   ]
  },
  {
   "cell_type": "code",
   "execution_count": 7,
   "metadata": {
    "colab": {
     "base_uri": "https://localhost:8080/"
    },
    "executionInfo": {
     "elapsed": 9036,
     "status": "ok",
     "timestamp": 1715783015758,
     "user": {
      "displayName": "Jonatan Hyberg",
      "userId": "02103785444766429018"
     },
     "user_tz": -120
    },
    "id": "q_FZ9SNHCTUj",
    "outputId": "db089f9d-58a3-4b4e-c9d6-6d4208bdcd7f"
   },
   "outputs": [],
   "source": [
    "trainX, trainY, testX, testY = load_dataset(noise_ratio=60, sym=True)"
   ]
  },
  {
   "cell_type": "code",
   "execution_count": 8,
   "metadata": {
    "colab": {
     "base_uri": "https://localhost:8080/"
    },
    "executionInfo": {
     "elapsed": 3670727,
     "status": "ok",
     "timestamp": 1715793305366,
     "user": {
      "displayName": "Jonatan Hyberg",
      "userId": "02103785444766429018"
     },
     "user_tz": -120
    },
    "id": "5aSe_cO4CTUk",
    "outputId": "490b509f-4efa-4d66-cae6-6271c8a1ee29"
   },
   "outputs": [
    {
     "name": "stderr",
     "output_type": "stream",
     "text": [
      "2024-05-22 19:04:04.178683: W tensorflow/core/common_runtime/gpu/gpu_device.cc:2348] TensorFlow was not built with CUDA kernel binaries compatible with compute capability 9.0. CUDA kernels will be jit-compiled from PTX, which could take 30 minutes or longer.\n",
      "2024-05-22 19:04:04.195235: W tensorflow/core/common_runtime/gpu/gpu_device.cc:2348] TensorFlow was not built with CUDA kernel binaries compatible with compute capability 9.0. CUDA kernels will be jit-compiled from PTX, which could take 30 minutes or longer.\n",
      "2024-05-22 19:04:04.370929: I tensorflow/core/common_runtime/gpu/gpu_device.cc:1929] Created device /job:localhost/replica:0/task:0/device:GPU:0 with 8077 MB memory:  -> device: 0, name: NVIDIA H100 80GB HBM3 MIG 1g.10gb, pci bus id: 0000:df:00.0, compute capability: 9.0\n",
      "2024-05-22 19:04:04.901812: W external/local_xla/xla/stream_executor/gpu/asm_compiler.cc:225] Falling back to the CUDA driver for PTX compilation; ptxas does not support CC 9.0\n",
      "2024-05-22 19:04:04.901852: W external/local_xla/xla/stream_executor/gpu/asm_compiler.cc:228] Used ptxas at ptxas\n",
      "2024-05-22 19:04:04.901945: W tensorflow/compiler/mlir/tools/kernel_gen/transforms/gpu_kernel_to_blob_pass.cc:191] Failed to compile generated PTX with ptxas. Falling back to compilation by driver.\n",
      "2024-05-22 19:04:04.903090: W tensorflow/compiler/mlir/tools/kernel_gen/transforms/gpu_kernel_to_blob_pass.cc:191] Failed to compile generated PTX with ptxas. Falling back to compilation by driver.\n",
      "2024-05-22 19:04:04.903172: W tensorflow/compiler/mlir/tools/kernel_gen/transforms/gpu_kernel_to_blob_pass.cc:191] Failed to compile generated PTX with ptxas. Falling back to compilation by driver.\n",
      "2024-05-22 19:04:04.903277: W tensorflow/compiler/mlir/tools/kernel_gen/transforms/gpu_kernel_to_blob_pass.cc:191] Failed to compile generated PTX with ptxas. Falling back to compilation by driver.\n",
      "2024-05-22 19:04:04.903376: W tensorflow/compiler/mlir/tools/kernel_gen/transforms/gpu_kernel_to_blob_pass.cc:191] Failed to compile generated PTX with ptxas. Falling back to compilation by driver.\n",
      "2024-05-22 19:04:04.904898: W tensorflow/compiler/mlir/tools/kernel_gen/transforms/gpu_kernel_to_blob_pass.cc:191] Failed to compile generated PTX with ptxas. Falling back to compilation by driver.\n",
      "2024-05-22 19:04:04.907139: W tensorflow/compiler/mlir/tools/kernel_gen/transforms/gpu_kernel_to_blob_pass.cc:191] Failed to compile generated PTX with ptxas. Falling back to compilation by driver.\n",
      "2024-05-22 19:04:04.907172: W tensorflow/compiler/mlir/tools/kernel_gen/transforms/gpu_kernel_to_blob_pass.cc:191] Failed to compile generated PTX with ptxas. Falling back to compilation by driver.\n"
     ]
    },
    {
     "name": "stdout",
     "output_type": "stream",
     "text": [
      "Epoch 1/100\n"
     ]
    },
    {
     "name": "stderr",
     "output_type": "stream",
     "text": [
      "2024-05-22 19:04:06.194777: E tensorflow/core/grappler/optimizers/meta_optimizer.cc:961] layout failed: INVALID_ARGUMENT: Size of values 0 does not match size of permutation 4 @ fanin shape insequential/dropout/dropout/SelectV2-2-TransposeNHWCToNCHW-LayoutOptimizer\n",
      "2024-05-22 19:04:06.489217: I external/local_xla/xla/stream_executor/cuda/cuda_dnn.cc:454] Loaded cuDNN version 8907\n",
      "2024-05-22 19:04:06.497985: W tensorflow/compiler/mlir/tools/kernel_gen/transforms/gpu_kernel_to_blob_pass.cc:191] Failed to compile generated PTX with ptxas. Falling back to compilation by driver.\n",
      "2024-05-22 19:04:06.498079: W tensorflow/compiler/mlir/tools/kernel_gen/transforms/gpu_kernel_to_blob_pass.cc:191] Failed to compile generated PTX with ptxas. Falling back to compilation by driver.\n",
      "2024-05-22 19:04:06.498107: W tensorflow/compiler/mlir/tools/kernel_gen/transforms/gpu_kernel_to_blob_pass.cc:191] Failed to compile generated PTX with ptxas. Falling back to compilation by driver.\n",
      "2024-05-22 19:04:06.498388: W tensorflow/compiler/mlir/tools/kernel_gen/transforms/gpu_kernel_to_blob_pass.cc:191] Failed to compile generated PTX with ptxas. Falling back to compilation by driver.\n",
      "2024-05-22 19:04:06.499127: W tensorflow/compiler/mlir/tools/kernel_gen/transforms/gpu_kernel_to_blob_pass.cc:191] Failed to compile generated PTX with ptxas. Falling back to compilation by driver.\n",
      "2024-05-22 19:04:06.501455: W tensorflow/compiler/mlir/tools/kernel_gen/transforms/gpu_kernel_to_blob_pass.cc:191] Failed to compile generated PTX with ptxas. Falling back to compilation by driver.\n",
      "2024-05-22 19:04:06.501489: W tensorflow/compiler/mlir/tools/kernel_gen/transforms/gpu_kernel_to_blob_pass.cc:191] Failed to compile generated PTX with ptxas. Falling back to compilation by driver.\n",
      "2024-05-22 19:04:06.503386: W tensorflow/compiler/mlir/tools/kernel_gen/transforms/gpu_kernel_to_blob_pass.cc:191] Failed to compile generated PTX with ptxas. Falling back to compilation by driver.\n",
      "2024-05-22 19:04:06.575755: W external/local_xla/xla/stream_executor/gpu/redzone_allocator.cc:322] UNIMPLEMENTED: ptxas ptxas too old. Falling back to the driver to compile.\n",
      "Relying on driver to perform ptx compilation. \n",
      "Modify $PATH to customize ptxas location.\n",
      "This message will be only logged once.\n",
      "2024-05-22 19:04:06.687593: W tensorflow/compiler/mlir/tools/kernel_gen/transforms/gpu_kernel_to_blob_pass.cc:191] Failed to compile generated PTX with ptxas. Falling back to compilation by driver.\n",
      "2024-05-22 19:04:06.859291: W tensorflow/compiler/mlir/tools/kernel_gen/transforms/gpu_kernel_to_blob_pass.cc:191] Failed to compile generated PTX with ptxas. Falling back to compilation by driver.\n",
      "2024-05-22 19:04:06.859320: W tensorflow/compiler/mlir/tools/kernel_gen/transforms/gpu_kernel_to_blob_pass.cc:191] Failed to compile generated PTX with ptxas. Falling back to compilation by driver.\n",
      "2024-05-22 19:04:06.859351: W tensorflow/compiler/mlir/tools/kernel_gen/transforms/gpu_kernel_to_blob_pass.cc:191] Failed to compile generated PTX with ptxas. Falling back to compilation by driver.\n",
      "2024-05-22 19:04:06.859373: W tensorflow/compiler/mlir/tools/kernel_gen/transforms/gpu_kernel_to_blob_pass.cc:191] Failed to compile generated PTX with ptxas. Falling back to compilation by driver.\n",
      "2024-05-22 19:04:06.859966: W tensorflow/compiler/mlir/tools/kernel_gen/transforms/gpu_kernel_to_blob_pass.cc:191] Failed to compile generated PTX with ptxas. Falling back to compilation by driver.\n",
      "2024-05-22 19:04:06.859985: W tensorflow/compiler/mlir/tools/kernel_gen/transforms/gpu_kernel_to_blob_pass.cc:191] Failed to compile generated PTX with ptxas. Falling back to compilation by driver.\n",
      "2024-05-22 19:04:06.860610: W tensorflow/compiler/mlir/tools/kernel_gen/transforms/gpu_kernel_to_blob_pass.cc:191] Failed to compile generated PTX with ptxas. Falling back to compilation by driver.\n",
      "2024-05-22 19:04:06.862003: W tensorflow/compiler/mlir/tools/kernel_gen/transforms/gpu_kernel_to_blob_pass.cc:191] Failed to compile generated PTX with ptxas. Falling back to compilation by driver.\n",
      "2024-05-22 19:04:06.862054: W tensorflow/compiler/mlir/tools/kernel_gen/transforms/gpu_kernel_to_blob_pass.cc:191] Failed to compile generated PTX with ptxas. Falling back to compilation by driver.\n",
      "2024-05-22 19:04:07.379311: W tensorflow/compiler/mlir/tools/kernel_gen/transforms/gpu_kernel_to_blob_pass.cc:191] Failed to compile generated PTX with ptxas. Falling back to compilation by driver.\n",
      "2024-05-22 19:04:07.480792: W tensorflow/compiler/mlir/tools/kernel_gen/transforms/gpu_kernel_to_blob_pass.cc:191] Failed to compile generated PTX with ptxas. Falling back to compilation by driver.\n",
      "2024-05-22 19:04:07.481550: W tensorflow/compiler/mlir/tools/kernel_gen/transforms/gpu_kernel_to_blob_pass.cc:191] Failed to compile generated PTX with ptxas. Falling back to compilation by driver.\n",
      "2024-05-22 19:04:07.481576: W tensorflow/compiler/mlir/tools/kernel_gen/transforms/gpu_kernel_to_blob_pass.cc:191] Failed to compile generated PTX with ptxas. Falling back to compilation by driver.\n",
      "2024-05-22 19:04:07.482205: W tensorflow/compiler/mlir/tools/kernel_gen/transforms/gpu_kernel_to_blob_pass.cc:191] Failed to compile generated PTX with ptxas. Falling back to compilation by driver.\n",
      "2024-05-22 19:04:07.482223: W tensorflow/compiler/mlir/tools/kernel_gen/transforms/gpu_kernel_to_blob_pass.cc:191] Failed to compile generated PTX with ptxas. Falling back to compilation by driver.\n",
      "2024-05-22 19:04:07.483545: W tensorflow/compiler/mlir/tools/kernel_gen/transforms/gpu_kernel_to_blob_pass.cc:191] Failed to compile generated PTX with ptxas. Falling back to compilation by driver.\n",
      "2024-05-22 19:04:07.483564: W tensorflow/compiler/mlir/tools/kernel_gen/transforms/gpu_kernel_to_blob_pass.cc:191] Failed to compile generated PTX with ptxas. Falling back to compilation by driver.\n",
      "2024-05-22 19:04:07.483583: W tensorflow/compiler/mlir/tools/kernel_gen/transforms/gpu_kernel_to_blob_pass.cc:191] Failed to compile generated PTX with ptxas. Falling back to compilation by driver.\n",
      "2024-05-22 19:04:07.717166: W tensorflow/compiler/mlir/tools/kernel_gen/transforms/gpu_kernel_to_blob_pass.cc:191] Failed to compile generated PTX with ptxas. Falling back to compilation by driver.\n",
      "2024-05-22 19:04:07.815792: W tensorflow/compiler/mlir/tools/kernel_gen/transforms/gpu_kernel_to_blob_pass.cc:191] Failed to compile generated PTX with ptxas. Falling back to compilation by driver.\n",
      "2024-05-22 19:04:07.865716: W tensorflow/compiler/mlir/tools/kernel_gen/transforms/gpu_kernel_to_blob_pass.cc:191] Failed to compile generated PTX with ptxas. Falling back to compilation by driver.\n",
      "2024-05-22 19:04:07.901798: W tensorflow/compiler/mlir/tools/kernel_gen/transforms/gpu_kernel_to_blob_pass.cc:191] Failed to compile generated PTX with ptxas. Falling back to compilation by driver.\n",
      "2024-05-22 19:04:07.924224: I external/local_xla/xla/service/service.cc:168] XLA service 0x7f8c78738930 initialized for platform CUDA (this does not guarantee that XLA will be used). Devices:\n",
      "2024-05-22 19:04:07.924254: I external/local_xla/xla/service/service.cc:176]   StreamExecutor device (0): NVIDIA H100 80GB HBM3 MIG 1g.10gb, Compute Capability 9.0\n",
      "WARNING: All log messages before absl::InitializeLog() is called are written to STDERR\n",
      "I0000 00:00:1716404647.980918  564702 device_compiler.h:186] Compiled cluster using XLA!  This line is logged at most once for the lifetime of the process.\n"
     ]
    },
    {
     "name": "stdout",
     "output_type": "stream",
     "text": [
      "782/782 [==============================] - 25s 24ms/step - loss: 8.4767 - accuracy: 0.1344 - val_loss: 7.5687 - val_accuracy: 0.2323\n",
      "Epoch 2/100\n",
      "782/782 [==============================] - 18s 22ms/step - loss: 8.3277 - accuracy: 0.1503 - val_loss: 7.9091 - val_accuracy: 0.2017\n",
      "Epoch 3/100\n",
      "782/782 [==============================] - 18s 22ms/step - loss: 8.3205 - accuracy: 0.1525 - val_loss: 7.4166 - val_accuracy: 0.2539\n",
      "Epoch 4/100\n",
      "782/782 [==============================] - 18s 23ms/step - loss: 8.2911 - accuracy: 0.1561 - val_loss: 7.0982 - val_accuracy: 0.2920\n",
      "Epoch 5/100\n",
      "782/782 [==============================] - 19s 24ms/step - loss: 8.2772 - accuracy: 0.1607 - val_loss: 6.5585 - val_accuracy: 0.3329\n",
      "Epoch 6/100\n",
      "782/782 [==============================] - 19s 24ms/step - loss: 8.1788 - accuracy: 0.1727 - val_loss: 6.6242 - val_accuracy: 0.3330\n",
      "Epoch 7/100\n",
      "782/782 [==============================] - 18s 23ms/step - loss: 8.1824 - accuracy: 0.1727 - val_loss: 6.0130 - val_accuracy: 0.3938\n",
      "Epoch 8/100\n",
      "782/782 [==============================] - 19s 24ms/step - loss: 8.0926 - accuracy: 0.1855 - val_loss: 6.2021 - val_accuracy: 0.3751\n",
      "Epoch 9/100\n",
      "782/782 [==============================] - 18s 23ms/step - loss: 8.0645 - accuracy: 0.1890 - val_loss: 5.6278 - val_accuracy: 0.4405\n",
      "Epoch 10/100\n",
      "782/782 [==============================] - 18s 23ms/step - loss: 8.0345 - accuracy: 0.1932 - val_loss: 5.4410 - val_accuracy: 0.4591\n",
      "Epoch 11/100\n",
      "782/782 [==============================] - 18s 23ms/step - loss: 8.1211 - accuracy: 0.1812 - val_loss: 6.0355 - val_accuracy: 0.3880\n",
      "Epoch 12/100\n",
      "782/782 [==============================] - 18s 23ms/step - loss: 8.0105 - accuracy: 0.1938 - val_loss: 5.2899 - val_accuracy: 0.4755\n",
      "Epoch 13/100\n",
      "782/782 [==============================] - 19s 24ms/step - loss: 7.9054 - accuracy: 0.2057 - val_loss: 5.2782 - val_accuracy: 0.4704\n",
      "Epoch 14/100\n",
      "782/782 [==============================] - 18s 23ms/step - loss: 7.8753 - accuracy: 0.2091 - val_loss: 5.2523 - val_accuracy: 0.4753\n",
      "Epoch 15/100\n",
      "782/782 [==============================] - 18s 23ms/step - loss: 7.8017 - accuracy: 0.2189 - val_loss: 4.8976 - val_accuracy: 0.5159\n",
      "Epoch 16/100\n",
      "782/782 [==============================] - 18s 23ms/step - loss: 7.7873 - accuracy: 0.2198 - val_loss: 4.7842 - val_accuracy: 0.5232\n",
      "Epoch 17/100\n",
      "782/782 [==============================] - 18s 22ms/step - loss: 7.7326 - accuracy: 0.2267 - val_loss: 5.3354 - val_accuracy: 0.4636\n",
      "Epoch 18/100\n",
      "782/782 [==============================] - 17s 22ms/step - loss: 7.6901 - accuracy: 0.2318 - val_loss: 5.0801 - val_accuracy: 0.4965\n",
      "Epoch 19/100\n",
      "782/782 [==============================] - 17s 22ms/step - loss: 7.6519 - accuracy: 0.2359 - val_loss: 4.8848 - val_accuracy: 0.5146\n",
      "Epoch 20/100\n",
      "782/782 [==============================] - 17s 22ms/step - loss: 7.6072 - accuracy: 0.2405 - val_loss: 4.7196 - val_accuracy: 0.5287\n",
      "Epoch 21/100\n",
      "782/782 [==============================] - 18s 23ms/step - loss: 7.5753 - accuracy: 0.2452 - val_loss: 5.6149 - val_accuracy: 0.4372\n",
      "Epoch 22/100\n",
      "782/782 [==============================] - 18s 23ms/step - loss: 7.5589 - accuracy: 0.2455 - val_loss: 4.8502 - val_accuracy: 0.5175\n",
      "Epoch 23/100\n",
      "782/782 [==============================] - 17s 22ms/step - loss: 7.5059 - accuracy: 0.2501 - val_loss: 4.7381 - val_accuracy: 0.5302\n",
      "Epoch 24/100\n",
      "782/782 [==============================] - 18s 23ms/step - loss: 7.4962 - accuracy: 0.2532 - val_loss: 4.0619 - val_accuracy: 0.6046\n",
      "Epoch 25/100\n",
      "782/782 [==============================] - 17s 22ms/step - loss: 7.4735 - accuracy: 0.2543 - val_loss: 4.0680 - val_accuracy: 0.6065\n",
      "Epoch 26/100\n",
      "782/782 [==============================] - 17s 22ms/step - loss: 7.4438 - accuracy: 0.2590 - val_loss: 4.3463 - val_accuracy: 0.5762\n",
      "Epoch 27/100\n",
      "782/782 [==============================] - 17s 22ms/step - loss: 7.4014 - accuracy: 0.2630 - val_loss: 3.7840 - val_accuracy: 0.6324\n",
      "Epoch 28/100\n",
      "782/782 [==============================] - 17s 22ms/step - loss: 7.3869 - accuracy: 0.2645 - val_loss: 3.9624 - val_accuracy: 0.6245\n",
      "Epoch 29/100\n",
      "782/782 [==============================] - 17s 22ms/step - loss: 7.3344 - accuracy: 0.2697 - val_loss: 3.9751 - val_accuracy: 0.6150\n",
      "Epoch 30/100\n",
      "782/782 [==============================] - 17s 22ms/step - loss: 7.3264 - accuracy: 0.2710 - val_loss: 3.6770 - val_accuracy: 0.6430\n",
      "Epoch 31/100\n",
      "782/782 [==============================] - 17s 22ms/step - loss: 7.3130 - accuracy: 0.2718 - val_loss: 3.8492 - val_accuracy: 0.6282\n",
      "Epoch 32/100\n",
      "782/782 [==============================] - 17s 22ms/step - loss: 7.2681 - accuracy: 0.2776 - val_loss: 3.8355 - val_accuracy: 0.6222\n",
      "Epoch 33/100\n",
      "782/782 [==============================] - 17s 22ms/step - loss: 7.2840 - accuracy: 0.2753 - val_loss: 3.4492 - val_accuracy: 0.6694\n",
      "Epoch 34/100\n",
      "782/782 [==============================] - 17s 22ms/step - loss: 7.2564 - accuracy: 0.2785 - val_loss: 3.4582 - val_accuracy: 0.6718\n",
      "Epoch 35/100\n",
      "782/782 [==============================] - 18s 23ms/step - loss: 7.2381 - accuracy: 0.2807 - val_loss: 3.4529 - val_accuracy: 0.6665\n",
      "Epoch 36/100\n",
      "782/782 [==============================] - 18s 23ms/step - loss: 7.1886 - accuracy: 0.2857 - val_loss: 3.3651 - val_accuracy: 0.6775\n",
      "Epoch 37/100\n",
      "782/782 [==============================] - 18s 23ms/step - loss: 7.1890 - accuracy: 0.2854 - val_loss: 3.8879 - val_accuracy: 0.6149\n",
      "Epoch 38/100\n",
      "782/782 [==============================] - 18s 23ms/step - loss: 7.1617 - accuracy: 0.2878 - val_loss: 3.4385 - val_accuracy: 0.6674\n",
      "Epoch 39/100\n",
      "782/782 [==============================] - 18s 23ms/step - loss: 7.1339 - accuracy: 0.2914 - val_loss: 3.5323 - val_accuracy: 0.6557\n",
      "Epoch 40/100\n",
      "782/782 [==============================] - 18s 23ms/step - loss: 7.1250 - accuracy: 0.2915 - val_loss: 3.4016 - val_accuracy: 0.6749\n",
      "Epoch 41/100\n",
      "782/782 [==============================] - 18s 22ms/step - loss: 7.1066 - accuracy: 0.2938 - val_loss: 3.3299 - val_accuracy: 0.6800\n",
      "Epoch 42/100\n",
      "782/782 [==============================] - 17s 22ms/step - loss: 7.0869 - accuracy: 0.2957 - val_loss: 3.3372 - val_accuracy: 0.6826\n",
      "Epoch 43/100\n",
      "782/782 [==============================] - 17s 22ms/step - loss: 7.0801 - accuracy: 0.2970 - val_loss: 3.0447 - val_accuracy: 0.7102\n",
      "Epoch 44/100\n",
      "782/782 [==============================] - 18s 23ms/step - loss: 7.0711 - accuracy: 0.2977 - val_loss: 3.0233 - val_accuracy: 0.7143\n",
      "Epoch 45/100\n",
      "782/782 [==============================] - 18s 23ms/step - loss: 7.0498 - accuracy: 0.3002 - val_loss: 3.0926 - val_accuracy: 0.7079\n",
      "Epoch 46/100\n",
      "782/782 [==============================] - 19s 24ms/step - loss: 7.0238 - accuracy: 0.3014 - val_loss: 3.1471 - val_accuracy: 0.7019\n",
      "Epoch 47/100\n",
      "782/782 [==============================] - 18s 23ms/step - loss: 7.0067 - accuracy: 0.3042 - val_loss: 3.1875 - val_accuracy: 0.6959\n",
      "Epoch 48/100\n",
      "782/782 [==============================] - 18s 23ms/step - loss: 6.9876 - accuracy: 0.3058 - val_loss: 2.8926 - val_accuracy: 0.7275\n",
      "Epoch 49/100\n",
      "782/782 [==============================] - 19s 24ms/step - loss: 6.9728 - accuracy: 0.3077 - val_loss: 2.9030 - val_accuracy: 0.7244\n",
      "Epoch 50/100\n",
      "782/782 [==============================] - 18s 23ms/step - loss: 6.9714 - accuracy: 0.3072 - val_loss: 2.9986 - val_accuracy: 0.7173\n",
      "Epoch 51/100\n",
      "782/782 [==============================] - 18s 23ms/step - loss: 6.9425 - accuracy: 0.3112 - val_loss: 2.8291 - val_accuracy: 0.7341\n",
      "Epoch 52/100\n",
      "782/782 [==============================] - 18s 23ms/step - loss: 6.9348 - accuracy: 0.3110 - val_loss: 2.8348 - val_accuracy: 0.7332\n",
      "Epoch 53/100\n",
      "782/782 [==============================] - 18s 23ms/step - loss: 6.9322 - accuracy: 0.3118 - val_loss: 2.7896 - val_accuracy: 0.7358\n",
      "Epoch 54/100\n",
      "782/782 [==============================] - 19s 24ms/step - loss: 6.9260 - accuracy: 0.3120 - val_loss: 2.8540 - val_accuracy: 0.7280\n",
      "Epoch 55/100\n",
      "782/782 [==============================] - 18s 23ms/step - loss: 6.9041 - accuracy: 0.3142 - val_loss: 2.7651 - val_accuracy: 0.7417\n",
      "Epoch 56/100\n",
      "782/782 [==============================] - 18s 23ms/step - loss: 6.8984 - accuracy: 0.3151 - val_loss: 2.7651 - val_accuracy: 0.7395\n",
      "Epoch 57/100\n",
      "782/782 [==============================] - 18s 23ms/step - loss: 6.8728 - accuracy: 0.3175 - val_loss: 2.8462 - val_accuracy: 0.7331\n",
      "Epoch 58/100\n",
      "782/782 [==============================] - 19s 24ms/step - loss: 6.8660 - accuracy: 0.3182 - val_loss: 2.7988 - val_accuracy: 0.7340\n",
      "Epoch 59/100\n",
      "782/782 [==============================] - 19s 24ms/step - loss: 6.8665 - accuracy: 0.3173 - val_loss: 2.7550 - val_accuracy: 0.7428\n",
      "Epoch 60/100\n",
      "782/782 [==============================] - 18s 23ms/step - loss: 6.8513 - accuracy: 0.3200 - val_loss: 2.6625 - val_accuracy: 0.7471\n",
      "Epoch 61/100\n",
      "782/782 [==============================] - 18s 23ms/step - loss: 6.8387 - accuracy: 0.3209 - val_loss: 2.6996 - val_accuracy: 0.7445\n",
      "Epoch 62/100\n",
      "782/782 [==============================] - 18s 23ms/step - loss: 6.8417 - accuracy: 0.3202 - val_loss: 2.6771 - val_accuracy: 0.7471\n",
      "Epoch 63/100\n",
      "782/782 [==============================] - 18s 24ms/step - loss: 6.8348 - accuracy: 0.3206 - val_loss: 2.7182 - val_accuracy: 0.7450\n",
      "Epoch 64/100\n",
      "782/782 [==============================] - 18s 23ms/step - loss: 6.8309 - accuracy: 0.3213 - val_loss: 2.6313 - val_accuracy: 0.7545\n",
      "Epoch 65/100\n",
      "782/782 [==============================] - 18s 23ms/step - loss: 6.8128 - accuracy: 0.3231 - val_loss: 2.6648 - val_accuracy: 0.7509\n",
      "Epoch 66/100\n",
      "782/782 [==============================] - 18s 24ms/step - loss: 6.8252 - accuracy: 0.3228 - val_loss: 2.6599 - val_accuracy: 0.7512\n",
      "Epoch 67/100\n",
      "782/782 [==============================] - 18s 23ms/step - loss: 6.8113 - accuracy: 0.3235 - val_loss: 2.6738 - val_accuracy: 0.7479\n",
      "Epoch 68/100\n",
      "782/782 [==============================] - 18s 23ms/step - loss: 6.8003 - accuracy: 0.3243 - val_loss: 2.6312 - val_accuracy: 0.7526\n",
      "Epoch 69/100\n",
      "782/782 [==============================] - 19s 24ms/step - loss: 6.7930 - accuracy: 0.3256 - val_loss: 2.6422 - val_accuracy: 0.7538\n",
      "Epoch 70/100\n",
      "782/782 [==============================] - 19s 24ms/step - loss: 6.7728 - accuracy: 0.3277 - val_loss: 2.6206 - val_accuracy: 0.7570\n",
      "Epoch 71/100\n",
      "782/782 [==============================] - 19s 24ms/step - loss: 6.7694 - accuracy: 0.3289 - val_loss: 2.6290 - val_accuracy: 0.7540\n",
      "Epoch 72/100\n",
      "782/782 [==============================] - 18s 24ms/step - loss: 6.7938 - accuracy: 0.3243 - val_loss: 2.6125 - val_accuracy: 0.7567\n",
      "Epoch 73/100\n",
      "782/782 [==============================] - 18s 23ms/step - loss: 6.7785 - accuracy: 0.3277 - val_loss: 2.6053 - val_accuracy: 0.7585\n",
      "Epoch 74/100\n",
      "782/782 [==============================] - 19s 24ms/step - loss: 6.7670 - accuracy: 0.3283 - val_loss: 2.5970 - val_accuracy: 0.7596\n",
      "Epoch 75/100\n",
      "782/782 [==============================] - 18s 24ms/step - loss: 6.7686 - accuracy: 0.3272 - val_loss: 2.6111 - val_accuracy: 0.7571\n",
      "Epoch 76/100\n",
      "782/782 [==============================] - 18s 23ms/step - loss: 6.7695 - accuracy: 0.3284 - val_loss: 2.5963 - val_accuracy: 0.7578\n",
      "Epoch 77/100\n",
      "782/782 [==============================] - 18s 23ms/step - loss: 6.7588 - accuracy: 0.3289 - val_loss: 2.5883 - val_accuracy: 0.7592\n",
      "Epoch 78/100\n",
      "782/782 [==============================] - 18s 23ms/step - loss: 6.7590 - accuracy: 0.3290 - val_loss: 2.5798 - val_accuracy: 0.7589\n",
      "Epoch 79/100\n",
      "782/782 [==============================] - 19s 24ms/step - loss: 6.7584 - accuracy: 0.3296 - val_loss: 2.5872 - val_accuracy: 0.7594\n",
      "Epoch 80/100\n",
      "782/782 [==============================] - 18s 23ms/step - loss: 6.7687 - accuracy: 0.3276 - val_loss: 2.5951 - val_accuracy: 0.7588\n",
      "Epoch 81/100\n",
      "782/782 [==============================] - 19s 24ms/step - loss: 6.7734 - accuracy: 0.3270 - val_loss: 2.5783 - val_accuracy: 0.7603\n",
      "Epoch 82/100\n",
      "782/782 [==============================] - 19s 24ms/step - loss: 6.7561 - accuracy: 0.3293 - val_loss: 2.5820 - val_accuracy: 0.7603\n",
      "Epoch 83/100\n",
      "782/782 [==============================] - 19s 24ms/step - loss: 6.7614 - accuracy: 0.3284 - val_loss: 2.5834 - val_accuracy: 0.7599\n",
      "Epoch 84/100\n",
      "782/782 [==============================] - 18s 23ms/step - loss: 6.7606 - accuracy: 0.3288 - val_loss: 2.5885 - val_accuracy: 0.7586\n",
      "Epoch 85/100\n",
      "782/782 [==============================] - 18s 23ms/step - loss: 6.7772 - accuracy: 0.3267 - val_loss: 2.5907 - val_accuracy: 0.7588\n",
      "Epoch 86/100\n",
      "782/782 [==============================] - 18s 23ms/step - loss: 6.7621 - accuracy: 0.3293 - val_loss: 2.5862 - val_accuracy: 0.7599\n",
      "Epoch 87/100\n",
      "782/782 [==============================] - 18s 23ms/step - loss: 6.7507 - accuracy: 0.3314 - val_loss: 2.5816 - val_accuracy: 0.7598\n",
      "Epoch 88/100\n",
      "782/782 [==============================] - 18s 23ms/step - loss: 6.7596 - accuracy: 0.3285 - val_loss: 2.5804 - val_accuracy: 0.7601\n",
      "Epoch 89/100\n",
      "782/782 [==============================] - 18s 23ms/step - loss: 6.7611 - accuracy: 0.3290 - val_loss: 2.5839 - val_accuracy: 0.7599\n",
      "Epoch 90/100\n",
      "782/782 [==============================] - 19s 24ms/step - loss: 6.7656 - accuracy: 0.3285 - val_loss: 2.5833 - val_accuracy: 0.7602\n",
      "Epoch 91/100\n",
      "782/782 [==============================] - 18s 23ms/step - loss: 6.7611 - accuracy: 0.3282 - val_loss: 2.5872 - val_accuracy: 0.7596\n",
      "Epoch 92/100\n",
      "782/782 [==============================] - 18s 24ms/step - loss: 6.7723 - accuracy: 0.3274 - val_loss: 2.5859 - val_accuracy: 0.7608\n",
      "Epoch 93/100\n",
      "782/782 [==============================] - 19s 24ms/step - loss: 6.7520 - accuracy: 0.3304 - val_loss: 2.5854 - val_accuracy: 0.7593\n",
      "Epoch 94/100\n",
      "782/782 [==============================] - 19s 24ms/step - loss: 6.7635 - accuracy: 0.3290 - val_loss: 2.5856 - val_accuracy: 0.7600\n",
      "Epoch 95/100\n",
      "782/782 [==============================] - 18s 23ms/step - loss: 6.7532 - accuracy: 0.3303 - val_loss: 2.5873 - val_accuracy: 0.7593\n",
      "Epoch 96/100\n",
      "782/782 [==============================] - 18s 22ms/step - loss: 6.7536 - accuracy: 0.3300 - val_loss: 2.5931 - val_accuracy: 0.7592\n",
      "Epoch 97/100\n",
      "782/782 [==============================] - 18s 23ms/step - loss: 6.7667 - accuracy: 0.3283 - val_loss: 2.5869 - val_accuracy: 0.7597\n",
      "Epoch 98/100\n",
      "782/782 [==============================] - 18s 24ms/step - loss: 6.7688 - accuracy: 0.3270 - val_loss: 2.5887 - val_accuracy: 0.7588\n",
      "Epoch 99/100\n",
      "782/782 [==============================] - 18s 23ms/step - loss: 6.7727 - accuracy: 0.3273 - val_loss: 2.5819 - val_accuracy: 0.7594\n",
      "Epoch 100/100\n",
      "782/782 [==============================] - 18s 23ms/step - loss: 6.7782 - accuracy: 0.3264 - val_loss: 2.5859 - val_accuracy: 0.7584\n"
     ]
    }
   ],
   "source": [
    "model = dropout_model()\n",
    "results = train(model, trainX, trainY, testX, testY)"
   ]
  },
  {
   "cell_type": "code",
   "execution_count": 9,
   "metadata": {
    "colab": {
     "base_uri": "https://localhost:8080/",
     "height": 904
    },
    "executionInfo": {
     "elapsed": 2168,
     "status": "ok",
     "timestamp": 1715793363574,
     "user": {
      "displayName": "Jonatan Hyberg",
      "userId": "02103785444766429018"
     },
     "user_tz": -120
    },
    "id": "yNdQN-nnCTUk",
    "outputId": "fc0a0793-fbbc-436a-b9b3-5941ca4db1ca"
   },
   "outputs": [
    {
     "data": {
      "image/png": "[encoded data removed]",
      "text/plain": [
       "<Figure size 640x480 with 1 Axes>"
      ]
     },
     "metadata": {},
     "output_type": "display_data"
    },
    {
     "data": {
      "image/png": "[encoded data removed]",
      "text/plain": [
       "<Figure size 640x480 with 1 Axes>"
      ]
     },
     "metadata": {},
     "output_type": "display_data"
    },
    {
     "name": "stdout",
     "output_type": "stream",
     "text": [
      "The model achieved a final accuracy of 75.84%\n"
     ]
    }
   ],
   "source": [
    "plot_results(results.history)\n",
    "evaluate(model, testX, testY)"
   ]
  },
  {
   "cell_type": "code",
   "execution_count": 10,
   "metadata": {
    "executionInfo": {
     "elapsed": 301,
     "status": "ok",
     "timestamp": 1715793629457,
     "user": {
      "displayName": "Jonatan Hyberg",
      "userId": "02103785444766429018"
     },
     "user_tz": -120
    },
    "id": "VmsurzVECTUk"
   },
   "outputs": [],
   "source": [
    "save_model('SL_noisy_model_60_sym_dropout', model)\n",
    "save_history('SL_noisy_model_60_sym_dropout', results.history)"
   ]
  }
 ],
 "metadata": {
  "accelerator": "GPU",
  "colab": {
   "gpuType": "T4",
   "provenance": [
    {
     "file_id": "1irCtCvrPih104WASUJu-j-MZJMXLKCEy",
     "timestamp": 1715782757909
    }
   ]
  },
  "kernelspec": {
   "display_name": "Python 3 (ipykernel)",
   "language": "python",
   "name": "python3"
  },
  "language_info": {
   "codemirror_mode": {
    "name": "ipython",
    "version": 3
   },
   "file_extension": ".py",
   "mimetype": "text/x-python",
   "name": "python",
   "nbconvert_exporter": "python",
   "pygments_lexer": "ipython3",
   "version": "3.10.13"
  },
  "vscode": {
   "interpreter": {
    "hash": "63009f7f2cc996fccde2458c7f62140de231233c09c29bb8f0fa7c6864762ba3"
   }
  }
 },
 "nbformat": 4,
 "nbformat_minor": 4
}
