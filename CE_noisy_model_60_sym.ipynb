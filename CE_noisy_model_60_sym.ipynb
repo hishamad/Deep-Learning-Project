{
 "cells": [
  {
   "cell_type": "code",
   "execution_count": 1,
   "metadata": {
    "executionInfo": {
     "elapsed": 4900,
     "status": "ok",
     "timestamp": 1715782928249,
     "user": {
      "displayName": "Jonatan Hyberg",
      "userId": "02103785444766429018"
     },
     "user_tz": -120
    },
    "id": "kyqOgTWzCTUX"
   },
   "outputs": [
    {
     "name": "stderr",
     "output_type": "stream",
     "text": [
      "2024-05-22 17:36:41.957780: I tensorflow/core/util/port.cc:113] oneDNN custom operations are on. You may see slightly different numerical results due to floating-point round-off errors from different computation orders. To turn them off, set the environment variable `TF_ENABLE_ONEDNN_OPTS=0`.\n",
      "2024-05-22 17:36:41.994751: E external/local_xla/xla/stream_executor/cuda/cuda_dnn.cc:9261] Unable to register cuDNN factory: Attempting to register factory for plugin cuDNN when one has already been registered\n",
      "2024-05-22 17:36:41.994792: E external/local_xla/xla/stream_executor/cuda/cuda_fft.cc:607] Unable to register cuFFT factory: Attempting to register factory for plugin cuFFT when one has already been registered\n",
      "2024-05-22 17:36:41.995871: E external/local_xla/xla/stream_executor/cuda/cuda_blas.cc:1515] Unable to register cuBLAS factory: Attempting to register factory for plugin cuBLAS when one has already been registered\n",
      "2024-05-22 17:36:42.007363: I tensorflow/core/platform/cpu_feature_guard.cc:182] This TensorFlow binary is optimized to use available CPU instructions in performance-critical operations.\n",
      "To enable the following instructions: AVX2 AVX512F AVX512_VNNI AVX512_BF16 AVX_VNNI AMX_TILE AMX_INT8 AMX_BF16 FMA, in other operations, rebuild TensorFlow with the appropriate compiler flags.\n"
     ]
    }
   ],
   "source": [
    "import sys\n",
    "import tensorflow as tf\n",
    "import matplotlib.pyplot as plt\n",
    "from tensorflow.keras.datasets import cifar10\n",
    "from tensorflow.keras.layers import Conv2D\n",
    "from tensorflow.keras.layers import MaxPooling2D\n",
    "from tensorflow.keras.layers import Dense\n",
    "from tensorflow.keras.layers import Flatten\n",
    "from tensorflow.keras.utils import to_categorical\n",
    "from tensorflow.keras.models import Sequential\n",
    "from tensorflow.keras.optimizers import SGD\n",
    "from keras.layers import Dropout\n",
    "from tensorflow.keras.preprocessing.image import ImageDataGenerator\n",
    "# from cosine_annealing import CosineAnnealingScheduler\n",
    "from keras.layers import BatchNormalization\n",
    "import pickle\n",
    "from keras.regularizers import l2\n",
    "from  scipy import ndimage\n",
    "import numpy as np"
   ]
  },
  {
   "cell_type": "markdown",
   "metadata": {
    "id": "y67Ec5FICTUd"
   },
   "source": [
    "#### Dataset\n"
   ]
  },
  {
   "cell_type": "markdown",
   "metadata": {
    "id": "CYNU45pfCTUf"
   },
   "source": [
    "Load dataset + One-hot encoding + Normalization"
   ]
  },
  {
   "cell_type": "code",
   "execution_count": 2,
   "metadata": {
    "executionInfo": {
     "elapsed": 495,
     "status": "ok",
     "timestamp": 1715782996141,
     "user": {
      "displayName": "Jonatan Hyberg",
      "userId": "02103785444766429018"
     },
     "user_tz": -120
    },
    "id": "o8BGn2ZOCTUg"
   },
   "outputs": [],
   "source": [
    "def load_dataset(noise_ratio=0, sym=True):\n",
    "    (trainX, trainY), (testX, testY) = cifar10.load_data()\n",
    "    n_classes = 10\n",
    "\n",
    "    if noise_ratio > 0:\n",
    "        trainY_original = np.copy(trainY)\n",
    "        if not sym:\n",
    "            # Asymmetric noise\n",
    "            source_class = [9, 2, 3, 5, 4]\n",
    "            target_class = [1, 0, 5, 3, 7]\n",
    "            \n",
    "            for s, t in zip(source_class, target_class):\n",
    "                cls_idx = np.where(trainY_original == s)[0]\n",
    "                n_noisy = int(noise_ratio * cls_idx.shape[0] / 100)\n",
    "                noisy_sample_index = np.random.choice(cls_idx, n_noisy, replace=False)\n",
    "                trainY[noisy_sample_index] = t\n",
    "        else:\n",
    "            # Symetric noise\n",
    "            n_samples = trainY.shape[0]\n",
    "            n_noisy = int(noise_ratio * n_samples / 100)\n",
    "            class_index = [np.where(trainY_original == i)[0] for i in range(n_classes)]\n",
    "            class_noisy = int(n_noisy / n_classes)\n",
    "\n",
    "            noisy_idx = []\n",
    "            for d in range(n_classes):\n",
    "                noisy_class_index = np.random.choice(class_index[d], class_noisy, replace=False)\n",
    "                noisy_idx.extend(noisy_class_index)\n",
    "\n",
    "            for i in noisy_idx:\n",
    "                class_ind = trainY_original[i]\n",
    "                other_class_list = list(range(n_classes))\n",
    "                other_class_list.remove(class_ind)\n",
    "                other_class = np.random.choice(other_class_list)\n",
    "                trainY[i] = other_class\n",
    "        \n",
    "    # One-hot encoding\n",
    "    trainY = to_categorical(trainY)\n",
    "    testY = to_categorical(testY)\n",
    "    # Normalize to [0,1]\n",
    "    trainX = trainX.astype('float32') / 255.0\n",
    "    testX = testX.astype('float32') / 255.0\n",
    "\n",
    "    return trainX, trainY, testX, testY"
   ]
  },
  {
   "cell_type": "markdown",
   "metadata": {
    "id": "-eHdUCx4CTUg"
   },
   "source": [
    "#### Model"
   ]
  },
  {
   "cell_type": "markdown",
   "metadata": {
    "id": "_ZUdh8aqCTUh"
   },
   "source": [
    "Imortant functions"
   ]
  },
  {
   "cell_type": "code",
   "execution_count": 3,
   "metadata": {
    "executionInfo": {
     "elapsed": 2,
     "status": "ok",
     "timestamp": 1715784774519,
     "user": {
      "displayName": "Jonatan Hyberg",
      "userId": "02103785444766429018"
     },
     "user_tz": -120
    },
    "id": "BGpONL8FCTUh"
   },
   "outputs": [],
   "source": [
    "def train(model, trainX, trainY, testX, testY):\n",
    "\n",
    "\tgenerator = ImageDataGenerator(width_shift_range=0.1, height_shift_range=0.1, horizontal_flip=True)\n",
    "\n",
    "\ttrain_data = generator.flow(trainX, trainY, batch_size=64)\n",
    "\n",
    "\tresults = model.fit(train_data, epochs=100, validation_data=(testX, testY), verbose=1)\n",
    "\n",
    "\treturn results\n",
    "\n",
    "def evaluate(model, testX, testY):\n",
    "    _, acc = model.evaluate(testX, testY, verbose=0)\n",
    "\n",
    "    print(f\"The model achieved a final accuracy of {acc*100:.2f}%\")\n",
    "\n",
    "def plot_results(history):\n",
    "\tplt.title('Cross Entropy Loss')\n",
    "\tplt.plot(history['loss'], color='blue', label='Training loss')\n",
    "\tplt.plot(history['val_loss'], color='orange', label='Validation/test loss')\n",
    "\tplt.legend()\n",
    "\tplt.show()\n",
    "\n",
    "\tplt.title('Classification Accuracy')\n",
    "\tplt.plot(history['accuracy'], color='blue', label='Training accuracy')\n",
    "\tplt.plot(history['val_accuracy'], color='orange', label='Validation/test accuracy')\n",
    "\tplt.legend()\n",
    "\tplt.show()"
   ]
  },
  {
   "cell_type": "code",
   "execution_count": 4,
   "metadata": {
    "executionInfo": {
     "elapsed": 2,
     "status": "ok",
     "timestamp": 1715783002196,
     "user": {
      "displayName": "Jonatan Hyberg",
      "userId": "02103785444766429018"
     },
     "user_tz": -120
    },
    "id": "Ls19xeC0CTUi"
   },
   "outputs": [],
   "source": [
    "def save_model(filename, model):\n",
    "    filename = './models/' + filename\n",
    "    pickle.dump(model, open(filename, 'wb'))\n",
    "\n",
    "def save_history(filename, history):\n",
    "    filename = './history/' + filename\n",
    "    pickle.dump(history, open(filename, 'wb'))\n",
    "\n",
    "def load_model(filename):\n",
    "    filename = './models/' + filename\n",
    "    model = pickle.load(open(filename, 'rb'))\n",
    "    return model\n",
    "\n",
    "def load_history(filename):\n",
    "    filename = './history/' + filename\n",
    "    history = pickle.load(open(filename, 'rb'))\n",
    "    return history"
   ]
  },
  {
   "cell_type": "markdown",
   "metadata": {
    "id": "fXqNA_VcCTUj"
   },
   "source": [
    "Baseline model"
   ]
  },
  {
   "cell_type": "code",
   "execution_count": 5,
   "metadata": {
    "executionInfo": {
     "elapsed": 4,
     "status": "ok",
     "timestamp": 1715789630290,
     "user": {
      "displayName": "Jonatan Hyberg",
      "userId": "02103785444766429018"
     },
     "user_tz": -120
    },
    "id": "C9xaw4BBCTUj"
   },
   "outputs": [],
   "source": [
    "def dropout_model():\n",
    "    # Create architecture\n",
    "    model = Sequential()\n",
    "    model.add(Conv2D(32, (3, 3), activation='relu', kernel_initializer='he_uniform', padding='same', input_shape=(32, 32, 3)))\n",
    "    model.add(BatchNormalization())\n",
    "    model.add(Conv2D(32, (3, 3), activation='relu', kernel_initializer='he_uniform', padding='same'))\n",
    "    model.add(BatchNormalization())\n",
    "    model.add(MaxPooling2D((2, 2)))\n",
    "    # model.add(Dropout(0.2))\n",
    "    model.add(Conv2D(64, (3, 3), activation='relu', kernel_initializer='he_uniform', padding='same'))\n",
    "    model.add(BatchNormalization())\n",
    "    model.add(Conv2D(64, (3, 3), activation='relu', kernel_initializer='he_uniform', padding='same'))\n",
    "    model.add(BatchNormalization())\n",
    "    model.add(MaxPooling2D((2, 2)))\n",
    "    # model.add(Dropout(0.3))\n",
    "    model.add(Conv2D(128, (3, 3), activation='relu', kernel_initializer='he_uniform', padding='same'))\n",
    "    model.add(BatchNormalization())\n",
    "    model.add(Conv2D(128, (3, 3), activation='relu', kernel_initializer='he_uniform', padding='same'))\n",
    "    model.add(BatchNormalization())\n",
    "    model.add(MaxPooling2D((2, 2)))\n",
    "    # model.add(Dropout(0.4))\n",
    "    model.add(Flatten())\n",
    "    model.add(Dense(128, activation='relu', kernel_initializer='he_uniform'))\n",
    "    model.add(BatchNormalization())\n",
    "    # model.add(Dropout(0.5))\n",
    "    model.add(Dense(10, activation='softmax'))\n",
    "\n",
    "    total_steps = int(trainX.shape[0]/64) * 100\n",
    "    decay_steps = total_steps*0.8\n",
    "    initial_learning_rate = 0.0001\n",
    "    warmup_steps = 1000\n",
    "    target_learning_rate = 0.1\n",
    "    alpha = 0.001\n",
    "\n",
    "    lr_warmup_decayed_fn = tf.keras.optimizers.schedules.CosineDecay(\n",
    "        initial_learning_rate, decay_steps, warmup_target=target_learning_rate,\n",
    "        warmup_steps=warmup_steps,alpha = alpha\n",
    "    )\n",
    "    # Optimization method\n",
    "    opt = SGD(learning_rate=lr_warmup_decayed_fn, momentum=0.9)\n",
    "\n",
    "    # Compile model and choose loss type\n",
    "    model.compile(optimizer=opt, loss='categorical_crossentropy', metrics=['accuracy'])\n",
    "    return model"
   ]
  },
  {
   "cell_type": "code",
   "execution_count": 6,
   "metadata": {
    "colab": {
     "base_uri": "https://localhost:8080/"
    },
    "executionInfo": {
     "elapsed": 9036,
     "status": "ok",
     "timestamp": 1715783015758,
     "user": {
      "displayName": "Jonatan Hyberg",
      "userId": "02103785444766429018"
     },
     "user_tz": -120
    },
    "id": "q_FZ9SNHCTUj",
    "outputId": "db089f9d-58a3-4b4e-c9d6-6d4208bdcd7f"
   },
   "outputs": [],
   "source": [
    "trainX, trainY, testX, testY = load_dataset(noise_ratio=60, sym=True)"
   ]
  },
  {
   "cell_type": "code",
   "execution_count": 7,
   "metadata": {
    "colab": {
     "base_uri": "https://localhost:8080/"
    },
    "executionInfo": {
     "elapsed": 3670727,
     "status": "ok",
     "timestamp": 1715793305366,
     "user": {
      "displayName": "Jonatan Hyberg",
      "userId": "02103785444766429018"
     },
     "user_tz": -120
    },
    "id": "5aSe_cO4CTUk",
    "outputId": "490b509f-4efa-4d66-cae6-6271c8a1ee29"
   },
   "outputs": [
    {
     "name": "stderr",
     "output_type": "stream",
     "text": [
      "2024-05-22 17:36:46.203479: W tensorflow/core/common_runtime/gpu/gpu_device.cc:2348] TensorFlow was not built with CUDA kernel binaries compatible with compute capability 9.0. CUDA kernels will be jit-compiled from PTX, which could take 30 minutes or longer.\n",
      "2024-05-22 17:36:46.231794: W tensorflow/core/common_runtime/gpu/gpu_device.cc:2348] TensorFlow was not built with CUDA kernel binaries compatible with compute capability 9.0. CUDA kernels will be jit-compiled from PTX, which could take 30 minutes or longer.\n",
      "2024-05-22 17:36:46.508429: I tensorflow/core/common_runtime/gpu/gpu_device.cc:1929] Created device /job:localhost/replica:0/task:0/device:GPU:0 with 8077 MB memory:  -> device: 0, name: NVIDIA H100 80GB HBM3 MIG 1g.10gb, pci bus id: 0000:df:00.0, compute capability: 9.0\n",
      "2024-05-22 17:36:46.949325: W external/local_xla/xla/stream_executor/gpu/asm_compiler.cc:225] Falling back to the CUDA driver for PTX compilation; ptxas does not support CC 9.0\n",
      "2024-05-22 17:36:46.949349: W external/local_xla/xla/stream_executor/gpu/asm_compiler.cc:228] Used ptxas at ptxas\n",
      "2024-05-22 17:36:46.949395: W tensorflow/compiler/mlir/tools/kernel_gen/transforms/gpu_kernel_to_blob_pass.cc:191] Failed to compile generated PTX with ptxas. Falling back to compilation by driver.\n",
      "2024-05-22 17:36:46.949414: W tensorflow/compiler/mlir/tools/kernel_gen/transforms/gpu_kernel_to_blob_pass.cc:191] Failed to compile generated PTX with ptxas. Falling back to compilation by driver.\n",
      "2024-05-22 17:36:46.949504: W tensorflow/compiler/mlir/tools/kernel_gen/transforms/gpu_kernel_to_blob_pass.cc:191] Failed to compile generated PTX with ptxas. Falling back to compilation by driver.\n",
      "2024-05-22 17:36:46.949522: W tensorflow/compiler/mlir/tools/kernel_gen/transforms/gpu_kernel_to_blob_pass.cc:191] Failed to compile generated PTX with ptxas. Falling back to compilation by driver.\n",
      "2024-05-22 17:36:46.949545: W tensorflow/compiler/mlir/tools/kernel_gen/transforms/gpu_kernel_to_blob_pass.cc:191] Failed to compile generated PTX with ptxas. Falling back to compilation by driver.\n",
      "2024-05-22 17:36:46.949568: W tensorflow/compiler/mlir/tools/kernel_gen/transforms/gpu_kernel_to_blob_pass.cc:191] Failed to compile generated PTX with ptxas. Falling back to compilation by driver.\n",
      "2024-05-22 17:36:46.949589: W tensorflow/compiler/mlir/tools/kernel_gen/transforms/gpu_kernel_to_blob_pass.cc:191] Failed to compile generated PTX with ptxas. Falling back to compilation by driver.\n",
      "2024-05-22 17:36:46.949643: W tensorflow/compiler/mlir/tools/kernel_gen/transforms/gpu_kernel_to_blob_pass.cc:191] Failed to compile generated PTX with ptxas. Falling back to compilation by driver.\n"
     ]
    },
    {
     "name": "stdout",
     "output_type": "stream",
     "text": [
      "Epoch 1/100\n"
     ]
    },
    {
     "name": "stderr",
     "output_type": "stream",
     "text": [
      "2024-05-22 17:36:48.363799: I external/local_xla/xla/stream_executor/cuda/cuda_dnn.cc:454] Loaded cuDNN version 8907\n",
      "2024-05-22 17:36:48.429773: W external/local_xla/xla/stream_executor/gpu/redzone_allocator.cc:322] UNIMPLEMENTED: ptxas ptxas too old. Falling back to the driver to compile.\n",
      "Relying on driver to perform ptx compilation. \n",
      "Modify $PATH to customize ptxas location.\n",
      "This message will be only logged once.\n",
      "2024-05-22 17:36:48.783727: W tensorflow/compiler/mlir/tools/kernel_gen/transforms/gpu_kernel_to_blob_pass.cc:191] Failed to compile generated PTX with ptxas. Falling back to compilation by driver.\n",
      "2024-05-22 17:36:48.886918: W tensorflow/compiler/mlir/tools/kernel_gen/transforms/gpu_kernel_to_blob_pass.cc:191] Failed to compile generated PTX with ptxas. Falling back to compilation by driver.\n",
      "2024-05-22 17:36:48.886952: W tensorflow/compiler/mlir/tools/kernel_gen/transforms/gpu_kernel_to_blob_pass.cc:191] Failed to compile generated PTX with ptxas. Falling back to compilation by driver.\n",
      "2024-05-22 17:36:48.886975: W tensorflow/compiler/mlir/tools/kernel_gen/transforms/gpu_kernel_to_blob_pass.cc:191] Failed to compile generated PTX with ptxas. Falling back to compilation by driver.\n",
      "2024-05-22 17:36:48.887672: W tensorflow/compiler/mlir/tools/kernel_gen/transforms/gpu_kernel_to_blob_pass.cc:191] Failed to compile generated PTX with ptxas. Falling back to compilation by driver.\n",
      "2024-05-22 17:36:48.887753: W tensorflow/compiler/mlir/tools/kernel_gen/transforms/gpu_kernel_to_blob_pass.cc:191] Failed to compile generated PTX with ptxas. Falling back to compilation by driver.\n",
      "2024-05-22 17:36:48.889216: W tensorflow/compiler/mlir/tools/kernel_gen/transforms/gpu_kernel_to_blob_pass.cc:191] Failed to compile generated PTX with ptxas. Falling back to compilation by driver.\n",
      "2024-05-22 17:36:48.889233: W tensorflow/compiler/mlir/tools/kernel_gen/transforms/gpu_kernel_to_blob_pass.cc:191] Failed to compile generated PTX with ptxas. Falling back to compilation by driver.\n",
      "2024-05-22 17:36:48.889247: W tensorflow/compiler/mlir/tools/kernel_gen/transforms/gpu_kernel_to_blob_pass.cc:191] Failed to compile generated PTX with ptxas. Falling back to compilation by driver.\n",
      "2024-05-22 17:36:49.075979: W tensorflow/compiler/mlir/tools/kernel_gen/transforms/gpu_kernel_to_blob_pass.cc:191] Failed to compile generated PTX with ptxas. Falling back to compilation by driver.\n",
      "2024-05-22 17:36:49.157437: I external/local_xla/xla/service/service.cc:168] XLA service 0x7fba990525e0 initialized for platform CUDA (this does not guarantee that XLA will be used). Devices:\n",
      "2024-05-22 17:36:49.157474: I external/local_xla/xla/service/service.cc:176]   StreamExecutor device (0): NVIDIA H100 80GB HBM3 MIG 1g.10gb, Compute Capability 9.0\n",
      "WARNING: All log messages before absl::InitializeLog() is called are written to STDERR\n",
      "I0000 00:00:1716399409.225729  456023 device_compiler.h:186] Compiled cluster using XLA!  This line is logged at most once for the lifetime of the process.\n",
      "2024-05-22 17:36:49.454853: W tensorflow/compiler/mlir/tools/kernel_gen/transforms/gpu_kernel_to_blob_pass.cc:191] Failed to compile generated PTX with ptxas. Falling back to compilation by driver.\n"
     ]
    },
    {
     "name": "stdout",
     "output_type": "stream",
     "text": [
      "782/782 [==============================] - 25s 26ms/step - loss: 2.3928 - accuracy: 0.1503 - val_loss: 2.0070 - val_accuracy: 0.3069\n",
      "Epoch 2/100\n",
      "782/782 [==============================] - 19s 24ms/step - loss: 2.2376 - accuracy: 0.1970 - val_loss: 1.8287 - val_accuracy: 0.4328\n",
      "Epoch 3/100\n",
      "782/782 [==============================] - 18s 23ms/step - loss: 2.2075 - accuracy: 0.2295 - val_loss: 1.8395 - val_accuracy: 0.4169\n",
      "Epoch 4/100\n",
      "782/782 [==============================] - 18s 23ms/step - loss: 2.1931 - accuracy: 0.2433 - val_loss: 1.7660 - val_accuracy: 0.5203\n",
      "Epoch 5/100\n",
      "782/782 [==============================] - 18s 23ms/step - loss: 2.1802 - accuracy: 0.2573 - val_loss: 1.6668 - val_accuracy: 0.5725\n",
      "Epoch 6/100\n",
      "782/782 [==============================] - 19s 24ms/step - loss: 2.1695 - accuracy: 0.2657 - val_loss: 1.6139 - val_accuracy: 0.5886\n",
      "Epoch 7/100\n",
      "782/782 [==============================] - 18s 23ms/step - loss: 2.1598 - accuracy: 0.2749 - val_loss: 1.5740 - val_accuracy: 0.6295\n",
      "Epoch 8/100\n",
      "782/782 [==============================] - 18s 23ms/step - loss: 2.1531 - accuracy: 0.2800 - val_loss: 1.5546 - val_accuracy: 0.6357\n",
      "Epoch 9/100\n",
      "782/782 [==============================] - 18s 24ms/step - loss: 2.1468 - accuracy: 0.2829 - val_loss: 1.5427 - val_accuracy: 0.6152\n",
      "Epoch 10/100\n",
      "782/782 [==============================] - 18s 23ms/step - loss: 2.1404 - accuracy: 0.2895 - val_loss: 1.5446 - val_accuracy: 0.6387\n",
      "Epoch 11/100\n",
      "782/782 [==============================] - 18s 23ms/step - loss: 2.1326 - accuracy: 0.2941 - val_loss: 1.5955 - val_accuracy: 0.6309\n",
      "Epoch 12/100\n",
      "782/782 [==============================] - 19s 24ms/step - loss: 2.1275 - accuracy: 0.2994 - val_loss: 1.4954 - val_accuracy: 0.6838\n",
      "Epoch 13/100\n",
      "782/782 [==============================] - 19s 24ms/step - loss: 2.1229 - accuracy: 0.3009 - val_loss: 1.5868 - val_accuracy: 0.5895\n",
      "Epoch 14/100\n",
      "782/782 [==============================] - 19s 24ms/step - loss: 2.1140 - accuracy: 0.3071 - val_loss: 1.4747 - val_accuracy: 0.6603\n",
      "Epoch 15/100\n",
      "782/782 [==============================] - 19s 24ms/step - loss: 2.1111 - accuracy: 0.3084 - val_loss: 1.4026 - val_accuracy: 0.6686\n",
      "Epoch 16/100\n",
      "782/782 [==============================] - 19s 24ms/step - loss: 2.1069 - accuracy: 0.3098 - val_loss: 1.4293 - val_accuracy: 0.6365\n",
      "Epoch 17/100\n",
      "782/782 [==============================] - 19s 24ms/step - loss: 2.1001 - accuracy: 0.3138 - val_loss: 1.5538 - val_accuracy: 0.6798\n",
      "Epoch 18/100\n",
      "782/782 [==============================] - 19s 25ms/step - loss: 2.0943 - accuracy: 0.3179 - val_loss: 1.5134 - val_accuracy: 0.6443\n",
      "Epoch 19/100\n",
      "782/782 [==============================] - 19s 24ms/step - loss: 2.0871 - accuracy: 0.3199 - val_loss: 1.3027 - val_accuracy: 0.7127\n",
      "Epoch 20/100\n",
      "782/782 [==============================] - 18s 23ms/step - loss: 2.0850 - accuracy: 0.3201 - val_loss: 1.4238 - val_accuracy: 0.6625\n",
      "Epoch 21/100\n",
      "782/782 [==============================] - 18s 24ms/step - loss: 2.0802 - accuracy: 0.3216 - val_loss: 1.4361 - val_accuracy: 0.6774\n",
      "Epoch 22/100\n",
      "782/782 [==============================] - 19s 24ms/step - loss: 2.0747 - accuracy: 0.3229 - val_loss: 1.4352 - val_accuracy: 0.6824\n",
      "Epoch 23/100\n",
      "782/782 [==============================] - 19s 24ms/step - loss: 2.0676 - accuracy: 0.3285 - val_loss: 1.4549 - val_accuracy: 0.6611\n",
      "Epoch 24/100\n",
      "782/782 [==============================] - 18s 23ms/step - loss: 2.0594 - accuracy: 0.3284 - val_loss: 1.4984 - val_accuracy: 0.6629\n",
      "Epoch 25/100\n",
      "782/782 [==============================] - 19s 24ms/step - loss: 2.0571 - accuracy: 0.3297 - val_loss: 1.4261 - val_accuracy: 0.6874\n",
      "Epoch 26/100\n",
      "782/782 [==============================] - 18s 23ms/step - loss: 2.0503 - accuracy: 0.3327 - val_loss: 1.4489 - val_accuracy: 0.6820\n",
      "Epoch 27/100\n",
      "782/782 [==============================] - 18s 23ms/step - loss: 2.0445 - accuracy: 0.3322 - val_loss: 1.4407 - val_accuracy: 0.6581\n",
      "Epoch 28/100\n",
      "782/782 [==============================] - 19s 24ms/step - loss: 2.0390 - accuracy: 0.3350 - val_loss: 1.4029 - val_accuracy: 0.6585\n",
      "Epoch 29/100\n",
      "782/782 [==============================] - 18s 23ms/step - loss: 2.0320 - accuracy: 0.3355 - val_loss: 1.3650 - val_accuracy: 0.6680\n",
      "Epoch 30/100\n",
      "782/782 [==============================] - 17s 22ms/step - loss: 2.0252 - accuracy: 0.3397 - val_loss: 1.3602 - val_accuracy: 0.6949\n",
      "Epoch 31/100\n",
      "782/782 [==============================] - 17s 22ms/step - loss: 2.0185 - accuracy: 0.3405 - val_loss: 1.3939 - val_accuracy: 0.6760\n",
      "Epoch 32/100\n",
      "782/782 [==============================] - 17s 22ms/step - loss: 2.0104 - accuracy: 0.3402 - val_loss: 1.4359 - val_accuracy: 0.6555\n",
      "Epoch 33/100\n",
      "782/782 [==============================] - 17s 22ms/step - loss: 2.0099 - accuracy: 0.3444 - val_loss: 1.3366 - val_accuracy: 0.6795\n",
      "Epoch 34/100\n",
      "782/782 [==============================] - 18s 23ms/step - loss: 2.0018 - accuracy: 0.3445 - val_loss: 1.3985 - val_accuracy: 0.6584\n",
      "Epoch 35/100\n",
      "782/782 [==============================] - 17s 22ms/step - loss: 1.9892 - accuracy: 0.3479 - val_loss: 1.3588 - val_accuracy: 0.6721\n",
      "Epoch 36/100\n",
      "782/782 [==============================] - 19s 24ms/step - loss: 1.9807 - accuracy: 0.3513 - val_loss: 1.3649 - val_accuracy: 0.6698\n",
      "Epoch 37/100\n",
      "782/782 [==============================] - 17s 22ms/step - loss: 1.9734 - accuracy: 0.3541 - val_loss: 1.4178 - val_accuracy: 0.6576\n",
      "Epoch 38/100\n",
      "782/782 [==============================] - 18s 22ms/step - loss: 1.9623 - accuracy: 0.3569 - val_loss: 1.4361 - val_accuracy: 0.6269\n",
      "Epoch 39/100\n",
      "782/782 [==============================] - 18s 22ms/step - loss: 1.9570 - accuracy: 0.3553 - val_loss: 1.4053 - val_accuracy: 0.6392\n",
      "Epoch 40/100\n",
      "782/782 [==============================] - 19s 25ms/step - loss: 1.9497 - accuracy: 0.3585 - val_loss: 1.3582 - val_accuracy: 0.6650\n",
      "Epoch 41/100\n",
      "782/782 [==============================] - 19s 24ms/step - loss: 1.9376 - accuracy: 0.3609 - val_loss: 1.4348 - val_accuracy: 0.6327\n",
      "Epoch 42/100\n",
      "782/782 [==============================] - 19s 24ms/step - loss: 1.9311 - accuracy: 0.3639 - val_loss: 1.3946 - val_accuracy: 0.6354\n",
      "Epoch 43/100\n",
      "782/782 [==============================] - 19s 24ms/step - loss: 1.9196 - accuracy: 0.3674 - val_loss: 1.4254 - val_accuracy: 0.6347\n",
      "Epoch 44/100\n",
      "782/782 [==============================] - 18s 24ms/step - loss: 1.9094 - accuracy: 0.3709 - val_loss: 1.4233 - val_accuracy: 0.6281\n",
      "Epoch 45/100\n",
      "782/782 [==============================] - 19s 24ms/step - loss: 1.9007 - accuracy: 0.3734 - val_loss: 1.4331 - val_accuracy: 0.6090\n",
      "Epoch 46/100\n",
      "782/782 [==============================] - 19s 24ms/step - loss: 1.8902 - accuracy: 0.3752 - val_loss: 1.3929 - val_accuracy: 0.6211\n",
      "Epoch 47/100\n",
      "782/782 [==============================] - 18s 23ms/step - loss: 1.8833 - accuracy: 0.3752 - val_loss: 1.4291 - val_accuracy: 0.6190\n",
      "Epoch 48/100\n",
      "782/782 [==============================] - 18s 23ms/step - loss: 1.8722 - accuracy: 0.3816 - val_loss: 1.4452 - val_accuracy: 0.6091\n",
      "Epoch 49/100\n",
      "782/782 [==============================] - 19s 24ms/step - loss: 1.8646 - accuracy: 0.3830 - val_loss: 1.4107 - val_accuracy: 0.6291\n",
      "Epoch 50/100\n",
      "782/782 [==============================] - 18s 23ms/step - loss: 1.8496 - accuracy: 0.3871 - val_loss: 1.3828 - val_accuracy: 0.6199\n",
      "Epoch 51/100\n",
      "782/782 [==============================] - 19s 24ms/step - loss: 1.8351 - accuracy: 0.3890 - val_loss: 1.4574 - val_accuracy: 0.5915\n",
      "Epoch 52/100\n",
      "782/782 [==============================] - 19s 24ms/step - loss: 1.8205 - accuracy: 0.3962 - val_loss: 1.4190 - val_accuracy: 0.6088\n",
      "Epoch 53/100\n",
      "782/782 [==============================] - 19s 24ms/step - loss: 1.8138 - accuracy: 0.3960 - val_loss: 1.4479 - val_accuracy: 0.5942\n",
      "Epoch 54/100\n",
      "782/782 [==============================] - 19s 24ms/step - loss: 1.7998 - accuracy: 0.4033 - val_loss: 1.4399 - val_accuracy: 0.5952\n",
      "Epoch 55/100\n",
      "782/782 [==============================] - 19s 25ms/step - loss: 1.7874 - accuracy: 0.4059 - val_loss: 1.4773 - val_accuracy: 0.5700\n",
      "Epoch 56/100\n",
      "782/782 [==============================] - 19s 24ms/step - loss: 1.7788 - accuracy: 0.4075 - val_loss: 1.4284 - val_accuracy: 0.5926\n",
      "Epoch 57/100\n",
      "782/782 [==============================] - 19s 24ms/step - loss: 1.7697 - accuracy: 0.4123 - val_loss: 1.4257 - val_accuracy: 0.5906\n",
      "Epoch 58/100\n",
      "782/782 [==============================] - 19s 24ms/step - loss: 1.7549 - accuracy: 0.4154 - val_loss: 1.4983 - val_accuracy: 0.5647\n",
      "Epoch 59/100\n",
      "782/782 [==============================] - 19s 24ms/step - loss: 1.7433 - accuracy: 0.4166 - val_loss: 1.4783 - val_accuracy: 0.5634\n",
      "Epoch 60/100\n",
      "782/782 [==============================] - 19s 24ms/step - loss: 1.7268 - accuracy: 0.4261 - val_loss: 1.4656 - val_accuracy: 0.5721\n",
      "Epoch 61/100\n",
      "782/782 [==============================] - 19s 24ms/step - loss: 1.7189 - accuracy: 0.4280 - val_loss: 1.5084 - val_accuracy: 0.5522\n",
      "Epoch 62/100\n",
      "782/782 [==============================] - 19s 24ms/step - loss: 1.7029 - accuracy: 0.4306 - val_loss: 1.4857 - val_accuracy: 0.5538\n",
      "Epoch 63/100\n",
      "782/782 [==============================] - 19s 24ms/step - loss: 1.7014 - accuracy: 0.4322 - val_loss: 1.4784 - val_accuracy: 0.5588\n",
      "Epoch 64/100\n",
      "782/782 [==============================] - 19s 24ms/step - loss: 1.6837 - accuracy: 0.4391 - val_loss: 1.4961 - val_accuracy: 0.5550\n",
      "Epoch 65/100\n",
      "782/782 [==============================] - 19s 24ms/step - loss: 1.6728 - accuracy: 0.4419 - val_loss: 1.4940 - val_accuracy: 0.5486\n",
      "Epoch 66/100\n",
      "782/782 [==============================] - 19s 24ms/step - loss: 1.6645 - accuracy: 0.4455 - val_loss: 1.4594 - val_accuracy: 0.5668\n",
      "Epoch 67/100\n",
      "782/782 [==============================] - 19s 24ms/step - loss: 1.6499 - accuracy: 0.4453 - val_loss: 1.5117 - val_accuracy: 0.5437\n",
      "Epoch 68/100\n",
      "782/782 [==============================] - 19s 24ms/step - loss: 1.6350 - accuracy: 0.4534 - val_loss: 1.5120 - val_accuracy: 0.5402\n",
      "Epoch 69/100\n",
      "782/782 [==============================] - 18s 23ms/step - loss: 1.6393 - accuracy: 0.4512 - val_loss: 1.5170 - val_accuracy: 0.5371\n",
      "Epoch 70/100\n",
      "782/782 [==============================] - 18s 23ms/step - loss: 1.6285 - accuracy: 0.4577 - val_loss: 1.5206 - val_accuracy: 0.5380\n",
      "Epoch 71/100\n",
      "782/782 [==============================] - 19s 24ms/step - loss: 1.6148 - accuracy: 0.4588 - val_loss: 1.5362 - val_accuracy: 0.5334\n",
      "Epoch 72/100\n",
      "782/782 [==============================] - 18s 23ms/step - loss: 1.6070 - accuracy: 0.4632 - val_loss: 1.5231 - val_accuracy: 0.5337\n",
      "Epoch 73/100\n",
      "782/782 [==============================] - 18s 23ms/step - loss: 1.5987 - accuracy: 0.4649 - val_loss: 1.5278 - val_accuracy: 0.5340\n",
      "Epoch 74/100\n",
      "782/782 [==============================] - 18s 23ms/step - loss: 1.5958 - accuracy: 0.4649 - val_loss: 1.5272 - val_accuracy: 0.5337\n",
      "Epoch 75/100\n",
      "782/782 [==============================] - 18s 23ms/step - loss: 1.5893 - accuracy: 0.4696 - val_loss: 1.5311 - val_accuracy: 0.5318\n",
      "Epoch 76/100\n",
      "782/782 [==============================] - 18s 23ms/step - loss: 1.5854 - accuracy: 0.4694 - val_loss: 1.5306 - val_accuracy: 0.5304\n",
      "Epoch 77/100\n",
      "782/782 [==============================] - 18s 23ms/step - loss: 1.5837 - accuracy: 0.4713 - val_loss: 1.5335 - val_accuracy: 0.5317\n",
      "Epoch 78/100\n",
      "782/782 [==============================] - 19s 24ms/step - loss: 1.5788 - accuracy: 0.4691 - val_loss: 1.5309 - val_accuracy: 0.5300\n",
      "Epoch 79/100\n",
      "782/782 [==============================] - 18s 23ms/step - loss: 1.5802 - accuracy: 0.4718 - val_loss: 1.5331 - val_accuracy: 0.5307\n",
      "Epoch 80/100\n",
      "782/782 [==============================] - 18s 23ms/step - loss: 1.5713 - accuracy: 0.4740 - val_loss: 1.5346 - val_accuracy: 0.5299\n",
      "Epoch 81/100\n",
      "782/782 [==============================] - 18s 23ms/step - loss: 1.5715 - accuracy: 0.4729 - val_loss: 1.5336 - val_accuracy: 0.5304\n",
      "Epoch 82/100\n",
      "782/782 [==============================] - 18s 23ms/step - loss: 1.5792 - accuracy: 0.4722 - val_loss: 1.5344 - val_accuracy: 0.5307\n",
      "Epoch 83/100\n",
      "782/782 [==============================] - 18s 23ms/step - loss: 1.5759 - accuracy: 0.4729 - val_loss: 1.5380 - val_accuracy: 0.5291\n",
      "Epoch 84/100\n",
      "782/782 [==============================] - 18s 23ms/step - loss: 1.5766 - accuracy: 0.4706 - val_loss: 1.5386 - val_accuracy: 0.5288\n",
      "Epoch 85/100\n",
      "782/782 [==============================] - 18s 23ms/step - loss: 1.5737 - accuracy: 0.4713 - val_loss: 1.5389 - val_accuracy: 0.5290\n",
      "Epoch 86/100\n",
      "782/782 [==============================] - 18s 23ms/step - loss: 1.5704 - accuracy: 0.4726 - val_loss: 1.5384 - val_accuracy: 0.5280\n",
      "Epoch 87/100\n",
      "782/782 [==============================] - 18s 23ms/step - loss: 1.5725 - accuracy: 0.4720 - val_loss: 1.5368 - val_accuracy: 0.5293\n",
      "Epoch 88/100\n",
      "782/782 [==============================] - 18s 23ms/step - loss: 1.5714 - accuracy: 0.4723 - val_loss: 1.5383 - val_accuracy: 0.5292\n",
      "Epoch 89/100\n",
      "782/782 [==============================] - 18s 23ms/step - loss: 1.5704 - accuracy: 0.4735 - val_loss: 1.5413 - val_accuracy: 0.5271\n",
      "Epoch 90/100\n",
      "782/782 [==============================] - 18s 23ms/step - loss: 1.5738 - accuracy: 0.4746 - val_loss: 1.5385 - val_accuracy: 0.5302\n",
      "Epoch 91/100\n",
      "782/782 [==============================] - 18s 23ms/step - loss: 1.5718 - accuracy: 0.4741 - val_loss: 1.5403 - val_accuracy: 0.5280\n",
      "Epoch 92/100\n",
      "782/782 [==============================] - 18s 23ms/step - loss: 1.5730 - accuracy: 0.4729 - val_loss: 1.5382 - val_accuracy: 0.5300\n",
      "Epoch 93/100\n",
      "782/782 [==============================] - 18s 23ms/step - loss: 1.5742 - accuracy: 0.4742 - val_loss: 1.5393 - val_accuracy: 0.5298\n",
      "Epoch 94/100\n",
      "782/782 [==============================] - 18s 22ms/step - loss: 1.5754 - accuracy: 0.4738 - val_loss: 1.5411 - val_accuracy: 0.5284\n",
      "Epoch 95/100\n",
      "782/782 [==============================] - 18s 23ms/step - loss: 1.5704 - accuracy: 0.4752 - val_loss: 1.5434 - val_accuracy: 0.5265\n",
      "Epoch 96/100\n",
      "782/782 [==============================] - 18s 23ms/step - loss: 1.5771 - accuracy: 0.4724 - val_loss: 1.5405 - val_accuracy: 0.5289\n",
      "Epoch 97/100\n",
      "782/782 [==============================] - 18s 23ms/step - loss: 1.5694 - accuracy: 0.4746 - val_loss: 1.5422 - val_accuracy: 0.5291\n",
      "Epoch 98/100\n",
      "782/782 [==============================] - 17s 22ms/step - loss: 1.5704 - accuracy: 0.4740 - val_loss: 1.5410 - val_accuracy: 0.5270\n",
      "Epoch 99/100\n",
      "782/782 [==============================] - 19s 24ms/step - loss: 1.5743 - accuracy: 0.4733 - val_loss: 1.5396 - val_accuracy: 0.5281\n",
      "Epoch 100/100\n",
      "782/782 [==============================] - 19s 24ms/step - loss: 1.5738 - accuracy: 0.4733 - val_loss: 1.5401 - val_accuracy: 0.5290\n"
     ]
    }
   ],
   "source": [
    "model = dropout_model()\n",
    "results = train(model, trainX, trainY, testX, testY)"
   ]
  },
  {
   "cell_type": "code",
   "execution_count": 8,
   "metadata": {
    "colab": {
     "base_uri": "https://localhost:8080/",
     "height": 904
    },
    "executionInfo": {
     "elapsed": 2168,
     "status": "ok",
     "timestamp": 1715793363574,
     "user": {
      "displayName": "Jonatan Hyberg",
      "userId": "02103785444766429018"
     },
     "user_tz": -120
    },
    "id": "yNdQN-nnCTUk",
    "outputId": "fc0a0793-fbbc-436a-b9b3-5941ca4db1ca"
   },
   "outputs": [
    {
     "data": {
      "image/png": "[encoded data removed]",
      "text/plain": [
       "<Figure size 640x480 with 1 Axes>"
      ]
     },
     "metadata": {},
     "output_type": "display_data"
    },
    {
     "data": {
      "image/png": "[encoded data removed]",
      "text/plain": [
       "<Figure size 640x480 with 1 Axes>"
      ]
     },
     "metadata": {},
     "output_type": "display_data"
    },
    {
     "name": "stdout",
     "output_type": "stream",
     "text": [
      "The model achieved a final accuracy of 52.90%\n"
     ]
    }
   ],
   "source": [
    "plot_results(results.history)\n",
    "evaluate(model, testX, testY)"
   ]
  },
  {
   "cell_type": "code",
   "execution_count": 9,
   "metadata": {
    "executionInfo": {
     "elapsed": 301,
     "status": "ok",
     "timestamp": 1715793629457,
     "user": {
      "displayName": "Jonatan Hyberg",
      "userId": "02103785444766429018"
     },
     "user_tz": -120
    },
    "id": "VmsurzVECTUk"
   },
   "outputs": [],
   "source": [
    "save_model('noisy_model_60_sym', model)\n",
    "save_history('noisy_model_60_sym', results.history)"
   ]
  }
 ],
 "metadata": {
  "accelerator": "GPU",
  "colab": {
   "gpuType": "T4",
   "provenance": [
    {
     "file_id": "1irCtCvrPih104WASUJu-j-MZJMXLKCEy",
     "timestamp": 1715782757909
    }
   ]
  },
  "kernelspec": {
   "display_name": "Python 3 (ipykernel)",
   "language": "python",
   "name": "python3"
  },
  "language_info": {
   "codemirror_mode": {
    "name": "ipython",
    "version": 3
   },
   "file_extension": ".py",
   "mimetype": "text/x-python",
   "name": "python",
   "nbconvert_exporter": "python",
   "pygments_lexer": "ipython3",
   "version": "3.10.13"
  }
 },
 "nbformat": 4,
 "nbformat_minor": 4
}
