{
  "cells": [
    {
      "cell_type": "code",
      "execution_count": 1,
      "metadata": {
        "id": "kyqOgTWzCTUX"
      },
      "outputs": [],
      "source": [
        "import sys\n",
        "import tensorflow as tf\n",
        "import matplotlib.pyplot as plt\n",
        "from tensorflow.keras.datasets import cifar10\n",
        "from tensorflow.keras.layers import Conv2D\n",
        "from tensorflow.keras.layers import MaxPooling2D\n",
        "from tensorflow.keras.layers import Dense\n",
        "from tensorflow.keras.layers import Flatten\n",
        "from tensorflow.keras.utils import to_categorical\n",
        "from tensorflow.keras.models import Sequential\n",
        "from tensorflow.keras.optimizers import SGD\n",
        "from keras.layers import Dropout\n",
        "import pickle\n",
        "from keras.regularizers import l2"
      ]
    },
    {
      "cell_type": "markdown",
      "metadata": {
        "id": "y67Ec5FICTUd"
      },
      "source": [
        "#### Dataset\n"
      ]
    },
    {
      "cell_type": "markdown",
      "metadata": {
        "id": "CYNU45pfCTUf"
      },
      "source": [
        "Load dataset + One-hot encoding + Normalization"
      ]
    },
    {
      "cell_type": "code",
      "execution_count": 2,
      "metadata": {
        "id": "o8BGn2ZOCTUg"
      },
      "outputs": [],
      "source": [
        "def load_dataset():\n",
        "    (trainX, trainY), (testX, testY) = cifar10.load_data()\n",
        "    # One-hot encoding\n",
        "    trainY = to_categorical(trainY)\n",
        "    testY = to_categorical(testY)\n",
        "    # Normalize to [0,1]\n",
        "    trainX = trainX.astype('float32') / 255.0\n",
        "    testX = testX.astype('float32') / 255.0\n",
        "\n",
        "    return trainX, trainY, testX, testY"
      ]
    },
    {
      "cell_type": "markdown",
      "metadata": {
        "id": "-eHdUCx4CTUg"
      },
      "source": [
        "#### Model"
      ]
    },
    {
      "cell_type": "markdown",
      "metadata": {
        "id": "_ZUdh8aqCTUh"
      },
      "source": [
        "Imortant functions"
      ]
    },
    {
      "cell_type": "code",
      "execution_count": 3,
      "metadata": {
        "id": "BGpONL8FCTUh"
      },
      "outputs": [],
      "source": [
        "def train(model, trainX, trainY, testX, testY):\n",
        "    results = model.fit(trainX, trainY, epochs=200, batch_size=64, validation_data=(testX, testY), verbose=0)\n",
        "\n",
        "    return results\n",
        "\n",
        "def evaluate(model, testX, testY):\n",
        "    _, acc = model.evaluate(testX, testY, verbose=0)\n",
        "\n",
        "    print(f\"The model achieved a final accuracy of {acc*100:.2f}%\")\n",
        "\n",
        "def plot_results(history):\n",
        "\tplt.title('Cross Entropy Loss')\n",
        "\tplt.plot(history['loss'], color='blue', label='Training loss')\n",
        "\tplt.plot(history['val_loss'], color='orange', label='Validation/test loss')\n",
        "\tplt.legend()\n",
        "\tplt.show()\n",
        "\n",
        "\tplt.title('Classification Accuracy')\n",
        "\tplt.plot(history['accuracy'], color='blue', label='Training accuracy')\n",
        "\tplt.plot(history['val_accuracy'], color='orange', label='Validation/test accuracy')\n",
        "\tplt.legend()\n",
        "\tplt.show()"
      ]
    },
    {
      "cell_type": "code",
      "execution_count": 4,
      "metadata": {
        "id": "Ls19xeC0CTUi"
      },
      "outputs": [],
      "source": [
        "def save_model(filename, model):\n",
        "    filename = './models/' + filename\n",
        "    pickle.dump(model, open(filename, 'wb'))\n",
        "\n",
        "def save_history(filename, history):\n",
        "    filename = './history/' + filename\n",
        "    pickle.dump(history, open(filename, 'wb'))\n",
        "\n",
        "def load_model(filename):\n",
        "    filename = './models/' + filename\n",
        "    model = pickle.load(open(filename, 'rb'))\n",
        "    return model\n",
        "\n",
        "def load_history(filename):\n",
        "    filename = './history/' + filename\n",
        "    history = pickle.load(open(filename, 'rb'))\n",
        "    return history"
      ]
    },
    {
      "cell_type": "markdown",
      "metadata": {
        "id": "fXqNA_VcCTUj"
      },
      "source": [
        "Baseline model"
      ]
    },
    {
      "cell_type": "code",
      "execution_count": 5,
      "metadata": {
        "id": "C9xaw4BBCTUj"
      },
      "outputs": [],
      "source": [
        "def dropout_model():\n",
        "    # Create architecture\n",
        "    model = Sequential()\n",
        "    model.add(Conv2D(32, (3, 3), activation='relu', kernel_initializer='he_uniform', padding='same'))\n",
        "    model.add(Conv2D(32, (3, 3), activation='relu', kernel_initializer='he_uniform', padding='same'))\n",
        "    model.add(MaxPooling2D((2, 2)))\n",
        "    model.add(Dropout(0.2))\n",
        "    model.add(Conv2D(64, (3, 3), activation='relu', kernel_initializer='he_uniform', padding='same'))\n",
        "    model.add(Conv2D(64, (3, 3), activation='relu', kernel_initializer='he_uniform', padding='same'))\n",
        "    model.add(MaxPooling2D((2, 2)))\n",
        "    model.add(Dropout(0.3))\n",
        "    model.add(Conv2D(128, (3, 3), activation='relu', kernel_initializer='he_uniform', padding='same'))\n",
        "    model.add(Conv2D(128, (3, 3), activation='relu', kernel_initializer='he_uniform', padding='same'))\n",
        "    model.add(MaxPooling2D((2, 2)))\n",
        "    model.add(Dropout(0.4))\n",
        "    model.add(Flatten())\n",
        "    model.add(Dense(128, activation='relu', kernel_initializer='he_uniform'))\n",
        "    model.add(Dropout(0.5))\n",
        "    model.add(Dense(10, activation='softmax'))\n",
        "\n",
        "    # Optimization method\n",
        "    opt = SGD(learning_rate=0.001, momentum=0.9)\n",
        "\n",
        "    # Compile model and choose loss type\n",
        "    model.compile(optimizer=opt, loss='categorical_crossentropy', metrics=['accuracy'])\n",
        "    return model"
      ]
    },
    {
      "cell_type": "code",
      "execution_count": 6,
      "metadata": {
        "colab": {
          "base_uri": "https://localhost:8080/"
        },
        "id": "q_FZ9SNHCTUj",
        "outputId": "90a2b2a6-ecfe-485f-ab30-e6d06ee6d65a"
      },
      "outputs": [],
      "source": [
        "trainX, trainY, testX, testY = load_dataset()"
      ]
    },
    {
      "cell_type": "code",
      "execution_count": 7,
      "metadata": {
        "id": "5aSe_cO4CTUk"
      },
      "outputs": [],
      "source": [
        "model = dropout_model()\n",
        "results = train(model, trainX, trainY, testX, testY)"
      ]
    },
    {
      "cell_type": "code",
      "execution_count": 8,
      "metadata": {
        "colab": {
          "base_uri": "https://localhost:8080/",
          "height": 905
        },
        "id": "yNdQN-nnCTUk",
        "outputId": "c582ed71-49c3-4d96-9c5a-26425e919d64"
      },
      "outputs": [
        {
          "data": {
            "image/png": "[encoded data removed]",
            "text/plain": [
              "<Figure size 432x288 with 1 Axes>"
            ]
          },
          "metadata": {
            "needs_background": "light"
          },
          "output_type": "display_data"
        },
        {
          "data": {
            "image/png": "[encoded data removed]",
            "text/plain": [
              "<Figure size 432x288 with 1 Axes>"
            ]
          },
          "metadata": {
            "needs_background": "light"
          },
          "output_type": "display_data"
        },
        {
          "name": "stdout",
          "output_type": "stream",
          "text": [
            "The model achieved a final accuracy of 84.12%\n"
          ]
        }
      ],
      "source": [
        "plot_results(results.history)\n",
        "evaluate(model, testX, testY)"
      ]
    },
    {
      "cell_type": "code",
      "execution_count": 9,
      "metadata": {
        "id": "VmsurzVECTUk"
      },
      "outputs": [],
      "source": [
        "save_model('dropout_increased_model', model)\n",
        "save_history('dropout_increased_model', results.history)"
      ]
    }
  ],
  "metadata": {
    "accelerator": "GPU",
    "colab": {
      "gpuType": "T4",
      "provenance": []
    },
    "kernelspec": {
      "display_name": "Python 3",
      "name": "python3"
    },
    "language_info": {
      "codemirror_mode": {
        "name": "ipython",
        "version": 3
      },
      "file_extension": ".py",
      "mimetype": "text/x-python",
      "name": "python",
      "nbconvert_exporter": "python",
      "pygments_lexer": "ipython3",
      "version": "3.9.4"
    },
    "orig_nbformat": 4
  },
  "nbformat": 4,
  "nbformat_minor": 0
}
