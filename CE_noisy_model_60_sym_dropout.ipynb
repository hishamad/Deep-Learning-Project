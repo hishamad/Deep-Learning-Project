{
 "cells": [
  {
   "cell_type": "code",
   "execution_count": 1,
   "metadata": {
    "executionInfo": {
     "elapsed": 4900,
     "status": "ok",
     "timestamp": 1715782928249,
     "user": {
      "displayName": "Jonatan Hyberg",
      "userId": "02103785444766429018"
     },
     "user_tz": -120
    },
    "id": "kyqOgTWzCTUX"
   },
   "outputs": [
    {
     "name": "stderr",
     "output_type": "stream",
     "text": [
      "2024-05-22 16:59:00.738085: I tensorflow/core/util/port.cc:113] oneDNN custom operations are on. You may see slightly different numerical results due to floating-point round-off errors from different computation orders. To turn them off, set the environment variable `TF_ENABLE_ONEDNN_OPTS=0`.\n",
      "2024-05-22 16:59:00.774502: E external/local_xla/xla/stream_executor/cuda/cuda_dnn.cc:9261] Unable to register cuDNN factory: Attempting to register factory for plugin cuDNN when one has already been registered\n",
      "2024-05-22 16:59:00.774533: E external/local_xla/xla/stream_executor/cuda/cuda_fft.cc:607] Unable to register cuFFT factory: Attempting to register factory for plugin cuFFT when one has already been registered\n",
      "2024-05-22 16:59:00.775501: E external/local_xla/xla/stream_executor/cuda/cuda_blas.cc:1515] Unable to register cuBLAS factory: Attempting to register factory for plugin cuBLAS when one has already been registered\n",
      "2024-05-22 16:59:00.781580: I tensorflow/core/platform/cpu_feature_guard.cc:182] This TensorFlow binary is optimized to use available CPU instructions in performance-critical operations.\n",
      "To enable the following instructions: AVX2 AVX512F AVX512_VNNI AVX512_BF16 AVX_VNNI AMX_TILE AMX_INT8 AMX_BF16 FMA, in other operations, rebuild TensorFlow with the appropriate compiler flags.\n"
     ]
    }
   ],
   "source": [
    "import sys\n",
    "import tensorflow as tf\n",
    "import matplotlib.pyplot as plt\n",
    "from tensorflow.keras.datasets import cifar10\n",
    "from tensorflow.keras.layers import Conv2D\n",
    "from tensorflow.keras.layers import MaxPooling2D\n",
    "from tensorflow.keras.layers import Dense\n",
    "from tensorflow.keras.layers import Flatten\n",
    "from tensorflow.keras.utils import to_categorical\n",
    "from tensorflow.keras.models import Sequential\n",
    "from tensorflow.keras.optimizers import SGD\n",
    "from keras.layers import Dropout\n",
    "from tensorflow.keras.preprocessing.image import ImageDataGenerator\n",
    "# from cosine_annealing import CosineAnnealingScheduler\n",
    "from keras.layers import BatchNormalization\n",
    "import pickle\n",
    "from keras.regularizers import l2\n",
    "from  scipy import ndimage\n",
    "import numpy as np"
   ]
  },
  {
   "cell_type": "markdown",
   "metadata": {
    "id": "y67Ec5FICTUd"
   },
   "source": [
    "#### Dataset\n"
   ]
  },
  {
   "cell_type": "markdown",
   "metadata": {
    "id": "CYNU45pfCTUf"
   },
   "source": [
    "Load dataset + One-hot encoding + Normalization"
   ]
  },
  {
   "cell_type": "code",
   "execution_count": 2,
   "metadata": {
    "executionInfo": {
     "elapsed": 495,
     "status": "ok",
     "timestamp": 1715782996141,
     "user": {
      "displayName": "Jonatan Hyberg",
      "userId": "02103785444766429018"
     },
     "user_tz": -120
    },
    "id": "o8BGn2ZOCTUg"
   },
   "outputs": [],
   "source": [
    "def load_dataset(noise_ratio=0, sym=True):\n",
    "    (trainX, trainY), (testX, testY) = cifar10.load_data()\n",
    "    n_classes = 10\n",
    "\n",
    "    if noise_ratio > 0:\n",
    "        trainY_original = np.copy(trainY)\n",
    "        if not sym:\n",
    "            # Asymmetric noise\n",
    "            source_class = [9, 2, 3, 5, 4]\n",
    "            target_class = [1, 0, 5, 3, 7]\n",
    "            \n",
    "            for s, t in zip(source_class, target_class):\n",
    "                cls_idx = np.where(trainY_original == s)[0]\n",
    "                n_noisy = int(noise_ratio * cls_idx.shape[0] / 100)\n",
    "                noisy_sample_index = np.random.choice(cls_idx, n_noisy, replace=False)\n",
    "                trainY[noisy_sample_index] = t\n",
    "        else:\n",
    "            # Symetric noise\n",
    "            n_samples = trainY.shape[0]\n",
    "            n_noisy = int(noise_ratio * n_samples / 100)\n",
    "            class_index = [np.where(trainY_original == i)[0] for i in range(n_classes)]\n",
    "            class_noisy = int(n_noisy / n_classes)\n",
    "\n",
    "            noisy_idx = []\n",
    "            for d in range(n_classes):\n",
    "                noisy_class_index = np.random.choice(class_index[d], class_noisy, replace=False)\n",
    "                noisy_idx.extend(noisy_class_index)\n",
    "\n",
    "            for i in noisy_idx:\n",
    "                class_ind = trainY_original[i]\n",
    "                other_class_list = list(range(n_classes))\n",
    "                other_class_list.remove(class_ind)\n",
    "                other_class = np.random.choice(other_class_list)\n",
    "                trainY[i] = other_class\n",
    "        \n",
    "    # One-hot encoding\n",
    "    trainY = to_categorical(trainY)\n",
    "    testY = to_categorical(testY)\n",
    "    # Normalize to [0,1]\n",
    "    trainX = trainX.astype('float32') / 255.0\n",
    "    testX = testX.astype('float32') / 255.0\n",
    "\n",
    "    return trainX, trainY, testX, testY"
   ]
  },
  {
   "cell_type": "markdown",
   "metadata": {
    "id": "-eHdUCx4CTUg"
   },
   "source": [
    "#### Model"
   ]
  },
  {
   "cell_type": "markdown",
   "metadata": {
    "id": "_ZUdh8aqCTUh"
   },
   "source": [
    "Imortant functions"
   ]
  },
  {
   "cell_type": "code",
   "execution_count": 3,
   "metadata": {
    "executionInfo": {
     "elapsed": 2,
     "status": "ok",
     "timestamp": 1715784774519,
     "user": {
      "displayName": "Jonatan Hyberg",
      "userId": "02103785444766429018"
     },
     "user_tz": -120
    },
    "id": "BGpONL8FCTUh"
   },
   "outputs": [],
   "source": [
    "def train(model, trainX, trainY, testX, testY):\n",
    "\n",
    "\tgenerator = ImageDataGenerator(width_shift_range=0.1, height_shift_range=0.1, horizontal_flip=True)\n",
    "\n",
    "\ttrain_data = generator.flow(trainX, trainY, batch_size=64)\n",
    "\n",
    "\tresults = model.fit(train_data, epochs=100, validation_data=(testX, testY), verbose=1)\n",
    "\n",
    "\treturn results\n",
    "\n",
    "def evaluate(model, testX, testY):\n",
    "    _, acc = model.evaluate(testX, testY, verbose=0)\n",
    "\n",
    "    print(f\"The model achieved a final accuracy of {acc*100:.2f}%\")\n",
    "\n",
    "def plot_results(history):\n",
    "\tplt.title('Cross Entropy Loss')\n",
    "\tplt.plot(history['loss'], color='blue', label='Training loss')\n",
    "\tplt.plot(history['val_loss'], color='orange', label='Validation/test loss')\n",
    "\tplt.legend()\n",
    "\tplt.show()\n",
    "\n",
    "\tplt.title('Classification Accuracy')\n",
    "\tplt.plot(history['accuracy'], color='blue', label='Training accuracy')\n",
    "\tplt.plot(history['val_accuracy'], color='orange', label='Validation/test accuracy')\n",
    "\tplt.legend()\n",
    "\tplt.show()"
   ]
  },
  {
   "cell_type": "code",
   "execution_count": 4,
   "metadata": {
    "executionInfo": {
     "elapsed": 2,
     "status": "ok",
     "timestamp": 1715783002196,
     "user": {
      "displayName": "Jonatan Hyberg",
      "userId": "02103785444766429018"
     },
     "user_tz": -120
    },
    "id": "Ls19xeC0CTUi"
   },
   "outputs": [],
   "source": [
    "def save_model(filename, model):\n",
    "    filename = './models/' + filename\n",
    "    pickle.dump(model, open(filename, 'wb'))\n",
    "\n",
    "def save_history(filename, history):\n",
    "    filename = './history/' + filename\n",
    "    pickle.dump(history, open(filename, 'wb'))\n",
    "\n",
    "def load_model(filename):\n",
    "    filename = './models/' + filename\n",
    "    model = pickle.load(open(filename, 'rb'))\n",
    "    return model\n",
    "\n",
    "def load_history(filename):\n",
    "    filename = './history/' + filename\n",
    "    history = pickle.load(open(filename, 'rb'))\n",
    "    return history"
   ]
  },
  {
   "cell_type": "markdown",
   "metadata": {
    "id": "fXqNA_VcCTUj"
   },
   "source": [
    "Baseline model"
   ]
  },
  {
   "cell_type": "code",
   "execution_count": 5,
   "metadata": {
    "executionInfo": {
     "elapsed": 4,
     "status": "ok",
     "timestamp": 1715789630290,
     "user": {
      "displayName": "Jonatan Hyberg",
      "userId": "02103785444766429018"
     },
     "user_tz": -120
    },
    "id": "C9xaw4BBCTUj"
   },
   "outputs": [],
   "source": [
    "def dropout_model():\n",
    "    # Create architecture\n",
    "    model = Sequential()\n",
    "    model.add(Conv2D(32, (3, 3), activation='relu', kernel_initializer='he_uniform', padding='same', input_shape=(32, 32, 3)))\n",
    "    model.add(BatchNormalization())\n",
    "    model.add(Conv2D(32, (3, 3), activation='relu', kernel_initializer='he_uniform', padding='same'))\n",
    "    model.add(BatchNormalization())\n",
    "    model.add(MaxPooling2D((2, 2)))\n",
    "    model.add(Dropout(0.2))\n",
    "    model.add(Conv2D(64, (3, 3), activation='relu', kernel_initializer='he_uniform', padding='same'))\n",
    "    model.add(BatchNormalization())\n",
    "    model.add(Conv2D(64, (3, 3), activation='relu', kernel_initializer='he_uniform', padding='same'))\n",
    "    model.add(BatchNormalization())\n",
    "    model.add(MaxPooling2D((2, 2)))\n",
    "    model.add(Dropout(0.3))\n",
    "    model.add(Conv2D(128, (3, 3), activation='relu', kernel_initializer='he_uniform', padding='same'))\n",
    "    model.add(BatchNormalization())\n",
    "    model.add(Conv2D(128, (3, 3), activation='relu', kernel_initializer='he_uniform', padding='same'))\n",
    "    model.add(BatchNormalization())\n",
    "    model.add(MaxPooling2D((2, 2)))\n",
    "    model.add(Dropout(0.4))\n",
    "    model.add(Flatten())\n",
    "    model.add(Dense(128, activation='relu', kernel_initializer='he_uniform'))\n",
    "    model.add(BatchNormalization())\n",
    "    model.add(Dropout(0.5))\n",
    "    model.add(Dense(10, activation='softmax'))\n",
    "\n",
    "    total_steps = int(trainX.shape[0]/64) * 100\n",
    "    decay_steps = total_steps*0.8\n",
    "    initial_learning_rate = 0.0001\n",
    "    warmup_steps = 1000\n",
    "    target_learning_rate = 0.1\n",
    "    alpha = 0.001\n",
    "\n",
    "    lr_warmup_decayed_fn = tf.keras.optimizers.schedules.CosineDecay(\n",
    "        initial_learning_rate, decay_steps, warmup_target=target_learning_rate,\n",
    "        warmup_steps=warmup_steps,alpha = alpha\n",
    "    )\n",
    "    # Optimization method\n",
    "    opt = SGD(learning_rate=lr_warmup_decayed_fn, momentum=0.9)\n",
    "\n",
    "    # Compile model and choose loss type\n",
    "    model.compile(optimizer=opt, loss='categorical_crossentropy', metrics=['accuracy'])\n",
    "    return model"
   ]
  },
  {
   "cell_type": "code",
   "execution_count": 6,
   "metadata": {
    "colab": {
     "base_uri": "https://localhost:8080/"
    },
    "executionInfo": {
     "elapsed": 9036,
     "status": "ok",
     "timestamp": 1715783015758,
     "user": {
      "displayName": "Jonatan Hyberg",
      "userId": "02103785444766429018"
     },
     "user_tz": -120
    },
    "id": "q_FZ9SNHCTUj",
    "outputId": "db089f9d-58a3-4b4e-c9d6-6d4208bdcd7f"
   },
   "outputs": [],
   "source": [
    "trainX, trainY, testX, testY = load_dataset(noise_ratio=60, sym=True)"
   ]
  },
  {
   "cell_type": "code",
   "execution_count": 7,
   "metadata": {
    "colab": {
     "base_uri": "https://localhost:8080/"
    },
    "executionInfo": {
     "elapsed": 3670727,
     "status": "ok",
     "timestamp": 1715793305366,
     "user": {
      "displayName": "Jonatan Hyberg",
      "userId": "02103785444766429018"
     },
     "user_tz": -120
    },
    "id": "5aSe_cO4CTUk",
    "outputId": "490b509f-4efa-4d66-cae6-6271c8a1ee29"
   },
   "outputs": [
    {
     "name": "stderr",
     "output_type": "stream",
     "text": [
      "2024-05-22 16:59:04.470015: W tensorflow/core/common_runtime/gpu/gpu_device.cc:2348] TensorFlow was not built with CUDA kernel binaries compatible with compute capability 9.0. CUDA kernels will be jit-compiled from PTX, which could take 30 minutes or longer.\n",
      "2024-05-22 16:59:04.485267: W tensorflow/core/common_runtime/gpu/gpu_device.cc:2348] TensorFlow was not built with CUDA kernel binaries compatible with compute capability 9.0. CUDA kernels will be jit-compiled from PTX, which could take 30 minutes or longer.\n",
      "2024-05-22 16:59:04.666215: I tensorflow/core/common_runtime/gpu/gpu_device.cc:1929] Created device /job:localhost/replica:0/task:0/device:GPU:0 with 1333 MB memory:  -> device: 0, name: NVIDIA H100 80GB HBM3 MIG 1g.10gb, pci bus id: 0000:df:00.0, compute capability: 9.0\n",
      "2024-05-22 16:59:05.006345: W external/local_xla/xla/stream_executor/gpu/asm_compiler.cc:225] Falling back to the CUDA driver for PTX compilation; ptxas does not support CC 9.0\n",
      "2024-05-22 16:59:05.006378: W external/local_xla/xla/stream_executor/gpu/asm_compiler.cc:228] Used ptxas at ptxas\n",
      "2024-05-22 16:59:05.006427: W tensorflow/compiler/mlir/tools/kernel_gen/transforms/gpu_kernel_to_blob_pass.cc:191] Failed to compile generated PTX with ptxas. Falling back to compilation by driver.\n",
      "2024-05-22 16:59:05.008895: W tensorflow/compiler/mlir/tools/kernel_gen/transforms/gpu_kernel_to_blob_pass.cc:191] Failed to compile generated PTX with ptxas. Falling back to compilation by driver.\n",
      "2024-05-22 16:59:05.008932: W tensorflow/compiler/mlir/tools/kernel_gen/transforms/gpu_kernel_to_blob_pass.cc:191] Failed to compile generated PTX with ptxas. Falling back to compilation by driver.\n",
      "2024-05-22 16:59:05.008964: W tensorflow/compiler/mlir/tools/kernel_gen/transforms/gpu_kernel_to_blob_pass.cc:191] Failed to compile generated PTX with ptxas. Falling back to compilation by driver.\n",
      "2024-05-22 16:59:05.009023: W tensorflow/compiler/mlir/tools/kernel_gen/transforms/gpu_kernel_to_blob_pass.cc:191] Failed to compile generated PTX with ptxas. Falling back to compilation by driver.\n",
      "2024-05-22 16:59:05.009053: W tensorflow/compiler/mlir/tools/kernel_gen/transforms/gpu_kernel_to_blob_pass.cc:191] Failed to compile generated PTX with ptxas. Falling back to compilation by driver.\n",
      "2024-05-22 16:59:05.009081: W tensorflow/compiler/mlir/tools/kernel_gen/transforms/gpu_kernel_to_blob_pass.cc:191] Failed to compile generated PTX with ptxas. Falling back to compilation by driver.\n",
      "2024-05-22 16:59:05.009104: W tensorflow/compiler/mlir/tools/kernel_gen/transforms/gpu_kernel_to_blob_pass.cc:191] Failed to compile generated PTX with ptxas. Falling back to compilation by driver.\n"
     ]
    },
    {
     "name": "stdout",
     "output_type": "stream",
     "text": [
      "Epoch 1/100\n"
     ]
    },
    {
     "name": "stderr",
     "output_type": "stream",
     "text": [
      "2024-05-22 16:59:06.128288: E tensorflow/core/grappler/optimizers/meta_optimizer.cc:961] layout failed: INVALID_ARGUMENT: Size of values 0 does not match size of permutation 4 @ fanin shape insequential/dropout/dropout/SelectV2-2-TransposeNHWCToNCHW-LayoutOptimizer\n",
      "2024-05-22 16:59:06.383895: I external/local_xla/xla/stream_executor/cuda/cuda_dnn.cc:454] Loaded cuDNN version 8907\n",
      "2024-05-22 16:59:06.448693: W external/local_xla/xla/stream_executor/gpu/redzone_allocator.cc:322] UNIMPLEMENTED: ptxas ptxas too old. Falling back to the driver to compile.\n",
      "Relying on driver to perform ptx compilation. \n",
      "Modify $PATH to customize ptxas location.\n",
      "This message will be only logged once.\n",
      "2024-05-22 16:59:06.723522: W tensorflow/compiler/mlir/tools/kernel_gen/transforms/gpu_kernel_to_blob_pass.cc:191] Failed to compile generated PTX with ptxas. Falling back to compilation by driver.\n",
      "2024-05-22 16:59:06.723597: W tensorflow/compiler/mlir/tools/kernel_gen/transforms/gpu_kernel_to_blob_pass.cc:191] Failed to compile generated PTX with ptxas. Falling back to compilation by driver.\n",
      "2024-05-22 16:59:06.723715: W tensorflow/compiler/mlir/tools/kernel_gen/transforms/gpu_kernel_to_blob_pass.cc:191] Failed to compile generated PTX with ptxas. Falling back to compilation by driver.\n",
      "2024-05-22 16:59:06.723835: W tensorflow/compiler/mlir/tools/kernel_gen/transforms/gpu_kernel_to_blob_pass.cc:191] Failed to compile generated PTX with ptxas. Falling back to compilation by driver.\n",
      "2024-05-22 16:59:06.723872: W tensorflow/compiler/mlir/tools/kernel_gen/transforms/gpu_kernel_to_blob_pass.cc:191] Failed to compile generated PTX with ptxas. Falling back to compilation by driver.\n",
      "2024-05-22 16:59:06.725309: W tensorflow/compiler/mlir/tools/kernel_gen/transforms/gpu_kernel_to_blob_pass.cc:191] Failed to compile generated PTX with ptxas. Falling back to compilation by driver.\n",
      "2024-05-22 16:59:06.725405: W tensorflow/compiler/mlir/tools/kernel_gen/transforms/gpu_kernel_to_blob_pass.cc:191] Failed to compile generated PTX with ptxas. Falling back to compilation by driver.\n",
      "2024-05-22 16:59:06.726725: W tensorflow/compiler/mlir/tools/kernel_gen/transforms/gpu_kernel_to_blob_pass.cc:191] Failed to compile generated PTX with ptxas. Falling back to compilation by driver.\n",
      "2024-05-22 16:59:06.729531: W tensorflow/compiler/mlir/tools/kernel_gen/transforms/gpu_kernel_to_blob_pass.cc:191] Failed to compile generated PTX with ptxas. Falling back to compilation by driver.\n",
      "2024-05-22 16:59:07.244018: W tensorflow/compiler/mlir/tools/kernel_gen/transforms/gpu_kernel_to_blob_pass.cc:191] Failed to compile generated PTX with ptxas. Falling back to compilation by driver.\n",
      "2024-05-22 16:59:07.341367: W tensorflow/compiler/mlir/tools/kernel_gen/transforms/gpu_kernel_to_blob_pass.cc:191] Failed to compile generated PTX with ptxas. Falling back to compilation by driver.\n",
      "2024-05-22 16:59:07.341390: W tensorflow/compiler/mlir/tools/kernel_gen/transforms/gpu_kernel_to_blob_pass.cc:191] Failed to compile generated PTX with ptxas. Falling back to compilation by driver.\n",
      "2024-05-22 16:59:07.341413: W tensorflow/compiler/mlir/tools/kernel_gen/transforms/gpu_kernel_to_blob_pass.cc:191] Failed to compile generated PTX with ptxas. Falling back to compilation by driver.\n",
      "2024-05-22 16:59:07.341709: W tensorflow/compiler/mlir/tools/kernel_gen/transforms/gpu_kernel_to_blob_pass.cc:191] Failed to compile generated PTX with ptxas. Falling back to compilation by driver.\n",
      "2024-05-22 16:59:07.342241: W tensorflow/compiler/mlir/tools/kernel_gen/transforms/gpu_kernel_to_blob_pass.cc:191] Failed to compile generated PTX with ptxas. Falling back to compilation by driver.\n",
      "2024-05-22 16:59:07.343764: W tensorflow/compiler/mlir/tools/kernel_gen/transforms/gpu_kernel_to_blob_pass.cc:191] Failed to compile generated PTX with ptxas. Falling back to compilation by driver.\n",
      "2024-05-22 16:59:07.343784: W tensorflow/compiler/mlir/tools/kernel_gen/transforms/gpu_kernel_to_blob_pass.cc:191] Failed to compile generated PTX with ptxas. Falling back to compilation by driver.\n",
      "2024-05-22 16:59:07.343802: W tensorflow/compiler/mlir/tools/kernel_gen/transforms/gpu_kernel_to_blob_pass.cc:191] Failed to compile generated PTX with ptxas. Falling back to compilation by driver.\n",
      "2024-05-22 16:59:07.529805: W tensorflow/compiler/mlir/tools/kernel_gen/transforms/gpu_kernel_to_blob_pass.cc:191] Failed to compile generated PTX with ptxas. Falling back to compilation by driver.\n",
      "2024-05-22 16:59:07.619032: I external/local_xla/xla/service/service.cc:168] XLA service 0x7f4da0ecf610 initialized for platform CUDA (this does not guarantee that XLA will be used). Devices:\n",
      "2024-05-22 16:59:07.619065: I external/local_xla/xla/service/service.cc:176]   StreamExecutor device (0): NVIDIA H100 80GB HBM3 MIG 1g.10gb, Compute Capability 9.0\n",
      "WARNING: All log messages before absl::InitializeLog() is called are written to STDERR\n",
      "I0000 00:00:1716397147.681718  401246 device_compiler.h:186] Compiled cluster using XLA!  This line is logged at most once for the lifetime of the process.\n",
      "2024-05-22 16:59:07.805791: W tensorflow/compiler/mlir/tools/kernel_gen/transforms/gpu_kernel_to_blob_pass.cc:191] Failed to compile generated PTX with ptxas. Falling back to compilation by driver.\n"
     ]
    },
    {
     "name": "stdout",
     "output_type": "stream",
     "text": [
      "782/782 [==============================] - 25s 24ms/step - loss: 2.5137 - accuracy: 0.1260 - val_loss: 2.1477 - val_accuracy: 0.2258\n",
      "Epoch 2/100\n",
      "782/782 [==============================] - 17s 22ms/step - loss: 2.2680 - accuracy: 0.1641 - val_loss: 1.9534 - val_accuracy: 0.3457\n",
      "Epoch 3/100\n",
      "782/782 [==============================] - 17s 21ms/step - loss: 2.2543 - accuracy: 0.1842 - val_loss: 1.9938 - val_accuracy: 0.3242\n",
      "Epoch 4/100\n",
      "782/782 [==============================] - 18s 23ms/step - loss: 2.2451 - accuracy: 0.1935 - val_loss: 1.8464 - val_accuracy: 0.4490\n",
      "Epoch 5/100\n",
      "782/782 [==============================] - 18s 23ms/step - loss: 2.2429 - accuracy: 0.1974 - val_loss: 1.8501 - val_accuracy: 0.4662\n",
      "Epoch 6/100\n",
      "782/782 [==============================] - 18s 23ms/step - loss: 2.2351 - accuracy: 0.2102 - val_loss: 1.8352 - val_accuracy: 0.4852\n",
      "Epoch 7/100\n",
      "782/782 [==============================] - 17s 22ms/step - loss: 2.2276 - accuracy: 0.2178 - val_loss: 1.8287 - val_accuracy: 0.4984\n",
      "Epoch 8/100\n",
      "782/782 [==============================] - 18s 23ms/step - loss: 2.2233 - accuracy: 0.2249 - val_loss: 1.6983 - val_accuracy: 0.5105\n",
      "Epoch 9/100\n",
      "782/782 [==============================] - 18s 23ms/step - loss: 2.2173 - accuracy: 0.2280 - val_loss: 1.7889 - val_accuracy: 0.5258\n",
      "Epoch 10/100\n",
      "782/782 [==============================] - 17s 22ms/step - loss: 2.2122 - accuracy: 0.2342 - val_loss: 1.6837 - val_accuracy: 0.5637\n",
      "Epoch 11/100\n",
      "782/782 [==============================] - 18s 23ms/step - loss: 2.2073 - accuracy: 0.2384 - val_loss: 1.7754 - val_accuracy: 0.4833\n",
      "Epoch 12/100\n",
      "782/782 [==============================] - 19s 24ms/step - loss: 2.2027 - accuracy: 0.2411 - val_loss: 1.7203 - val_accuracy: 0.5547\n",
      "Epoch 13/100\n",
      "782/782 [==============================] - 18s 23ms/step - loss: 2.1992 - accuracy: 0.2464 - val_loss: 1.7584 - val_accuracy: 0.4734\n",
      "Epoch 14/100\n",
      "782/782 [==============================] - 18s 23ms/step - loss: 2.1980 - accuracy: 0.2498 - val_loss: 1.6466 - val_accuracy: 0.5446\n",
      "Epoch 15/100\n",
      "782/782 [==============================] - 18s 23ms/step - loss: 2.1935 - accuracy: 0.2542 - val_loss: 1.7550 - val_accuracy: 0.5153\n",
      "Epoch 16/100\n",
      "782/782 [==============================] - 18s 23ms/step - loss: 2.1881 - accuracy: 0.2562 - val_loss: 1.6026 - val_accuracy: 0.5950\n",
      "Epoch 17/100\n",
      "782/782 [==============================] - 18s 23ms/step - loss: 2.1860 - accuracy: 0.2606 - val_loss: 1.5321 - val_accuracy: 0.6060\n",
      "Epoch 18/100\n",
      "782/782 [==============================] - 18s 23ms/step - loss: 2.1817 - accuracy: 0.2661 - val_loss: 1.6065 - val_accuracy: 0.5688\n",
      "Epoch 19/100\n",
      "782/782 [==============================] - 18s 23ms/step - loss: 2.1790 - accuracy: 0.2669 - val_loss: 1.7084 - val_accuracy: 0.5078\n",
      "Epoch 20/100\n",
      "782/782 [==============================] - 17s 22ms/step - loss: 2.1776 - accuracy: 0.2680 - val_loss: 1.6241 - val_accuracy: 0.6494\n",
      "Epoch 21/100\n",
      "782/782 [==============================] - 17s 22ms/step - loss: 2.1746 - accuracy: 0.2689 - val_loss: 1.4601 - val_accuracy: 0.6335\n",
      "Epoch 22/100\n",
      "782/782 [==============================] - 18s 22ms/step - loss: 2.1697 - accuracy: 0.2727 - val_loss: 1.5210 - val_accuracy: 0.6694\n",
      "Epoch 23/100\n",
      "782/782 [==============================] - 18s 23ms/step - loss: 2.1650 - accuracy: 0.2775 - val_loss: 1.5670 - val_accuracy: 0.6127\n",
      "Epoch 24/100\n",
      "782/782 [==============================] - 17s 22ms/step - loss: 2.1637 - accuracy: 0.2800 - val_loss: 1.4964 - val_accuracy: 0.6728\n",
      "Epoch 25/100\n",
      "782/782 [==============================] - 17s 22ms/step - loss: 2.1594 - accuracy: 0.2827 - val_loss: 1.4401 - val_accuracy: 0.6727\n",
      "Epoch 26/100\n",
      "782/782 [==============================] - 17s 22ms/step - loss: 2.1594 - accuracy: 0.2823 - val_loss: 1.5102 - val_accuracy: 0.6755\n",
      "Epoch 27/100\n",
      "782/782 [==============================] - 18s 22ms/step - loss: 2.1543 - accuracy: 0.2861 - val_loss: 1.5045 - val_accuracy: 0.6890\n",
      "Epoch 28/100\n",
      "782/782 [==============================] - 17s 22ms/step - loss: 2.1541 - accuracy: 0.2871 - val_loss: 1.4448 - val_accuracy: 0.6711\n",
      "Epoch 29/100\n",
      "782/782 [==============================] - 17s 22ms/step - loss: 2.1496 - accuracy: 0.2898 - val_loss: 1.5483 - val_accuracy: 0.6129\n",
      "Epoch 30/100\n",
      "782/782 [==============================] - 17s 22ms/step - loss: 2.1481 - accuracy: 0.2899 - val_loss: 1.4136 - val_accuracy: 0.6739\n",
      "Epoch 31/100\n",
      "782/782 [==============================] - 17s 22ms/step - loss: 2.1426 - accuracy: 0.2941 - val_loss: 1.4415 - val_accuracy: 0.6783\n",
      "Epoch 32/100\n",
      "782/782 [==============================] - 17s 22ms/step - loss: 2.1413 - accuracy: 0.2953 - val_loss: 1.4429 - val_accuracy: 0.6789\n",
      "Epoch 33/100\n",
      "782/782 [==============================] - 17s 22ms/step - loss: 2.1399 - accuracy: 0.2970 - val_loss: 1.4175 - val_accuracy: 0.7062\n",
      "Epoch 34/100\n",
      "782/782 [==============================] - 18s 23ms/step - loss: 2.1335 - accuracy: 0.3008 - val_loss: 1.4230 - val_accuracy: 0.7151\n",
      "Epoch 35/100\n",
      "782/782 [==============================] - 18s 23ms/step - loss: 2.1329 - accuracy: 0.2980 - val_loss: 1.4283 - val_accuracy: 0.6906\n",
      "Epoch 36/100\n",
      "782/782 [==============================] - 19s 24ms/step - loss: 2.1294 - accuracy: 0.3029 - val_loss: 1.4042 - val_accuracy: 0.7201\n",
      "Epoch 37/100\n",
      "782/782 [==============================] - 19s 25ms/step - loss: 2.1280 - accuracy: 0.3012 - val_loss: 1.4225 - val_accuracy: 0.7099\n",
      "Epoch 38/100\n",
      "782/782 [==============================] - 20s 25ms/step - loss: 2.1241 - accuracy: 0.3052 - val_loss: 1.3523 - val_accuracy: 0.7231\n",
      "Epoch 39/100\n",
      "782/782 [==============================] - 19s 24ms/step - loss: 2.1202 - accuracy: 0.3063 - val_loss: 1.4244 - val_accuracy: 0.7071\n",
      "Epoch 40/100\n",
      "782/782 [==============================] - 19s 24ms/step - loss: 2.1182 - accuracy: 0.3084 - val_loss: 1.3833 - val_accuracy: 0.7024\n",
      "Epoch 41/100\n",
      "782/782 [==============================] - 18s 24ms/step - loss: 2.1157 - accuracy: 0.3101 - val_loss: 1.3504 - val_accuracy: 0.7186\n",
      "Epoch 42/100\n",
      "782/782 [==============================] - 19s 24ms/step - loss: 2.1141 - accuracy: 0.3113 - val_loss: 1.4706 - val_accuracy: 0.6825\n",
      "Epoch 43/100\n",
      "782/782 [==============================] - 18s 23ms/step - loss: 2.1125 - accuracy: 0.3093 - val_loss: 1.3604 - val_accuracy: 0.7207\n",
      "Epoch 44/100\n",
      "782/782 [==============================] - 19s 24ms/step - loss: 2.1053 - accuracy: 0.3132 - val_loss: 1.4168 - val_accuracy: 0.7118\n",
      "Epoch 45/100\n",
      "782/782 [==============================] - 19s 24ms/step - loss: 2.1064 - accuracy: 0.3151 - val_loss: 1.2962 - val_accuracy: 0.7367\n",
      "Epoch 46/100\n",
      "782/782 [==============================] - 19s 24ms/step - loss: 2.1043 - accuracy: 0.3171 - val_loss: 1.3656 - val_accuracy: 0.7366\n",
      "Epoch 47/100\n",
      "782/782 [==============================] - 19s 24ms/step - loss: 2.1004 - accuracy: 0.3170 - val_loss: 1.3663 - val_accuracy: 0.7344\n",
      "Epoch 48/100\n",
      "782/782 [==============================] - 20s 26ms/step - loss: 2.0992 - accuracy: 0.3163 - val_loss: 1.3522 - val_accuracy: 0.7432\n",
      "Epoch 49/100\n",
      "782/782 [==============================] - 20s 25ms/step - loss: 2.0938 - accuracy: 0.3192 - val_loss: 1.3095 - val_accuracy: 0.7474\n",
      "Epoch 50/100\n",
      "782/782 [==============================] - 20s 25ms/step - loss: 2.0948 - accuracy: 0.3192 - val_loss: 1.3271 - val_accuracy: 0.7298\n",
      "Epoch 51/100\n",
      "782/782 [==============================] - 20s 25ms/step - loss: 2.0873 - accuracy: 0.3220 - val_loss: 1.3391 - val_accuracy: 0.7296\n",
      "Epoch 52/100\n",
      "782/782 [==============================] - 20s 25ms/step - loss: 2.0878 - accuracy: 0.3195 - val_loss: 1.3229 - val_accuracy: 0.7365\n",
      "Epoch 53/100\n",
      "782/782 [==============================] - 20s 26ms/step - loss: 2.0830 - accuracy: 0.3234 - val_loss: 1.3436 - val_accuracy: 0.7295\n",
      "Epoch 54/100\n",
      "782/782 [==============================] - 20s 26ms/step - loss: 2.0856 - accuracy: 0.3235 - val_loss: 1.3313 - val_accuracy: 0.7441\n",
      "Epoch 55/100\n",
      "782/782 [==============================] - 20s 26ms/step - loss: 2.0793 - accuracy: 0.3229 - val_loss: 1.2975 - val_accuracy: 0.7500\n",
      "Epoch 56/100\n",
      "782/782 [==============================] - 20s 25ms/step - loss: 2.0809 - accuracy: 0.3238 - val_loss: 1.2862 - val_accuracy: 0.7387\n",
      "Epoch 57/100\n",
      "782/782 [==============================] - 20s 26ms/step - loss: 2.0764 - accuracy: 0.3258 - val_loss: 1.3568 - val_accuracy: 0.7306\n",
      "Epoch 58/100\n",
      "782/782 [==============================] - 20s 25ms/step - loss: 2.0757 - accuracy: 0.3259 - val_loss: 1.3181 - val_accuracy: 0.7407\n",
      "Epoch 59/100\n",
      "782/782 [==============================] - 20s 26ms/step - loss: 2.0718 - accuracy: 0.3280 - val_loss: 1.3168 - val_accuracy: 0.7494\n",
      "Epoch 60/100\n",
      "782/782 [==============================] - 21s 26ms/step - loss: 2.0694 - accuracy: 0.3317 - val_loss: 1.3382 - val_accuracy: 0.7436\n",
      "Epoch 61/100\n",
      "782/782 [==============================] - 20s 25ms/step - loss: 2.0643 - accuracy: 0.3323 - val_loss: 1.2882 - val_accuracy: 0.7473\n",
      "Epoch 62/100\n",
      "782/782 [==============================] - 20s 26ms/step - loss: 2.0664 - accuracy: 0.3291 - val_loss: 1.3167 - val_accuracy: 0.7512\n",
      "Epoch 63/100\n",
      "782/782 [==============================] - 20s 25ms/step - loss: 2.0632 - accuracy: 0.3305 - val_loss: 1.3015 - val_accuracy: 0.7480\n",
      "Epoch 64/100\n",
      "782/782 [==============================] - 19s 24ms/step - loss: 2.0594 - accuracy: 0.3331 - val_loss: 1.2977 - val_accuracy: 0.7400\n",
      "Epoch 65/100\n",
      "782/782 [==============================] - 19s 25ms/step - loss: 2.0578 - accuracy: 0.3329 - val_loss: 1.2807 - val_accuracy: 0.7534\n",
      "Epoch 66/100\n",
      "782/782 [==============================] - 19s 25ms/step - loss: 2.0552 - accuracy: 0.3347 - val_loss: 1.3030 - val_accuracy: 0.7492\n",
      "Epoch 67/100\n",
      "782/782 [==============================] - 18s 23ms/step - loss: 2.0540 - accuracy: 0.3326 - val_loss: 1.2558 - val_accuracy: 0.7510\n",
      "Epoch 68/100\n",
      "782/782 [==============================] - 18s 23ms/step - loss: 2.0556 - accuracy: 0.3341 - val_loss: 1.2884 - val_accuracy: 0.7506\n",
      "Epoch 69/100\n",
      "782/782 [==============================] - 19s 24ms/step - loss: 2.0525 - accuracy: 0.3371 - val_loss: 1.2928 - val_accuracy: 0.7505\n",
      "Epoch 70/100\n",
      "782/782 [==============================] - 18s 24ms/step - loss: 2.0532 - accuracy: 0.3341 - val_loss: 1.2711 - val_accuracy: 0.7532\n",
      "Epoch 71/100\n",
      "782/782 [==============================] - 18s 24ms/step - loss: 2.0490 - accuracy: 0.3348 - val_loss: 1.2708 - val_accuracy: 0.7553\n",
      "Epoch 72/100\n",
      "782/782 [==============================] - 19s 24ms/step - loss: 2.0518 - accuracy: 0.3365 - val_loss: 1.2714 - val_accuracy: 0.7536\n",
      "Epoch 73/100\n",
      "782/782 [==============================] - 18s 24ms/step - loss: 2.0482 - accuracy: 0.3374 - val_loss: 1.2771 - val_accuracy: 0.7534\n",
      "Epoch 74/100\n",
      "782/782 [==============================] - 18s 23ms/step - loss: 2.0466 - accuracy: 0.3388 - val_loss: 1.2718 - val_accuracy: 0.7538\n",
      "Epoch 75/100\n",
      "782/782 [==============================] - 18s 24ms/step - loss: 2.0455 - accuracy: 0.3374 - val_loss: 1.2665 - val_accuracy: 0.7542\n",
      "Epoch 76/100\n",
      "782/782 [==============================] - 19s 24ms/step - loss: 2.0475 - accuracy: 0.3374 - val_loss: 1.2734 - val_accuracy: 0.7521\n",
      "Epoch 77/100\n",
      "782/782 [==============================] - 19s 24ms/step - loss: 2.0435 - accuracy: 0.3390 - val_loss: 1.2706 - val_accuracy: 0.7559\n",
      "Epoch 78/100\n",
      "782/782 [==============================] - 19s 24ms/step - loss: 2.0445 - accuracy: 0.3366 - val_loss: 1.2670 - val_accuracy: 0.7546\n",
      "Epoch 79/100\n",
      "782/782 [==============================] - 18s 24ms/step - loss: 2.0430 - accuracy: 0.3386 - val_loss: 1.2707 - val_accuracy: 0.7539\n",
      "Epoch 80/100\n",
      "782/782 [==============================] - 18s 23ms/step - loss: 2.0418 - accuracy: 0.3387 - val_loss: 1.2685 - val_accuracy: 0.7539\n",
      "Epoch 81/100\n",
      "782/782 [==============================] - 18s 24ms/step - loss: 2.0448 - accuracy: 0.3380 - val_loss: 1.2701 - val_accuracy: 0.7536\n",
      "Epoch 82/100\n",
      "782/782 [==============================] - 18s 23ms/step - loss: 2.0443 - accuracy: 0.3368 - val_loss: 1.2675 - val_accuracy: 0.7531\n",
      "Epoch 83/100\n",
      "782/782 [==============================] - 19s 24ms/step - loss: 2.0434 - accuracy: 0.3384 - val_loss: 1.2686 - val_accuracy: 0.7529\n",
      "Epoch 84/100\n",
      "782/782 [==============================] - 18s 23ms/step - loss: 2.0440 - accuracy: 0.3389 - val_loss: 1.2698 - val_accuracy: 0.7545\n",
      "Epoch 85/100\n",
      "782/782 [==============================] - 19s 24ms/step - loss: 2.0455 - accuracy: 0.3382 - val_loss: 1.2715 - val_accuracy: 0.7527\n",
      "Epoch 86/100\n",
      "782/782 [==============================] - 19s 24ms/step - loss: 2.0440 - accuracy: 0.3387 - val_loss: 1.2711 - val_accuracy: 0.7540\n",
      "Epoch 87/100\n",
      "782/782 [==============================] - 19s 24ms/step - loss: 2.0451 - accuracy: 0.3374 - val_loss: 1.2724 - val_accuracy: 0.7547\n",
      "Epoch 88/100\n",
      "782/782 [==============================] - 18s 23ms/step - loss: 2.0453 - accuracy: 0.3391 - val_loss: 1.2735 - val_accuracy: 0.7542\n",
      "Epoch 89/100\n",
      "782/782 [==============================] - 19s 25ms/step - loss: 2.0435 - accuracy: 0.3378 - val_loss: 1.2710 - val_accuracy: 0.7542\n",
      "Epoch 90/100\n",
      "782/782 [==============================] - 20s 25ms/step - loss: 2.0422 - accuracy: 0.3384 - val_loss: 1.2714 - val_accuracy: 0.7556\n",
      "Epoch 91/100\n",
      "782/782 [==============================] - 19s 25ms/step - loss: 2.0434 - accuracy: 0.3382 - val_loss: 1.2688 - val_accuracy: 0.7541\n",
      "Epoch 92/100\n",
      "782/782 [==============================] - 19s 25ms/step - loss: 2.0439 - accuracy: 0.3384 - val_loss: 1.2711 - val_accuracy: 0.7544\n",
      "Epoch 93/100\n",
      "782/782 [==============================] - 18s 24ms/step - loss: 2.0434 - accuracy: 0.3358 - val_loss: 1.2732 - val_accuracy: 0.7532\n",
      "Epoch 94/100\n",
      "782/782 [==============================] - 19s 24ms/step - loss: 2.0410 - accuracy: 0.3373 - val_loss: 1.2706 - val_accuracy: 0.7547\n",
      "Epoch 95/100\n",
      "782/782 [==============================] - 19s 24ms/step - loss: 2.0469 - accuracy: 0.3367 - val_loss: 1.2700 - val_accuracy: 0.7548\n",
      "Epoch 96/100\n",
      "782/782 [==============================] - 19s 24ms/step - loss: 2.0419 - accuracy: 0.3396 - val_loss: 1.2714 - val_accuracy: 0.7537\n",
      "Epoch 97/100\n",
      "782/782 [==============================] - 19s 24ms/step - loss: 2.0468 - accuracy: 0.3380 - val_loss: 1.2699 - val_accuracy: 0.7542\n",
      "Epoch 98/100\n",
      "782/782 [==============================] - 19s 24ms/step - loss: 2.0400 - accuracy: 0.3401 - val_loss: 1.2711 - val_accuracy: 0.7535\n",
      "Epoch 99/100\n",
      "782/782 [==============================] - 19s 24ms/step - loss: 2.0431 - accuracy: 0.3390 - val_loss: 1.2720 - val_accuracy: 0.7542\n",
      "Epoch 100/100\n",
      "782/782 [==============================] - 19s 24ms/step - loss: 2.0451 - accuracy: 0.3357 - val_loss: 1.2696 - val_accuracy: 0.7551\n"
     ]
    }
   ],
   "source": [
    "model = dropout_model()\n",
    "results = train(model, trainX, trainY, testX, testY)"
   ]
  },
  {
   "cell_type": "code",
   "execution_count": 8,
   "metadata": {
    "colab": {
     "base_uri": "https://localhost:8080/",
     "height": 904
    },
    "executionInfo": {
     "elapsed": 2168,
     "status": "ok",
     "timestamp": 1715793363574,
     "user": {
      "displayName": "Jonatan Hyberg",
      "userId": "02103785444766429018"
     },
     "user_tz": -120
    },
    "id": "yNdQN-nnCTUk",
    "outputId": "fc0a0793-fbbc-436a-b9b3-5941ca4db1ca"
   },
   "outputs": [
    {
     "data": {
      "image/png": "[encoded data removed]",
      "text/plain": [
       "<Figure size 640x480 with 1 Axes>"
      ]
     },
     "metadata": {},
     "output_type": "display_data"
    },
    {
     "data": {
      "image/png": "[encoded data removed]",
      "text/plain": [
       "<Figure size 640x480 with 1 Axes>"
      ]
     },
     "metadata": {},
     "output_type": "display_data"
    },
    {
     "name": "stdout",
     "output_type": "stream",
     "text": [
      "The model achieved a final accuracy of 75.51%\n"
     ]
    }
   ],
   "source": [
    "plot_results(results.history)\n",
    "evaluate(model, testX, testY)"
   ]
  },
  {
   "cell_type": "code",
   "execution_count": 9,
   "metadata": {
    "executionInfo": {
     "elapsed": 301,
     "status": "ok",
     "timestamp": 1715793629457,
     "user": {
      "displayName": "Jonatan Hyberg",
      "userId": "02103785444766429018"
     },
     "user_tz": -120
    },
    "id": "VmsurzVECTUk"
   },
   "outputs": [],
   "source": [
    "save_model('noisy_model_60_sym', model)\n",
    "save_history('noisy_model_60_sym', results.history)"
   ]
  }
 ],
 "metadata": {
  "accelerator": "GPU",
  "colab": {
   "gpuType": "T4",
   "provenance": [
    {
     "file_id": "1irCtCvrPih104WASUJu-j-MZJMXLKCEy",
     "timestamp": 1715782757909
    }
   ]
  },
  "kernelspec": {
   "display_name": "Python 3 (ipykernel)",
   "language": "python",
   "name": "python3"
  },
  "language_info": {
   "codemirror_mode": {
    "name": "ipython",
    "version": 3
   },
   "file_extension": ".py",
   "mimetype": "text/x-python",
   "name": "python",
   "nbconvert_exporter": "python",
   "pygments_lexer": "ipython3",
   "version": "3.10.13"
  }
 },
 "nbformat": 4,
 "nbformat_minor": 4
}
