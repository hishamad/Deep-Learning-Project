{
 "cells": [
  {
   "cell_type": "code",
   "execution_count": 1,
   "metadata": {
    "executionInfo": {
     "elapsed": 4900,
     "status": "ok",
     "timestamp": 1715782928249,
     "user": {
      "displayName": "Jonatan Hyberg",
      "userId": "02103785444766429018"
     },
     "user_tz": -120
    },
    "id": "kyqOgTWzCTUX"
   },
   "outputs": [
    {
     "name": "stderr",
     "output_type": "stream",
     "text": [
      "2024-05-17 12:44:42.125632: I tensorflow/core/util/port.cc:113] oneDNN custom operations are on. You may see slightly different numerical results due to floating-point round-off errors from different computation orders. To turn them off, set the environment variable `TF_ENABLE_ONEDNN_OPTS=0`.\n",
      "2024-05-17 12:44:42.186545: E external/local_xla/xla/stream_executor/cuda/cuda_dnn.cc:9261] Unable to register cuDNN factory: Attempting to register factory for plugin cuDNN when one has already been registered\n",
      "2024-05-17 12:44:42.186596: E external/local_xla/xla/stream_executor/cuda/cuda_fft.cc:607] Unable to register cuFFT factory: Attempting to register factory for plugin cuFFT when one has already been registered\n",
      "2024-05-17 12:44:42.188036: E external/local_xla/xla/stream_executor/cuda/cuda_blas.cc:1515] Unable to register cuBLAS factory: Attempting to register factory for plugin cuBLAS when one has already been registered\n",
      "2024-05-17 12:44:42.197651: I tensorflow/core/platform/cpu_feature_guard.cc:182] This TensorFlow binary is optimized to use available CPU instructions in performance-critical operations.\n",
      "To enable the following instructions: AVX2 AVX512F AVX512_VNNI AVX512_BF16 AVX_VNNI AMX_TILE AMX_INT8 AMX_BF16 FMA, in other operations, rebuild TensorFlow with the appropriate compiler flags.\n"
     ]
    }
   ],
   "source": [
    "import sys\n",
    "import tensorflow as tf\n",
    "import matplotlib.pyplot as plt\n",
    "from tensorflow.keras.datasets import cifar10\n",
    "from tensorflow.keras.layers import Conv2D\n",
    "from tensorflow.keras.layers import MaxPooling2D\n",
    "from tensorflow.keras.layers import Dense\n",
    "from tensorflow.keras.layers import Flatten\n",
    "from tensorflow.keras.utils import to_categorical\n",
    "from tensorflow.keras.models import Sequential\n",
    "from tensorflow.keras.optimizers import SGD\n",
    "from keras.layers import Dropout\n",
    "from tensorflow.keras.preprocessing.image import ImageDataGenerator\n",
    "# from cosine_annealing import CosineAnnealingScheduler\n",
    "from keras.layers import BatchNormalization\n",
    "import pickle\n",
    "from keras.regularizers import l2\n",
    "from  scipy import ndimage\n",
    "import numpy as np"
   ]
  },
  {
   "cell_type": "markdown",
   "metadata": {
    "id": "y67Ec5FICTUd"
   },
   "source": [
    "#### Dataset\n"
   ]
  },
  {
   "cell_type": "markdown",
   "metadata": {
    "id": "CYNU45pfCTUf"
   },
   "source": [
    "Load dataset + One-hot encoding + Normalization"
   ]
  },
  {
   "cell_type": "code",
   "execution_count": 2,
   "metadata": {
    "executionInfo": {
     "elapsed": 495,
     "status": "ok",
     "timestamp": 1715782996141,
     "user": {
      "displayName": "Jonatan Hyberg",
      "userId": "02103785444766429018"
     },
     "user_tz": -120
    },
    "id": "o8BGn2ZOCTUg"
   },
   "outputs": [],
   "source": [
    "def load_dataset(noise_ratio=0, sym=True):\n",
    "    (trainX, trainY), (testX, testY) = cifar10.load_data()\n",
    "    n_classes = 10\n",
    "\n",
    "    if noise_ratio > 0:\n",
    "        trainY_original = np.copy(trainY)\n",
    "        if sym:\n",
    "            # Symmetric noise\n",
    "            source_class = [9, 2, 3, 5, 4]\n",
    "            target_class = [1, 0, 5, 3, 7]\n",
    "            \n",
    "            for s, t in zip(source_class, target_class):\n",
    "                cls_idx = np.where(trainY_original == s)[0]\n",
    "                n_noisy = int(noise_ratio * cls_idx.shape[0] / 100)\n",
    "                noisy_sample_index = np.random.choice(cls_idx, n_noisy, replace=False)\n",
    "                trainY[noisy_sample_index] = t\n",
    "        else:\n",
    "            # Asymetric noise\n",
    "            n_samples = trainY.shape[0]\n",
    "            n_noisy = int(noise_ratio * n_samples / 100)\n",
    "            class_index = [np.where(trainY_original == i)[0] for i in range(n_classes)]\n",
    "            class_noisy = int(n_noisy / n_classes)\n",
    "\n",
    "            noisy_idx = []\n",
    "            for d in range(n_classes):\n",
    "                noisy_class_index = np.random.choice(class_index[d], class_noisy, replace=False)\n",
    "                noisy_idx.extend(noisy_class_index)\n",
    "\n",
    "            for i in noisy_idx:\n",
    "                class_ind = trainY_original[i]\n",
    "                other_class_list = list(range(n_classes))\n",
    "                other_class_list.remove(class_ind)\n",
    "                other_class = np.random.choice(other_class_list)\n",
    "                trainY[i] = other_class\n",
    "        \n",
    "    # One-hot encoding\n",
    "    trainY = to_categorical(trainY)\n",
    "    testY = to_categorical(testY)\n",
    "    # Normalize to [0,1]\n",
    "    trainX = trainX.astype('float32') / 255.0\n",
    "    testX = testX.astype('float32') / 255.0\n",
    "\n",
    "    return trainX, trainY, testX, testY"
   ]
  },
  {
   "cell_type": "markdown",
   "metadata": {
    "id": "-eHdUCx4CTUg"
   },
   "source": [
    "#### Model"
   ]
  },
  {
   "cell_type": "markdown",
   "metadata": {
    "id": "_ZUdh8aqCTUh"
   },
   "source": [
    "Imortant functions"
   ]
  },
  {
   "cell_type": "code",
   "execution_count": 3,
   "metadata": {
    "executionInfo": {
     "elapsed": 2,
     "status": "ok",
     "timestamp": 1715784774519,
     "user": {
      "displayName": "Jonatan Hyberg",
      "userId": "02103785444766429018"
     },
     "user_tz": -120
    },
    "id": "BGpONL8FCTUh"
   },
   "outputs": [],
   "source": [
    "def train(model, trainX, trainY, testX, testY):\n",
    "\n",
    "\tgenerator = ImageDataGenerator(width_shift_range=0.1, height_shift_range=0.1, horizontal_flip=True)\n",
    "\n",
    "\ttrain_data = generator.flow(trainX, trainY, batch_size=64)\n",
    "\n",
    "\tresults = model.fit(train_data, epochs=100, validation_data=(testX, testY), verbose=1)\n",
    "\n",
    "\treturn results\n",
    "\n",
    "def evaluate(model, testX, testY):\n",
    "    _, acc = model.evaluate(testX, testY, verbose=0)\n",
    "\n",
    "    print(f\"The model achieved a final accuracy of {acc*100:.2f}%\")\n",
    "\n",
    "def plot_results(history):\n",
    "\tplt.title('Cross Entropy Loss')\n",
    "\tplt.plot(history['loss'], color='blue', label='Training loss')\n",
    "\tplt.plot(history['val_loss'], color='orange', label='Validation/test loss')\n",
    "\tplt.legend()\n",
    "\tplt.show()\n",
    "\n",
    "\tplt.title('Classification Accuracy')\n",
    "\tplt.plot(history['accuracy'], color='blue', label='Training accuracy')\n",
    "\tplt.plot(history['val_accuracy'], color='orange', label='Validation/test accuracy')\n",
    "\tplt.legend()\n",
    "\tplt.show()"
   ]
  },
  {
   "cell_type": "code",
   "execution_count": 4,
   "metadata": {
    "executionInfo": {
     "elapsed": 2,
     "status": "ok",
     "timestamp": 1715783002196,
     "user": {
      "displayName": "Jonatan Hyberg",
      "userId": "02103785444766429018"
     },
     "user_tz": -120
    },
    "id": "Ls19xeC0CTUi"
   },
   "outputs": [],
   "source": [
    "def save_model(filename, model):\n",
    "    filename = './models/' + filename\n",
    "    pickle.dump(model, open(filename, 'wb'))\n",
    "\n",
    "def save_history(filename, history):\n",
    "    filename = './history/' + filename\n",
    "    pickle.dump(history, open(filename, 'wb'))\n",
    "\n",
    "def load_model(filename):\n",
    "    filename = './models/' + filename\n",
    "    model = pickle.load(open(filename, 'rb'))\n",
    "    return model\n",
    "\n",
    "def load_history(filename):\n",
    "    filename = './history/' + filename\n",
    "    history = pickle.load(open(filename, 'rb'))\n",
    "    return history"
   ]
  },
  {
   "cell_type": "markdown",
   "metadata": {
    "id": "fXqNA_VcCTUj"
   },
   "source": [
    "Baseline model"
   ]
  },
  {
   "cell_type": "code",
   "execution_count": 5,
   "metadata": {
    "executionInfo": {
     "elapsed": 4,
     "status": "ok",
     "timestamp": 1715789630290,
     "user": {
      "displayName": "Jonatan Hyberg",
      "userId": "02103785444766429018"
     },
     "user_tz": -120
    },
    "id": "C9xaw4BBCTUj"
   },
   "outputs": [],
   "source": [
    "def dropout_model():\n",
    "    # Create architecture\n",
    "    model = Sequential()\n",
    "    model.add(Conv2D(32, (3, 3), activation='relu', kernel_initializer='he_uniform', padding='same', input_shape=(32, 32, 3)))\n",
    "    model.add(BatchNormalization())\n",
    "    model.add(Conv2D(32, (3, 3), activation='relu', kernel_initializer='he_uniform', padding='same'))\n",
    "    model.add(BatchNormalization())\n",
    "    model.add(MaxPooling2D((2, 2)))\n",
    "    model.add(Dropout(0.2))\n",
    "    model.add(Conv2D(64, (3, 3), activation='relu', kernel_initializer='he_uniform', padding='same'))\n",
    "    model.add(BatchNormalization())\n",
    "    model.add(Conv2D(64, (3, 3), activation='relu', kernel_initializer='he_uniform', padding='same'))\n",
    "    model.add(BatchNormalization())\n",
    "    model.add(MaxPooling2D((2, 2)))\n",
    "    model.add(Dropout(0.3))\n",
    "    model.add(Conv2D(128, (3, 3), activation='relu', kernel_initializer='he_uniform', padding='same'))\n",
    "    model.add(BatchNormalization())\n",
    "    model.add(Conv2D(128, (3, 3), activation='relu', kernel_initializer='he_uniform', padding='same'))\n",
    "    model.add(BatchNormalization())\n",
    "    model.add(MaxPooling2D((2, 2)))\n",
    "    model.add(Dropout(0.4))\n",
    "    model.add(Flatten())\n",
    "    model.add(Dense(128, activation='relu', kernel_initializer='he_uniform'))\n",
    "    model.add(BatchNormalization())\n",
    "    model.add(Dropout(0.5))\n",
    "    model.add(Dense(10, activation='softmax'))\n",
    "\n",
    "    total_steps = int(trainX.shape[0]/64) * 100\n",
    "    decay_steps = total_steps*0.8\n",
    "    initial_learning_rate = 0.0001\n",
    "    warmup_steps = 1000\n",
    "    target_learning_rate = 0.1\n",
    "    alpha = 0.001\n",
    "\n",
    "    lr_warmup_decayed_fn = tf.keras.optimizers.schedules.CosineDecay(\n",
    "        initial_learning_rate, decay_steps, warmup_target=target_learning_rate,\n",
    "        warmup_steps=warmup_steps,alpha = alpha\n",
    "    )\n",
    "    # Optimization method\n",
    "    opt = SGD(learning_rate=lr_warmup_decayed_fn, momentum=0.9)\n",
    "\n",
    "    # Compile model and choose loss type\n",
    "    model.compile(optimizer=opt, loss='categorical_crossentropy', metrics=['accuracy'])\n",
    "    return model"
   ]
  },
  {
   "cell_type": "code",
   "execution_count": 6,
   "metadata": {
    "colab": {
     "base_uri": "https://localhost:8080/"
    },
    "executionInfo": {
     "elapsed": 9036,
     "status": "ok",
     "timestamp": 1715783015758,
     "user": {
      "displayName": "Jonatan Hyberg",
      "userId": "02103785444766429018"
     },
     "user_tz": -120
    },
    "id": "q_FZ9SNHCTUj",
    "outputId": "db089f9d-58a3-4b4e-c9d6-6d4208bdcd7f"
   },
   "outputs": [],
   "source": [
    "trainX, trainY, testX, testY = load_dataset(noise_ratio=60, sym=True)"
   ]
  },
  {
   "cell_type": "code",
   "execution_count": 7,
   "metadata": {
    "colab": {
     "base_uri": "https://localhost:8080/"
    },
    "executionInfo": {
     "elapsed": 3670727,
     "status": "ok",
     "timestamp": 1715793305366,
     "user": {
      "displayName": "Jonatan Hyberg",
      "userId": "02103785444766429018"
     },
     "user_tz": -120
    },
    "id": "5aSe_cO4CTUk",
    "outputId": "490b509f-4efa-4d66-cae6-6271c8a1ee29"
   },
   "outputs": [
    {
     "name": "stderr",
     "output_type": "stream",
     "text": [
      "2024-05-17 12:44:45.606508: W tensorflow/core/common_runtime/gpu/gpu_device.cc:2348] TensorFlow was not built with CUDA kernel binaries compatible with compute capability 9.0. CUDA kernels will be jit-compiled from PTX, which could take 30 minutes or longer.\n",
      "2024-05-17 12:44:45.624547: W tensorflow/core/common_runtime/gpu/gpu_device.cc:2348] TensorFlow was not built with CUDA kernel binaries compatible with compute capability 9.0. CUDA kernels will be jit-compiled from PTX, which could take 30 minutes or longer.\n",
      "2024-05-17 12:44:45.799008: I tensorflow/core/common_runtime/gpu/gpu_device.cc:1929] Created device /job:localhost/replica:0/task:0/device:GPU:0 with 8077 MB memory:  -> device: 0, name: NVIDIA H100 80GB HBM3 MIG 1g.10gb, pci bus id: 0000:61:00.0, compute capability: 9.0\n",
      "2024-05-17 12:44:46.320210: W external/local_xla/xla/stream_executor/gpu/asm_compiler.cc:225] Falling back to the CUDA driver for PTX compilation; ptxas does not support CC 9.0\n",
      "2024-05-17 12:44:46.320235: W external/local_xla/xla/stream_executor/gpu/asm_compiler.cc:228] Used ptxas at ptxas\n",
      "2024-05-17 12:44:46.320295: W tensorflow/compiler/mlir/tools/kernel_gen/transforms/gpu_kernel_to_blob_pass.cc:191] Failed to compile generated PTX with ptxas. Falling back to compilation by driver.\n",
      "2024-05-17 12:44:46.320328: W tensorflow/compiler/mlir/tools/kernel_gen/transforms/gpu_kernel_to_blob_pass.cc:191] Failed to compile generated PTX with ptxas. Falling back to compilation by driver.\n",
      "2024-05-17 12:44:46.320359: W tensorflow/compiler/mlir/tools/kernel_gen/transforms/gpu_kernel_to_blob_pass.cc:191] Failed to compile generated PTX with ptxas. Falling back to compilation by driver.\n",
      "2024-05-17 12:44:46.320378: W tensorflow/compiler/mlir/tools/kernel_gen/transforms/gpu_kernel_to_blob_pass.cc:191] Failed to compile generated PTX with ptxas. Falling back to compilation by driver.\n",
      "2024-05-17 12:44:46.320392: W tensorflow/compiler/mlir/tools/kernel_gen/transforms/gpu_kernel_to_blob_pass.cc:191] Failed to compile generated PTX with ptxas. Falling back to compilation by driver.\n",
      "2024-05-17 12:44:46.320412: W tensorflow/compiler/mlir/tools/kernel_gen/transforms/gpu_kernel_to_blob_pass.cc:191] Failed to compile generated PTX with ptxas. Falling back to compilation by driver.\n",
      "2024-05-17 12:44:46.320434: W tensorflow/compiler/mlir/tools/kernel_gen/transforms/gpu_kernel_to_blob_pass.cc:191] Failed to compile generated PTX with ptxas. Falling back to compilation by driver.\n",
      "2024-05-17 12:44:46.320452: W tensorflow/compiler/mlir/tools/kernel_gen/transforms/gpu_kernel_to_blob_pass.cc:191] Failed to compile generated PTX with ptxas. Falling back to compilation by driver.\n"
     ]
    },
    {
     "name": "stdout",
     "output_type": "stream",
     "text": [
      "Epoch 1/100\n"
     ]
    },
    {
     "name": "stderr",
     "output_type": "stream",
     "text": [
      "2024-05-17 12:44:47.493837: E tensorflow/core/grappler/optimizers/meta_optimizer.cc:961] layout failed: INVALID_ARGUMENT: Size of values 0 does not match size of permutation 4 @ fanin shape insequential/dropout/dropout/SelectV2-2-TransposeNHWCToNCHW-LayoutOptimizer\n",
      "2024-05-17 12:44:47.749664: I external/local_xla/xla/stream_executor/cuda/cuda_dnn.cc:454] Loaded cuDNN version 8907\n",
      "2024-05-17 12:44:47.811612: W external/local_xla/xla/stream_executor/gpu/redzone_allocator.cc:322] UNIMPLEMENTED: ptxas ptxas too old. Falling back to the driver to compile.\n",
      "Relying on driver to perform ptx compilation. \n",
      "Modify $PATH to customize ptxas location.\n",
      "This message will be only logged once.\n",
      "2024-05-17 12:44:48.079529: W tensorflow/compiler/mlir/tools/kernel_gen/transforms/gpu_kernel_to_blob_pass.cc:191] Failed to compile generated PTX with ptxas. Falling back to compilation by driver.\n",
      "2024-05-17 12:44:48.079556: W tensorflow/compiler/mlir/tools/kernel_gen/transforms/gpu_kernel_to_blob_pass.cc:191] Failed to compile generated PTX with ptxas. Falling back to compilation by driver.\n",
      "2024-05-17 12:44:48.079578: W tensorflow/compiler/mlir/tools/kernel_gen/transforms/gpu_kernel_to_blob_pass.cc:191] Failed to compile generated PTX with ptxas. Falling back to compilation by driver.\n",
      "2024-05-17 12:44:48.079599: W tensorflow/compiler/mlir/tools/kernel_gen/transforms/gpu_kernel_to_blob_pass.cc:191] Failed to compile generated PTX with ptxas. Falling back to compilation by driver.\n",
      "2024-05-17 12:44:48.079963: W tensorflow/compiler/mlir/tools/kernel_gen/transforms/gpu_kernel_to_blob_pass.cc:191] Failed to compile generated PTX with ptxas. Falling back to compilation by driver.\n",
      "2024-05-17 12:44:48.080388: W tensorflow/compiler/mlir/tools/kernel_gen/transforms/gpu_kernel_to_blob_pass.cc:191] Failed to compile generated PTX with ptxas. Falling back to compilation by driver.\n",
      "2024-05-17 12:44:48.080959: W tensorflow/compiler/mlir/tools/kernel_gen/transforms/gpu_kernel_to_blob_pass.cc:191] Failed to compile generated PTX with ptxas. Falling back to compilation by driver.\n",
      "2024-05-17 12:44:48.081787: W tensorflow/compiler/mlir/tools/kernel_gen/transforms/gpu_kernel_to_blob_pass.cc:191] Failed to compile generated PTX with ptxas. Falling back to compilation by driver.\n",
      "2024-05-17 12:44:48.082237: W tensorflow/compiler/mlir/tools/kernel_gen/transforms/gpu_kernel_to_blob_pass.cc:191] Failed to compile generated PTX with ptxas. Falling back to compilation by driver.\n",
      "2024-05-17 12:44:48.591911: W tensorflow/compiler/mlir/tools/kernel_gen/transforms/gpu_kernel_to_blob_pass.cc:191] Failed to compile generated PTX with ptxas. Falling back to compilation by driver.\n",
      "2024-05-17 12:44:48.699959: W tensorflow/compiler/mlir/tools/kernel_gen/transforms/gpu_kernel_to_blob_pass.cc:191] Failed to compile generated PTX with ptxas. Falling back to compilation by driver.\n",
      "2024-05-17 12:44:48.700004: W tensorflow/compiler/mlir/tools/kernel_gen/transforms/gpu_kernel_to_blob_pass.cc:191] Failed to compile generated PTX with ptxas. Falling back to compilation by driver.\n",
      "2024-05-17 12:44:48.700020: W tensorflow/compiler/mlir/tools/kernel_gen/transforms/gpu_kernel_to_blob_pass.cc:191] Failed to compile generated PTX with ptxas. Falling back to compilation by driver.\n",
      "2024-05-17 12:44:48.700056: W tensorflow/compiler/mlir/tools/kernel_gen/transforms/gpu_kernel_to_blob_pass.cc:191] Failed to compile generated PTX with ptxas. Falling back to compilation by driver.\n",
      "2024-05-17 12:44:48.700591: W tensorflow/compiler/mlir/tools/kernel_gen/transforms/gpu_kernel_to_blob_pass.cc:191] Failed to compile generated PTX with ptxas. Falling back to compilation by driver.\n",
      "2024-05-17 12:44:48.702110: W tensorflow/compiler/mlir/tools/kernel_gen/transforms/gpu_kernel_to_blob_pass.cc:191] Failed to compile generated PTX with ptxas. Falling back to compilation by driver.\n",
      "2024-05-17 12:44:48.702193: W tensorflow/compiler/mlir/tools/kernel_gen/transforms/gpu_kernel_to_blob_pass.cc:191] Failed to compile generated PTX with ptxas. Falling back to compilation by driver.\n",
      "2024-05-17 12:44:48.702222: W tensorflow/compiler/mlir/tools/kernel_gen/transforms/gpu_kernel_to_blob_pass.cc:191] Failed to compile generated PTX with ptxas. Falling back to compilation by driver.\n",
      "2024-05-17 12:44:48.874322: W tensorflow/compiler/mlir/tools/kernel_gen/transforms/gpu_kernel_to_blob_pass.cc:191] Failed to compile generated PTX with ptxas. Falling back to compilation by driver.\n",
      "2024-05-17 12:44:48.960632: I external/local_xla/xla/service/service.cc:168] XLA service 0x7f3754ecf900 initialized for platform CUDA (this does not guarantee that XLA will be used). Devices:\n",
      "2024-05-17 12:44:48.960667: I external/local_xla/xla/service/service.cc:176]   StreamExecutor device (0): NVIDIA H100 80GB HBM3 MIG 1g.10gb, Compute Capability 9.0\n",
      "WARNING: All log messages before absl::InitializeLog() is called are written to STDERR\n",
      "I0000 00:00:1715949889.024835    1068 device_compiler.h:186] Compiled cluster using XLA!  This line is logged at most once for the lifetime of the process.\n",
      "2024-05-17 12:44:49.179393: W tensorflow/compiler/mlir/tools/kernel_gen/transforms/gpu_kernel_to_blob_pass.cc:191] Failed to compile generated PTX with ptxas. Falling back to compilation by driver.\n"
     ]
    },
    {
     "name": "stdout",
     "output_type": "stream",
     "text": [
      "782/782 [==============================] - 24s 24ms/step - loss: 1.7779 - accuracy: 0.4009 - val_loss: 1.9340 - val_accuracy: 0.3633\n",
      "Epoch 2/100\n",
      "782/782 [==============================] - 16s 21ms/step - loss: 1.3025 - accuracy: 0.5335 - val_loss: 1.6750 - val_accuracy: 0.4474\n",
      "Epoch 3/100\n",
      "782/782 [==============================] - 17s 21ms/step - loss: 1.1485 - accuracy: 0.5780 - val_loss: 1.3994 - val_accuracy: 0.4905\n",
      "Epoch 4/100\n",
      "782/782 [==============================] - 16s 20ms/step - loss: 1.0591 - accuracy: 0.6008 - val_loss: 1.0824 - val_accuracy: 0.5118\n",
      "Epoch 5/100\n",
      "782/782 [==============================] - 16s 20ms/step - loss: 1.0118 - accuracy: 0.6150 - val_loss: 1.1303 - val_accuracy: 0.5660\n",
      "Epoch 6/100\n",
      "782/782 [==============================] - 16s 20ms/step - loss: 0.9675 - accuracy: 0.6260 - val_loss: 1.1300 - val_accuracy: 0.5092\n",
      "Epoch 7/100\n",
      "782/782 [==============================] - 16s 20ms/step - loss: 0.9384 - accuracy: 0.6346 - val_loss: 0.9658 - val_accuracy: 0.5793\n",
      "Epoch 8/100\n",
      "782/782 [==============================] - 16s 20ms/step - loss: 0.9150 - accuracy: 0.6399 - val_loss: 1.0195 - val_accuracy: 0.6068\n",
      "Epoch 9/100\n",
      "782/782 [==============================] - 16s 20ms/step - loss: 0.8984 - accuracy: 0.6468 - val_loss: 1.0171 - val_accuracy: 0.5067\n",
      "Epoch 10/100\n",
      "782/782 [==============================] - 17s 22ms/step - loss: 0.8765 - accuracy: 0.6478 - val_loss: 1.0058 - val_accuracy: 0.5356\n",
      "Epoch 11/100\n",
      "782/782 [==============================] - 17s 22ms/step - loss: 0.8565 - accuracy: 0.6569 - val_loss: 1.0637 - val_accuracy: 0.5615\n",
      "Epoch 12/100\n",
      "782/782 [==============================] - 17s 21ms/step - loss: 0.8424 - accuracy: 0.6573 - val_loss: 0.9741 - val_accuracy: 0.5200\n",
      "Epoch 13/100\n",
      "782/782 [==============================] - 17s 22ms/step - loss: 0.8333 - accuracy: 0.6596 - val_loss: 0.9407 - val_accuracy: 0.5784\n",
      "Epoch 14/100\n",
      "782/782 [==============================] - 17s 21ms/step - loss: 0.8160 - accuracy: 0.6664 - val_loss: 0.8713 - val_accuracy: 0.5716\n",
      "Epoch 15/100\n",
      "782/782 [==============================] - 17s 22ms/step - loss: 0.8091 - accuracy: 0.6668 - val_loss: 0.8880 - val_accuracy: 0.5914\n",
      "Epoch 16/100\n",
      "782/782 [==============================] - 17s 22ms/step - loss: 0.8035 - accuracy: 0.6658 - val_loss: 0.9294 - val_accuracy: 0.5737\n",
      "Epoch 17/100\n",
      "782/782 [==============================] - 18s 23ms/step - loss: 0.7860 - accuracy: 0.6744 - val_loss: 0.9943 - val_accuracy: 0.5248\n",
      "Epoch 18/100\n",
      "782/782 [==============================] - 17s 22ms/step - loss: 0.7758 - accuracy: 0.6733 - val_loss: 0.9529 - val_accuracy: 0.5786\n",
      "Epoch 19/100\n",
      "782/782 [==============================] - 17s 21ms/step - loss: 0.7704 - accuracy: 0.6788 - val_loss: 1.0498 - val_accuracy: 0.5060\n",
      "Epoch 20/100\n",
      "782/782 [==============================] - 17s 22ms/step - loss: 0.7586 - accuracy: 0.6792 - val_loss: 0.8865 - val_accuracy: 0.5820\n",
      "Epoch 21/100\n",
      "782/782 [==============================] - 17s 21ms/step - loss: 0.7553 - accuracy: 0.6816 - val_loss: 0.8472 - val_accuracy: 0.5296\n",
      "Epoch 22/100\n",
      "782/782 [==============================] - 17s 22ms/step - loss: 0.7439 - accuracy: 0.6820 - val_loss: 0.8238 - val_accuracy: 0.5602\n",
      "Epoch 23/100\n",
      "782/782 [==============================] - 17s 21ms/step - loss: 0.7441 - accuracy: 0.6829 - val_loss: 0.7875 - val_accuracy: 0.5379\n",
      "Epoch 24/100\n",
      "782/782 [==============================] - 17s 21ms/step - loss: 0.7353 - accuracy: 0.6848 - val_loss: 0.8888 - val_accuracy: 0.5414\n",
      "Epoch 25/100\n",
      "782/782 [==============================] - 17s 21ms/step - loss: 0.7300 - accuracy: 0.6855 - val_loss: 0.7627 - val_accuracy: 0.6079\n",
      "Epoch 26/100\n",
      "782/782 [==============================] - 17s 21ms/step - loss: 0.7218 - accuracy: 0.6873 - val_loss: 0.8719 - val_accuracy: 0.5191\n",
      "Epoch 27/100\n",
      "782/782 [==============================] - 17s 21ms/step - loss: 0.7148 - accuracy: 0.6911 - val_loss: 0.8750 - val_accuracy: 0.6034\n",
      "Epoch 28/100\n",
      "782/782 [==============================] - 16s 21ms/step - loss: 0.7099 - accuracy: 0.6901 - val_loss: 0.7824 - val_accuracy: 0.5243\n",
      "Epoch 29/100\n",
      "782/782 [==============================] - 17s 21ms/step - loss: 0.7024 - accuracy: 0.6944 - val_loss: 0.8463 - val_accuracy: 0.5211\n",
      "Epoch 30/100\n",
      "782/782 [==============================] - 17s 22ms/step - loss: 0.6988 - accuracy: 0.6946 - val_loss: 0.8276 - val_accuracy: 0.5535\n",
      "Epoch 31/100\n",
      "782/782 [==============================] - 17s 22ms/step - loss: 0.6914 - accuracy: 0.6951 - val_loss: 0.7898 - val_accuracy: 0.5333\n",
      "Epoch 32/100\n",
      "782/782 [==============================] - 16s 21ms/step - loss: 0.6848 - accuracy: 0.6975 - val_loss: 0.7974 - val_accuracy: 0.5490\n",
      "Epoch 33/100\n",
      "782/782 [==============================] - 16s 20ms/step - loss: 0.6798 - accuracy: 0.7024 - val_loss: 0.7746 - val_accuracy: 0.5677\n",
      "Epoch 34/100\n",
      "782/782 [==============================] - 16s 21ms/step - loss: 0.6777 - accuracy: 0.7005 - val_loss: 0.7334 - val_accuracy: 0.6705\n",
      "Epoch 35/100\n",
      "782/782 [==============================] - 16s 20ms/step - loss: 0.6704 - accuracy: 0.6995 - val_loss: 0.7867 - val_accuracy: 0.5915\n",
      "Epoch 36/100\n",
      "782/782 [==============================] - 16s 21ms/step - loss: 0.6640 - accuracy: 0.7034 - val_loss: 0.7827 - val_accuracy: 0.5360\n",
      "Epoch 37/100\n",
      "782/782 [==============================] - 17s 21ms/step - loss: 0.6599 - accuracy: 0.7057 - val_loss: 0.8289 - val_accuracy: 0.5773\n",
      "Epoch 38/100\n",
      "782/782 [==============================] - 16s 21ms/step - loss: 0.6604 - accuracy: 0.7048 - val_loss: 0.7917 - val_accuracy: 0.5477\n",
      "Epoch 39/100\n",
      "782/782 [==============================] - 16s 21ms/step - loss: 0.6543 - accuracy: 0.7054 - val_loss: 0.7332 - val_accuracy: 0.5922\n",
      "Epoch 40/100\n",
      "782/782 [==============================] - 16s 21ms/step - loss: 0.6470 - accuracy: 0.7080 - val_loss: 0.7611 - val_accuracy: 0.5994\n",
      "Epoch 41/100\n",
      "782/782 [==============================] - 16s 21ms/step - loss: 0.6441 - accuracy: 0.7110 - val_loss: 0.8028 - val_accuracy: 0.5277\n",
      "Epoch 42/100\n",
      "782/782 [==============================] - 17s 21ms/step - loss: 0.6395 - accuracy: 0.7113 - val_loss: 0.7223 - val_accuracy: 0.5935\n",
      "Epoch 43/100\n",
      "782/782 [==============================] - 17s 21ms/step - loss: 0.6341 - accuracy: 0.7123 - val_loss: 0.7675 - val_accuracy: 0.5700\n",
      "Epoch 44/100\n",
      "782/782 [==============================] - 16s 21ms/step - loss: 0.6292 - accuracy: 0.7126 - val_loss: 0.7601 - val_accuracy: 0.5441\n",
      "Epoch 45/100\n",
      "782/782 [==============================] - 17s 22ms/step - loss: 0.6296 - accuracy: 0.7113 - val_loss: 0.8570 - val_accuracy: 0.5233\n",
      "Epoch 46/100\n",
      "782/782 [==============================] - 17s 22ms/step - loss: 0.6274 - accuracy: 0.7144 - val_loss: 0.7746 - val_accuracy: 0.5906\n",
      "Epoch 47/100\n",
      "782/782 [==============================] - 17s 21ms/step - loss: 0.6200 - accuracy: 0.7172 - val_loss: 0.7345 - val_accuracy: 0.6036\n",
      "Epoch 48/100\n",
      "782/782 [==============================] - 17s 21ms/step - loss: 0.6186 - accuracy: 0.7176 - val_loss: 0.7226 - val_accuracy: 0.6183\n",
      "Epoch 49/100\n",
      "782/782 [==============================] - 17s 21ms/step - loss: 0.6135 - accuracy: 0.7185 - val_loss: 0.7292 - val_accuracy: 0.6108\n",
      "Epoch 50/100\n",
      "782/782 [==============================] - 15s 19ms/step - loss: 0.6118 - accuracy: 0.7182 - val_loss: 0.7362 - val_accuracy: 0.6017\n",
      "Epoch 51/100\n",
      "782/782 [==============================] - 17s 21ms/step - loss: 0.6105 - accuracy: 0.7199 - val_loss: 0.7680 - val_accuracy: 0.5207\n",
      "Epoch 52/100\n",
      "782/782 [==============================] - 17s 21ms/step - loss: 0.5984 - accuracy: 0.7226 - val_loss: 0.7446 - val_accuracy: 0.5219\n",
      "Epoch 53/100\n",
      "782/782 [==============================] - 16s 20ms/step - loss: 0.5995 - accuracy: 0.7225 - val_loss: 0.7245 - val_accuracy: 0.5532\n",
      "Epoch 54/100\n",
      "782/782 [==============================] - 17s 21ms/step - loss: 0.5962 - accuracy: 0.7238 - val_loss: 0.7087 - val_accuracy: 0.6466\n",
      "Epoch 55/100\n",
      "782/782 [==============================] - 17s 21ms/step - loss: 0.5921 - accuracy: 0.7234 - val_loss: 0.7258 - val_accuracy: 0.5371\n",
      "Epoch 56/100\n",
      "782/782 [==============================] - 17s 22ms/step - loss: 0.5949 - accuracy: 0.7219 - val_loss: 0.7742 - val_accuracy: 0.5160\n",
      "Epoch 57/100\n",
      "782/782 [==============================] - 17s 21ms/step - loss: 0.5861 - accuracy: 0.7254 - val_loss: 0.7578 - val_accuracy: 0.5215\n",
      "Epoch 58/100\n",
      "782/782 [==============================] - 17s 21ms/step - loss: 0.5854 - accuracy: 0.7261 - val_loss: 0.7179 - val_accuracy: 0.5357\n",
      "Epoch 59/100\n",
      "782/782 [==============================] - 16s 21ms/step - loss: 0.5772 - accuracy: 0.7298 - val_loss: 0.7488 - val_accuracy: 0.5200\n",
      "Epoch 60/100\n",
      "782/782 [==============================] - 17s 21ms/step - loss: 0.5775 - accuracy: 0.7300 - val_loss: 0.7232 - val_accuracy: 0.5534\n",
      "Epoch 61/100\n",
      "782/782 [==============================] - 16s 21ms/step - loss: 0.5807 - accuracy: 0.7304 - val_loss: 0.7460 - val_accuracy: 0.5206\n",
      "Epoch 62/100\n",
      "782/782 [==============================] - 17s 21ms/step - loss: 0.5787 - accuracy: 0.7281 - val_loss: 0.7415 - val_accuracy: 0.5181\n",
      "Epoch 63/100\n",
      "782/782 [==============================] - 17s 21ms/step - loss: 0.5746 - accuracy: 0.7313 - val_loss: 0.7369 - val_accuracy: 0.5232\n",
      "Epoch 64/100\n",
      "782/782 [==============================] - 16s 21ms/step - loss: 0.5697 - accuracy: 0.7326 - val_loss: 0.7383 - val_accuracy: 0.5432\n",
      "Epoch 65/100\n",
      "782/782 [==============================] - 17s 21ms/step - loss: 0.5670 - accuracy: 0.7314 - val_loss: 0.7097 - val_accuracy: 0.5270\n",
      "Epoch 66/100\n",
      "782/782 [==============================] - 17s 21ms/step - loss: 0.5684 - accuracy: 0.7335 - val_loss: 0.6939 - val_accuracy: 0.5300\n",
      "Epoch 67/100\n",
      "782/782 [==============================] - 17s 21ms/step - loss: 0.5673 - accuracy: 0.7332 - val_loss: 0.7168 - val_accuracy: 0.5175\n",
      "Epoch 68/100\n",
      "782/782 [==============================] - 16s 21ms/step - loss: 0.5643 - accuracy: 0.7347 - val_loss: 0.7199 - val_accuracy: 0.5246\n",
      "Epoch 69/100\n",
      "782/782 [==============================] - 17s 21ms/step - loss: 0.5625 - accuracy: 0.7361 - val_loss: 0.7102 - val_accuracy: 0.5266\n",
      "Epoch 70/100\n",
      "782/782 [==============================] - 17s 21ms/step - loss: 0.5593 - accuracy: 0.7382 - val_loss: 0.7068 - val_accuracy: 0.5391\n",
      "Epoch 71/100\n",
      "782/782 [==============================] - 15s 20ms/step - loss: 0.5586 - accuracy: 0.7351 - val_loss: 0.7155 - val_accuracy: 0.5188\n",
      "Epoch 72/100\n",
      "782/782 [==============================] - 16s 21ms/step - loss: 0.5607 - accuracy: 0.7362 - val_loss: 0.7226 - val_accuracy: 0.5205\n",
      "Epoch 73/100\n",
      "782/782 [==============================] - 17s 21ms/step - loss: 0.5584 - accuracy: 0.7377 - val_loss: 0.7200 - val_accuracy: 0.5201\n",
      "Epoch 74/100\n",
      "782/782 [==============================] - 16s 21ms/step - loss: 0.5563 - accuracy: 0.7373 - val_loss: 0.7168 - val_accuracy: 0.5187\n",
      "Epoch 75/100\n",
      "782/782 [==============================] - 17s 22ms/step - loss: 0.5536 - accuracy: 0.7381 - val_loss: 0.7219 - val_accuracy: 0.5174\n",
      "Epoch 76/100\n",
      "782/782 [==============================] - 16s 20ms/step - loss: 0.5576 - accuracy: 0.7388 - val_loss: 0.7176 - val_accuracy: 0.5180\n",
      "Epoch 77/100\n",
      "782/782 [==============================] - 17s 22ms/step - loss: 0.5554 - accuracy: 0.7391 - val_loss: 0.7164 - val_accuracy: 0.5166\n",
      "Epoch 78/100\n",
      "782/782 [==============================] - 17s 21ms/step - loss: 0.5545 - accuracy: 0.7379 - val_loss: 0.7194 - val_accuracy: 0.5164\n",
      "Epoch 79/100\n",
      "782/782 [==============================] - 16s 21ms/step - loss: 0.5527 - accuracy: 0.7382 - val_loss: 0.7164 - val_accuracy: 0.5178\n",
      "Epoch 80/100\n",
      "782/782 [==============================] - 17s 21ms/step - loss: 0.5538 - accuracy: 0.7420 - val_loss: 0.7157 - val_accuracy: 0.5176\n",
      "Epoch 81/100\n",
      "782/782 [==============================] - 16s 21ms/step - loss: 0.5563 - accuracy: 0.7396 - val_loss: 0.7180 - val_accuracy: 0.5172\n",
      "Epoch 82/100\n",
      "782/782 [==============================] - 16s 21ms/step - loss: 0.5534 - accuracy: 0.7405 - val_loss: 0.7182 - val_accuracy: 0.5169\n",
      "Epoch 83/100\n",
      "782/782 [==============================] - 17s 21ms/step - loss: 0.5533 - accuracy: 0.7383 - val_loss: 0.7174 - val_accuracy: 0.5168\n",
      "Epoch 84/100\n",
      "782/782 [==============================] - 16s 21ms/step - loss: 0.5534 - accuracy: 0.7385 - val_loss: 0.7176 - val_accuracy: 0.5169\n",
      "Epoch 85/100\n",
      "782/782 [==============================] - 17s 21ms/step - loss: 0.5583 - accuracy: 0.7386 - val_loss: 0.7157 - val_accuracy: 0.5167\n",
      "Epoch 86/100\n",
      "782/782 [==============================] - 16s 21ms/step - loss: 0.5545 - accuracy: 0.7388 - val_loss: 0.7193 - val_accuracy: 0.5166\n",
      "Epoch 87/100\n",
      "782/782 [==============================] - 16s 20ms/step - loss: 0.5558 - accuracy: 0.7395 - val_loss: 0.7198 - val_accuracy: 0.5167\n",
      "Epoch 88/100\n",
      "782/782 [==============================] - 16s 21ms/step - loss: 0.5550 - accuracy: 0.7388 - val_loss: 0.7187 - val_accuracy: 0.5172\n",
      "Epoch 89/100\n",
      "782/782 [==============================] - 15s 20ms/step - loss: 0.5533 - accuracy: 0.7388 - val_loss: 0.7169 - val_accuracy: 0.5171\n",
      "Epoch 90/100\n",
      "782/782 [==============================] - 16s 21ms/step - loss: 0.5549 - accuracy: 0.7391 - val_loss: 0.7165 - val_accuracy: 0.5165\n",
      "Epoch 91/100\n",
      "782/782 [==============================] - 16s 20ms/step - loss: 0.5513 - accuracy: 0.7392 - val_loss: 0.7153 - val_accuracy: 0.5175\n",
      "Epoch 92/100\n",
      "782/782 [==============================] - 16s 20ms/step - loss: 0.5515 - accuracy: 0.7421 - val_loss: 0.7178 - val_accuracy: 0.5161\n",
      "Epoch 93/100\n",
      "782/782 [==============================] - 17s 22ms/step - loss: 0.5583 - accuracy: 0.7376 - val_loss: 0.7149 - val_accuracy: 0.5167\n",
      "Epoch 94/100\n",
      "782/782 [==============================] - 17s 22ms/step - loss: 0.5557 - accuracy: 0.7378 - val_loss: 0.7163 - val_accuracy: 0.5173\n",
      "Epoch 95/100\n",
      "782/782 [==============================] - 15s 19ms/step - loss: 0.5556 - accuracy: 0.7383 - val_loss: 0.7164 - val_accuracy: 0.5171\n",
      "Epoch 96/100\n",
      "782/782 [==============================] - 18s 23ms/step - loss: 0.5519 - accuracy: 0.7396 - val_loss: 0.7159 - val_accuracy: 0.5172\n",
      "Epoch 97/100\n",
      "782/782 [==============================] - 17s 22ms/step - loss: 0.5562 - accuracy: 0.7375 - val_loss: 0.7160 - val_accuracy: 0.5163\n",
      "Epoch 98/100\n",
      "782/782 [==============================] - 17s 21ms/step - loss: 0.5565 - accuracy: 0.7397 - val_loss: 0.7184 - val_accuracy: 0.5170\n",
      "Epoch 99/100\n",
      "782/782 [==============================] - 17s 21ms/step - loss: 0.5508 - accuracy: 0.7392 - val_loss: 0.7160 - val_accuracy: 0.5166\n",
      "Epoch 100/100\n",
      "782/782 [==============================] - 16s 21ms/step - loss: 0.5581 - accuracy: 0.7371 - val_loss: 0.7190 - val_accuracy: 0.5172\n"
     ]
    }
   ],
   "source": [
    "model = dropout_model()\n",
    "results = train(model, trainX, trainY, testX, testY)"
   ]
  },
  {
   "cell_type": "code",
   "execution_count": 8,
   "metadata": {
    "colab": {
     "base_uri": "https://localhost:8080/",
     "height": 904
    },
    "executionInfo": {
     "elapsed": 2168,
     "status": "ok",
     "timestamp": 1715793363574,
     "user": {
      "displayName": "Jonatan Hyberg",
      "userId": "02103785444766429018"
     },
     "user_tz": -120
    },
    "id": "yNdQN-nnCTUk",
    "outputId": "fc0a0793-fbbc-436a-b9b3-5941ca4db1ca"
   },
   "outputs": [
    {
     "data": {
      "image/png": "[encoded data removed]",
      "text/plain": [
       "<Figure size 640x480 with 1 Axes>"
      ]
     },
     "metadata": {},
     "output_type": "display_data"
    },
    {
     "data": {
      "image/png": "[encoded data removed]",
      "text/plain": [
       "<Figure size 640x480 with 1 Axes>"
      ]
     },
     "metadata": {},
     "output_type": "display_data"
    },
    {
     "name": "stdout",
     "output_type": "stream",
     "text": [
      "The model achieved a final accuracy of 51.72%\n"
     ]
    }
   ],
   "source": [
    "plot_results(results.history)\n",
    "evaluate(model, testX, testY)"
   ]
  },
  {
   "cell_type": "code",
   "execution_count": 9,
   "metadata": {
    "executionInfo": {
     "elapsed": 301,
     "status": "ok",
     "timestamp": 1715793629457,
     "user": {
      "displayName": "Jonatan Hyberg",
      "userId": "02103785444766429018"
     },
     "user_tz": -120
    },
    "id": "VmsurzVECTUk"
   },
   "outputs": [],
   "source": [
    "save_model('noisy_model_60_sym', model)\n",
    "save_history('noisy_model_60_sym', results.history)"
   ]
  }
 ],
 "metadata": {
  "accelerator": "GPU",
  "colab": {
   "gpuType": "T4",
   "provenance": [
    {
     "file_id": "1irCtCvrPih104WASUJu-j-MZJMXLKCEy",
     "timestamp": 1715782757909
    }
   ]
  },
  "kernelspec": {
   "display_name": "Python 3 (ipykernel)",
   "language": "python",
   "name": "python3"
  },
  "language_info": {
   "codemirror_mode": {
    "name": "ipython",
    "version": 3
   },
   "file_extension": ".py",
   "mimetype": "text/x-python",
   "name": "python",
   "nbconvert_exporter": "python",
   "pygments_lexer": "ipython3",
   "version": "3.10.13"
  }
 },
 "nbformat": 4,
 "nbformat_minor": 4
}
