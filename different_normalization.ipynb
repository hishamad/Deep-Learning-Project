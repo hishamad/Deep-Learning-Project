{
 "cells": [
  {
   "cell_type": "code",
   "execution_count": 32,
   "metadata": {
    "id": "kyqOgTWzCTUX"
   },
   "outputs": [],
   "source": [
    "import sys\n",
    "import tensorflow as tf\n",
    "import matplotlib.pyplot as plt\n",
    "from tensorflow.keras.datasets import cifar10\n",
    "from tensorflow.keras.layers import Conv2D\n",
    "from tensorflow.keras.layers import MaxPooling2D\n",
    "from tensorflow.keras.layers import Dense\n",
    "from tensorflow.keras.layers import Flatten\n",
    "from tensorflow.keras.utils import to_categorical\n",
    "from tensorflow.keras.models import Sequential\n",
    "from tensorflow.keras.optimizers import SGD\n",
    "from keras.layers import Dropout\n",
    "from tensorflow.keras.preprocessing.image import ImageDataGenerator\n",
    "from keras.layers import BatchNormalization\n",
    "import pickle\n",
    "from keras.regularizers import l2\n",
    "from  scipy import ndimage"
   ]
  },
  {
   "cell_type": "markdown",
   "metadata": {
    "id": "y67Ec5FICTUd"
   },
   "source": [
    "#### Dataset\n"
   ]
  },
  {
   "cell_type": "markdown",
   "metadata": {
    "id": "CYNU45pfCTUf"
   },
   "source": [
    "Load dataset + One-hot encoding + Normalization"
   ]
  },
  {
   "cell_type": "code",
   "execution_count": 33,
   "metadata": {
    "id": "o8BGn2ZOCTUg"
   },
   "outputs": [],
   "source": [
    "def load_dataset():\n",
    "    (trainX, trainY), (testX, testY) = cifar10.load_data()\n",
    "    # One-hot encoding\n",
    "    trainY = to_categorical(trainY)\n",
    "    testY = to_categorical(testY)\n",
    "    # Normalize to [0,1]\n",
    "    trainX = trainX.astype('float32') / 255.0\n",
    "    testX = testX.astype('float32') / 255.0\n",
    "\n",
    "    train_mean = trainX.mean((0,1,2))\n",
    "    train_std = trainX.std((0,1,2))\n",
    "\n",
    "    trainX = (trainX - train_mean) / train_std\n",
    "\n",
    "    test_mean = testX.mean((0,1,2))\n",
    "    test_std = testX.std((0,1,2))\n",
    "\n",
    "    testX = (testX - test_mean) / test_std\n",
    "    return trainX, trainY, testX, testY"
   ]
  },
  {
   "cell_type": "markdown",
   "metadata": {
    "id": "-eHdUCx4CTUg"
   },
   "source": [
    "#### Model"
   ]
  },
  {
   "cell_type": "markdown",
   "metadata": {
    "id": "_ZUdh8aqCTUh"
   },
   "source": [
    "Imortant functions"
   ]
  },
  {
   "cell_type": "code",
   "execution_count": 34,
   "metadata": {
    "id": "BGpONL8FCTUh"
   },
   "outputs": [],
   "source": [
    "def train(model, trainX, trainY, testX, testY):\n",
    "\tgenerator = ImageDataGenerator(width_shift_range=0.1, height_shift_range=0.1, horizontal_flip=True)\n",
    "\n",
    "\ttrain_data = generator.flow(trainX, trainY, batch_size=64)\n",
    "\n",
    "\tresults = model.fit(train_data, epochs=100, validation_data=(testX, testY), verbose=1)\n",
    "\n",
    "\treturn results\n",
    "\n",
    "def evaluate(model, testX, testY):\n",
    "    _, acc = model.evaluate(testX, testY, verbose=0)\n",
    "\n",
    "    print(f\"The model achieved a final accuracy of {acc*100:.2f}%\")\n",
    "\n",
    "def plot_results(history):\n",
    "\tplt.title('Cross Entropy Loss')\n",
    "\tplt.plot(history['loss'], color='blue', label='Training loss')\n",
    "\tplt.plot(history['val_loss'], color='orange', label='Validation/test loss')\n",
    "\tplt.legend()\n",
    "\tplt.show()\n",
    "\n",
    "\tplt.title('Classification Accuracy')\n",
    "\tplt.plot(history['accuracy'], color='blue', label='Training accuracy')\n",
    "\tplt.plot(history['val_accuracy'], color='orange', label='Validation/test accuracy')\n",
    "\tplt.legend()\n",
    "\tplt.show()"
   ]
  },
  {
   "cell_type": "code",
   "execution_count": 35,
   "metadata": {
    "id": "Ls19xeC0CTUi"
   },
   "outputs": [],
   "source": [
    "def save_model(filename, model):\n",
    "    filename = './models/' + filename\n",
    "    pickle.dump(model, open(filename, 'wb'))\n",
    "\n",
    "def save_history(filename, history):\n",
    "    filename = './history/' + filename\n",
    "    pickle.dump(history, open(filename, 'wb'))\n",
    "\n",
    "def load_model(filename):\n",
    "    filename = './models/' + filename\n",
    "    model = pickle.load(open(filename, 'rb'))\n",
    "    return model\n",
    "\n",
    "def load_history(filename):\n",
    "    filename = './history/' + filename\n",
    "    history = pickle.load(open(filename, 'rb'))\n",
    "    return history"
   ]
  },
  {
   "cell_type": "markdown",
   "metadata": {
    "id": "fXqNA_VcCTUj"
   },
   "source": [
    "Baseline model"
   ]
  },
  {
   "cell_type": "code",
   "execution_count": 36,
   "metadata": {
    "id": "C9xaw4BBCTUj"
   },
   "outputs": [],
   "source": [
    "def dropout_model():\n",
    "    # Create architecture\n",
    "    model = Sequential()\n",
    "    model.add(Conv2D(32, (3, 3), activation='relu', kernel_initializer='he_uniform', padding='same', input_shape=(32, 32, 3)))\n",
    "    model.add(BatchNormalization())\n",
    "    model.add(Conv2D(32, (3, 3), activation='relu', kernel_initializer='he_uniform', padding='same'))\n",
    "    model.add(BatchNormalization())\n",
    "    model.add(MaxPooling2D((2, 2)))\n",
    "    model.add(Dropout(0.2))\n",
    "    model.add(Conv2D(64, (3, 3), activation='relu', kernel_initializer='he_uniform', padding='same'))\n",
    "    model.add(BatchNormalization())\n",
    "    model.add(Conv2D(64, (3, 3), activation='relu', kernel_initializer='he_uniform', padding='same'))\n",
    "    model.add(BatchNormalization())\n",
    "    model.add(MaxPooling2D((2, 2)))\n",
    "    model.add(Dropout(0.3))\n",
    "    model.add(Conv2D(128, (3, 3), activation='relu', kernel_initializer='he_uniform', padding='same'))\n",
    "    model.add(BatchNormalization())\n",
    "    model.add(Conv2D(128, (3, 3), activation='relu', kernel_initializer='he_uniform', padding='same'))\n",
    "    model.add(BatchNormalization())\n",
    "    model.add(MaxPooling2D((2, 2)))\n",
    "    model.add(Dropout(0.4))\n",
    "    model.add(Flatten())\n",
    "    model.add(Dense(128, activation='relu', kernel_initializer='he_uniform'))\n",
    "    model.add(BatchNormalization())\n",
    "    model.add(Dropout(0.5))\n",
    "    model.add(Dense(10, activation='softmax'))\n",
    "\n",
    "    # Optimization method\n",
    "    opt = SGD(learning_rate=0.01, momentum=0.9)\n",
    "\n",
    "    # Compile model and choose loss type\n",
    "    model.compile(optimizer=opt, loss='categorical_crossentropy', metrics=['accuracy'])\n",
    "    return model"
   ]
  },
  {
   "cell_type": "code",
   "execution_count": 37,
   "metadata": {
    "colab": {
     "base_uri": "https://localhost:8080/"
    },
    "id": "q_FZ9SNHCTUj",
    "outputId": "e48105f0-49f7-4149-ba1f-36fee2b59663"
   },
   "outputs": [],
   "source": [
    "trainX, trainY, testX, testY = load_dataset()"
   ]
  },
  {
   "cell_type": "code",
   "execution_count": 38,
   "metadata": {
    "colab": {
     "base_uri": "https://localhost:8080/"
    },
    "id": "5aSe_cO4CTUk",
    "outputId": "ee9d462b-48c9-4fb4-800f-465a199e3b2b"
   },
   "outputs": [
    {
     "name": "stdout",
     "output_type": "stream",
     "text": [
      "Epoch 1/100\n"
     ]
    },
    {
     "name": "stderr",
     "output_type": "stream",
     "text": [
      "2024-05-15 13:57:21.822238: E tensorflow/core/grappler/optimizers/meta_optimizer.cc:961] layout failed: INVALID_ARGUMENT: Size of values 0 does not match size of permutation 4 @ fanin shape insequential_1/dropout_4/dropout/SelectV2-2-TransposeNHWCToNCHW-LayoutOptimizer\n"
     ]
    },
    {
     "name": "stdout",
     "output_type": "stream",
     "text": [
      "782/782 [==============================] - 17s 19ms/step - loss: 1.6884 - accuracy: 0.3943 - val_loss: 1.2918 - val_accuracy: 0.5252\n",
      "Epoch 2/100\n",
      "782/782 [==============================] - 13s 17ms/step - loss: 1.3386 - accuracy: 0.5162 - val_loss: 1.1648 - val_accuracy: 0.5877\n",
      "Epoch 3/100\n",
      "782/782 [==============================] - 13s 17ms/step - loss: 1.1610 - accuracy: 0.5844 - val_loss: 1.0068 - val_accuracy: 0.6475\n",
      "Epoch 4/100\n",
      "782/782 [==============================] - 14s 17ms/step - loss: 1.0485 - accuracy: 0.6269 - val_loss: 0.8328 - val_accuracy: 0.7041\n",
      "Epoch 5/100\n",
      "782/782 [==============================] - 14s 17ms/step - loss: 0.9730 - accuracy: 0.6575 - val_loss: 0.8217 - val_accuracy: 0.7084\n",
      "Epoch 6/100\n",
      "782/782 [==============================] - 13s 17ms/step - loss: 0.9136 - accuracy: 0.6803 - val_loss: 0.7973 - val_accuracy: 0.7219\n",
      "Epoch 7/100\n",
      "782/782 [==============================] - 13s 17ms/step - loss: 0.8631 - accuracy: 0.6985 - val_loss: 0.7077 - val_accuracy: 0.7442\n",
      "Epoch 8/100\n",
      "782/782 [==============================] - 13s 17ms/step - loss: 0.8233 - accuracy: 0.7114 - val_loss: 0.7206 - val_accuracy: 0.7483\n",
      "Epoch 9/100\n",
      "782/782 [==============================] - 13s 17ms/step - loss: 0.7827 - accuracy: 0.7291 - val_loss: 0.6805 - val_accuracy: 0.7643\n",
      "Epoch 10/100\n",
      "782/782 [==============================] - 13s 17ms/step - loss: 0.7543 - accuracy: 0.7397 - val_loss: 0.6623 - val_accuracy: 0.7739\n",
      "Epoch 11/100\n",
      "782/782 [==============================] - 13s 17ms/step - loss: 0.7311 - accuracy: 0.7471 - val_loss: 0.6552 - val_accuracy: 0.7707\n",
      "Epoch 12/100\n",
      "782/782 [==============================] - 13s 17ms/step - loss: 0.7120 - accuracy: 0.7559 - val_loss: 0.6528 - val_accuracy: 0.7748\n",
      "Epoch 13/100\n",
      "782/782 [==============================] - 14s 18ms/step - loss: 0.6879 - accuracy: 0.7646 - val_loss: 0.6151 - val_accuracy: 0.7840\n",
      "Epoch 14/100\n",
      "782/782 [==============================] - 13s 17ms/step - loss: 0.6653 - accuracy: 0.7715 - val_loss: 0.5956 - val_accuracy: 0.7938\n",
      "Epoch 15/100\n",
      "782/782 [==============================] - 13s 17ms/step - loss: 0.6537 - accuracy: 0.7750 - val_loss: 0.6206 - val_accuracy: 0.7896\n",
      "Epoch 16/100\n",
      "782/782 [==============================] - 13s 17ms/step - loss: 0.6365 - accuracy: 0.7810 - val_loss: 0.5671 - val_accuracy: 0.8050\n",
      "Epoch 17/100\n",
      "782/782 [==============================] - 13s 17ms/step - loss: 0.6285 - accuracy: 0.7849 - val_loss: 0.5176 - val_accuracy: 0.8254\n",
      "Epoch 18/100\n",
      "782/782 [==============================] - 14s 17ms/step - loss: 0.6098 - accuracy: 0.7916 - val_loss: 0.5679 - val_accuracy: 0.8102\n",
      "Epoch 19/100\n",
      "782/782 [==============================] - 13s 17ms/step - loss: 0.6005 - accuracy: 0.7957 - val_loss: 0.4971 - val_accuracy: 0.8294\n",
      "Epoch 20/100\n",
      "782/782 [==============================] - 14s 17ms/step - loss: 0.5855 - accuracy: 0.8001 - val_loss: 0.4992 - val_accuracy: 0.8305\n",
      "Epoch 21/100\n",
      "782/782 [==============================] - 14s 17ms/step - loss: 0.5821 - accuracy: 0.8018 - val_loss: 0.5391 - val_accuracy: 0.8180\n",
      "Epoch 22/100\n",
      "782/782 [==============================] - 13s 17ms/step - loss: 0.5652 - accuracy: 0.8081 - val_loss: 0.5164 - val_accuracy: 0.8247\n",
      "Epoch 23/100\n",
      "782/782 [==============================] - 13s 17ms/step - loss: 0.5594 - accuracy: 0.8100 - val_loss: 0.4756 - val_accuracy: 0.8381\n",
      "Epoch 24/100\n",
      "782/782 [==============================] - 13s 17ms/step - loss: 0.5493 - accuracy: 0.8134 - val_loss: 0.5094 - val_accuracy: 0.8269\n",
      "Epoch 25/100\n",
      "782/782 [==============================] - 13s 17ms/step - loss: 0.5378 - accuracy: 0.8154 - val_loss: 0.5053 - val_accuracy: 0.8338\n",
      "Epoch 26/100\n",
      "782/782 [==============================] - 13s 17ms/step - loss: 0.5344 - accuracy: 0.8171 - val_loss: 0.4485 - val_accuracy: 0.8482\n",
      "Epoch 27/100\n",
      "782/782 [==============================] - 14s 17ms/step - loss: 0.5274 - accuracy: 0.8186 - val_loss: 0.4712 - val_accuracy: 0.8407\n",
      "Epoch 28/100\n",
      "782/782 [==============================] - 13s 17ms/step - loss: 0.5196 - accuracy: 0.8239 - val_loss: 0.4539 - val_accuracy: 0.8450\n",
      "Epoch 29/100\n",
      "782/782 [==============================] - 14s 17ms/step - loss: 0.5095 - accuracy: 0.8264 - val_loss: 0.4587 - val_accuracy: 0.8451\n",
      "Epoch 30/100\n",
      "782/782 [==============================] - 14s 17ms/step - loss: 0.5062 - accuracy: 0.8277 - val_loss: 0.4479 - val_accuracy: 0.8492\n",
      "Epoch 31/100\n",
      "782/782 [==============================] - 14s 17ms/step - loss: 0.4958 - accuracy: 0.8317 - val_loss: 0.4676 - val_accuracy: 0.8442\n",
      "Epoch 32/100\n",
      "782/782 [==============================] - 13s 17ms/step - loss: 0.4976 - accuracy: 0.8300 - val_loss: 0.4285 - val_accuracy: 0.8533\n",
      "Epoch 33/100\n",
      "782/782 [==============================] - 14s 17ms/step - loss: 0.4905 - accuracy: 0.8330 - val_loss: 0.4406 - val_accuracy: 0.8510\n",
      "Epoch 34/100\n",
      "782/782 [==============================] - 13s 17ms/step - loss: 0.4809 - accuracy: 0.8355 - val_loss: 0.4258 - val_accuracy: 0.8549\n",
      "Epoch 35/100\n",
      "782/782 [==============================] - 14s 17ms/step - loss: 0.4759 - accuracy: 0.8390 - val_loss: 0.4375 - val_accuracy: 0.8514\n",
      "Epoch 36/100\n",
      "782/782 [==============================] - 14s 17ms/step - loss: 0.4754 - accuracy: 0.8395 - val_loss: 0.4495 - val_accuracy: 0.8483\n",
      "Epoch 37/100\n",
      "782/782 [==============================] - 13s 17ms/step - loss: 0.4658 - accuracy: 0.8402 - val_loss: 0.4329 - val_accuracy: 0.8533\n",
      "Epoch 38/100\n",
      "782/782 [==============================] - 13s 17ms/step - loss: 0.4601 - accuracy: 0.8417 - val_loss: 0.4301 - val_accuracy: 0.8551\n",
      "Epoch 39/100\n",
      "782/782 [==============================] - 13s 17ms/step - loss: 0.4618 - accuracy: 0.8407 - val_loss: 0.4311 - val_accuracy: 0.8554\n",
      "Epoch 40/100\n",
      "782/782 [==============================] - 13s 17ms/step - loss: 0.4574 - accuracy: 0.8446 - val_loss: 0.4091 - val_accuracy: 0.8641\n",
      "Epoch 41/100\n",
      "782/782 [==============================] - 13s 17ms/step - loss: 0.4460 - accuracy: 0.8477 - val_loss: 0.4274 - val_accuracy: 0.8584\n",
      "Epoch 42/100\n",
      "782/782 [==============================] - 13s 17ms/step - loss: 0.4442 - accuracy: 0.8489 - val_loss: 0.4314 - val_accuracy: 0.8551\n",
      "Epoch 43/100\n",
      "782/782 [==============================] - 13s 17ms/step - loss: 0.4468 - accuracy: 0.8474 - val_loss: 0.3953 - val_accuracy: 0.8670\n",
      "Epoch 44/100\n",
      "782/782 [==============================] - 13s 17ms/step - loss: 0.4426 - accuracy: 0.8498 - val_loss: 0.4116 - val_accuracy: 0.8638\n",
      "Epoch 45/100\n",
      "782/782 [==============================] - 13s 17ms/step - loss: 0.4408 - accuracy: 0.8490 - val_loss: 0.3983 - val_accuracy: 0.8656\n",
      "Epoch 46/100\n",
      "782/782 [==============================] - 13s 17ms/step - loss: 0.4366 - accuracy: 0.8518 - val_loss: 0.3919 - val_accuracy: 0.8701\n",
      "Epoch 47/100\n",
      "782/782 [==============================] - 13s 17ms/step - loss: 0.4290 - accuracy: 0.8545 - val_loss: 0.4112 - val_accuracy: 0.8647\n",
      "Epoch 48/100\n",
      "782/782 [==============================] - 14s 17ms/step - loss: 0.4254 - accuracy: 0.8550 - val_loss: 0.4077 - val_accuracy: 0.8632\n",
      "Epoch 49/100\n",
      "782/782 [==============================] - 13s 17ms/step - loss: 0.4288 - accuracy: 0.8543 - val_loss: 0.3887 - val_accuracy: 0.8685\n",
      "Epoch 50/100\n",
      "782/782 [==============================] - 13s 17ms/step - loss: 0.4229 - accuracy: 0.8543 - val_loss: 0.3797 - val_accuracy: 0.8716\n",
      "Epoch 51/100\n",
      "782/782 [==============================] - 13s 17ms/step - loss: 0.4168 - accuracy: 0.8600 - val_loss: 0.3880 - val_accuracy: 0.8704\n",
      "Epoch 52/100\n",
      "782/782 [==============================] - 13s 17ms/step - loss: 0.4201 - accuracy: 0.8581 - val_loss: 0.3944 - val_accuracy: 0.8678\n",
      "Epoch 53/100\n",
      "782/782 [==============================] - 13s 17ms/step - loss: 0.4148 - accuracy: 0.8585 - val_loss: 0.3762 - val_accuracy: 0.8739\n",
      "Epoch 54/100\n",
      "782/782 [==============================] - 13s 17ms/step - loss: 0.4068 - accuracy: 0.8623 - val_loss: 0.3948 - val_accuracy: 0.8662\n",
      "Epoch 55/100\n",
      "782/782 [==============================] - 14s 17ms/step - loss: 0.4075 - accuracy: 0.8598 - val_loss: 0.3925 - val_accuracy: 0.8691\n",
      "Epoch 56/100\n",
      "782/782 [==============================] - 14s 17ms/step - loss: 0.4089 - accuracy: 0.8630 - val_loss: 0.3649 - val_accuracy: 0.8808\n",
      "Epoch 57/100\n",
      "782/782 [==============================] - 14s 17ms/step - loss: 0.4073 - accuracy: 0.8625 - val_loss: 0.3766 - val_accuracy: 0.8749\n",
      "Epoch 58/100\n",
      "782/782 [==============================] - 14s 17ms/step - loss: 0.4047 - accuracy: 0.8621 - val_loss: 0.3602 - val_accuracy: 0.8801\n",
      "Epoch 59/100\n",
      "782/782 [==============================] - 14s 17ms/step - loss: 0.3978 - accuracy: 0.8650 - val_loss: 0.3869 - val_accuracy: 0.8727\n",
      "Epoch 60/100\n",
      "782/782 [==============================] - 13s 17ms/step - loss: 0.3970 - accuracy: 0.8644 - val_loss: 0.3811 - val_accuracy: 0.8742\n",
      "Epoch 61/100\n",
      "782/782 [==============================] - 13s 17ms/step - loss: 0.3960 - accuracy: 0.8655 - val_loss: 0.3668 - val_accuracy: 0.8781\n",
      "Epoch 62/100\n",
      "782/782 [==============================] - 13s 17ms/step - loss: 0.3944 - accuracy: 0.8645 - val_loss: 0.3843 - val_accuracy: 0.8732\n",
      "Epoch 63/100\n",
      "782/782 [==============================] - 13s 17ms/step - loss: 0.3908 - accuracy: 0.8657 - val_loss: 0.3735 - val_accuracy: 0.8775\n",
      "Epoch 64/100\n",
      "782/782 [==============================] - 13s 17ms/step - loss: 0.3866 - accuracy: 0.8670 - val_loss: 0.3646 - val_accuracy: 0.8815\n",
      "Epoch 65/100\n",
      "782/782 [==============================] - 13s 17ms/step - loss: 0.3855 - accuracy: 0.8672 - val_loss: 0.3749 - val_accuracy: 0.8747\n",
      "Epoch 66/100\n",
      "782/782 [==============================] - 13s 17ms/step - loss: 0.3839 - accuracy: 0.8684 - val_loss: 0.3660 - val_accuracy: 0.8792\n",
      "Epoch 67/100\n",
      "782/782 [==============================] - 13s 17ms/step - loss: 0.3763 - accuracy: 0.8715 - val_loss: 0.3674 - val_accuracy: 0.8789\n",
      "Epoch 68/100\n",
      "782/782 [==============================] - 13s 17ms/step - loss: 0.3818 - accuracy: 0.8692 - val_loss: 0.3587 - val_accuracy: 0.8813\n",
      "Epoch 69/100\n",
      "782/782 [==============================] - 13s 17ms/step - loss: 0.3733 - accuracy: 0.8718 - val_loss: 0.3757 - val_accuracy: 0.8772\n",
      "Epoch 70/100\n",
      "782/782 [==============================] - 14s 18ms/step - loss: 0.3701 - accuracy: 0.8720 - val_loss: 0.3656 - val_accuracy: 0.8813\n",
      "Epoch 71/100\n",
      "782/782 [==============================] - 14s 17ms/step - loss: 0.3731 - accuracy: 0.8724 - val_loss: 0.3514 - val_accuracy: 0.8825\n",
      "Epoch 72/100\n",
      "782/782 [==============================] - 13s 17ms/step - loss: 0.3726 - accuracy: 0.8720 - val_loss: 0.3546 - val_accuracy: 0.8812\n",
      "Epoch 73/100\n",
      "782/782 [==============================] - 13s 17ms/step - loss: 0.3717 - accuracy: 0.8736 - val_loss: 0.3572 - val_accuracy: 0.8820\n",
      "Epoch 74/100\n",
      "782/782 [==============================] - 14s 17ms/step - loss: 0.3668 - accuracy: 0.8733 - val_loss: 0.3402 - val_accuracy: 0.8848\n",
      "Epoch 75/100\n",
      "782/782 [==============================] - 13s 17ms/step - loss: 0.3697 - accuracy: 0.8733 - val_loss: 0.3555 - val_accuracy: 0.8816\n",
      "Epoch 76/100\n",
      "782/782 [==============================] - 13s 17ms/step - loss: 0.3658 - accuracy: 0.8762 - val_loss: 0.3706 - val_accuracy: 0.8782\n",
      "Epoch 77/100\n",
      "782/782 [==============================] - 13s 17ms/step - loss: 0.3625 - accuracy: 0.8769 - val_loss: 0.3434 - val_accuracy: 0.8866\n",
      "Epoch 78/100\n",
      "782/782 [==============================] - 13s 17ms/step - loss: 0.3604 - accuracy: 0.8764 - val_loss: 0.3378 - val_accuracy: 0.8846\n",
      "Epoch 79/100\n",
      "782/782 [==============================] - 13s 17ms/step - loss: 0.3558 - accuracy: 0.8780 - val_loss: 0.3676 - val_accuracy: 0.8793\n",
      "Epoch 80/100\n",
      "782/782 [==============================] - 13s 17ms/step - loss: 0.3576 - accuracy: 0.8777 - val_loss: 0.3482 - val_accuracy: 0.8845\n",
      "Epoch 81/100\n",
      "782/782 [==============================] - 13s 17ms/step - loss: 0.3564 - accuracy: 0.8778 - val_loss: 0.3472 - val_accuracy: 0.8848\n",
      "Epoch 82/100\n",
      "782/782 [==============================] - 13s 17ms/step - loss: 0.3570 - accuracy: 0.8771 - val_loss: 0.3429 - val_accuracy: 0.8865\n",
      "Epoch 83/100\n",
      "782/782 [==============================] - 13s 17ms/step - loss: 0.3497 - accuracy: 0.8817 - val_loss: 0.3589 - val_accuracy: 0.8815\n",
      "Epoch 84/100\n",
      "782/782 [==============================] - 13s 17ms/step - loss: 0.3500 - accuracy: 0.8789 - val_loss: 0.3382 - val_accuracy: 0.8871\n",
      "Epoch 85/100\n",
      "782/782 [==============================] - 13s 17ms/step - loss: 0.3587 - accuracy: 0.8773 - val_loss: 0.3496 - val_accuracy: 0.8832\n",
      "Epoch 86/100\n",
      "782/782 [==============================] - 13s 17ms/step - loss: 0.3474 - accuracy: 0.8830 - val_loss: 0.3727 - val_accuracy: 0.8769\n",
      "Epoch 87/100\n",
      "782/782 [==============================] - 13s 17ms/step - loss: 0.3492 - accuracy: 0.8797 - val_loss: 0.3373 - val_accuracy: 0.8865\n",
      "Epoch 88/100\n",
      "782/782 [==============================] - 13s 17ms/step - loss: 0.3459 - accuracy: 0.8839 - val_loss: 0.3357 - val_accuracy: 0.8884\n",
      "Epoch 89/100\n",
      "782/782 [==============================] - 14s 17ms/step - loss: 0.3457 - accuracy: 0.8807 - val_loss: 0.3470 - val_accuracy: 0.8847\n",
      "Epoch 90/100\n",
      "782/782 [==============================] - 13s 17ms/step - loss: 0.3423 - accuracy: 0.8836 - val_loss: 0.3374 - val_accuracy: 0.8864\n",
      "Epoch 91/100\n",
      "782/782 [==============================] - 13s 17ms/step - loss: 0.3431 - accuracy: 0.8820 - val_loss: 0.3447 - val_accuracy: 0.8841\n",
      "Epoch 92/100\n",
      "782/782 [==============================] - 13s 17ms/step - loss: 0.3407 - accuracy: 0.8827 - val_loss: 0.3432 - val_accuracy: 0.8844\n",
      "Epoch 93/100\n",
      "782/782 [==============================] - 14s 17ms/step - loss: 0.3412 - accuracy: 0.8837 - val_loss: 0.3311 - val_accuracy: 0.8884\n",
      "Epoch 94/100\n",
      "782/782 [==============================] - 13s 17ms/step - loss: 0.3394 - accuracy: 0.8830 - val_loss: 0.3495 - val_accuracy: 0.8838\n",
      "Epoch 95/100\n",
      "782/782 [==============================] - 13s 17ms/step - loss: 0.3381 - accuracy: 0.8861 - val_loss: 0.3404 - val_accuracy: 0.8888\n",
      "Epoch 96/100\n",
      "782/782 [==============================] - 13s 17ms/step - loss: 0.3358 - accuracy: 0.8855 - val_loss: 0.3289 - val_accuracy: 0.8890\n",
      "Epoch 97/100\n",
      "782/782 [==============================] - 13s 17ms/step - loss: 0.3336 - accuracy: 0.8858 - val_loss: 0.3633 - val_accuracy: 0.8830\n",
      "Epoch 98/100\n",
      "782/782 [==============================] - 14s 17ms/step - loss: 0.3352 - accuracy: 0.8856 - val_loss: 0.3360 - val_accuracy: 0.8887\n",
      "Epoch 99/100\n",
      "782/782 [==============================] - 13s 17ms/step - loss: 0.3337 - accuracy: 0.8855 - val_loss: 0.3275 - val_accuracy: 0.8923\n",
      "Epoch 100/100\n",
      "782/782 [==============================] - 13s 17ms/step - loss: 0.3361 - accuracy: 0.8846 - val_loss: 0.3429 - val_accuracy: 0.8864\n"
     ]
    }
   ],
   "source": [
    "model = dropout_model()\n",
    "results = train(model, trainX, trainY, testX, testY)"
   ]
  },
  {
   "cell_type": "code",
   "execution_count": 39,
   "metadata": {
    "colab": {
     "base_uri": "https://localhost:8080/",
     "height": 904
    },
    "id": "yNdQN-nnCTUk",
    "outputId": "a4f3dfdc-4c7a-427d-bf5d-1ce13d182c3d"
   },
   "outputs": [
    {
     "data": {
      "image/png": "[encoded data removed]",
      "text/plain": [
       "<Figure size 640x480 with 1 Axes>"
      ]
     },
     "metadata": {},
     "output_type": "display_data"
    },
    {
     "data": {
      "image/png": "[encoded data removed]",
      "text/plain": [
       "<Figure size 640x480 with 1 Axes>"
      ]
     },
     "metadata": {},
     "output_type": "display_data"
    },
    {
     "name": "stdout",
     "output_type": "stream",
     "text": [
      "The model achieved a final accuracy of 88.64%\n"
     ]
    }
   ],
   "source": [
    "plot_results(results.history)\n",
    "evaluate(model, testX, testY)"
   ]
  },
  {
   "cell_type": "code",
   "execution_count": 40,
   "metadata": {
    "id": "VmsurzVECTUk"
   },
   "outputs": [],
   "source": [
    "save_model('different_norm', model)\n",
    "save_history('different_norm', results.history)"
   ]
  },
  {
   "cell_type": "code",
   "execution_count": 41,
   "metadata": {
    "colab": {
     "base_uri": "https://localhost:8080/",
     "height": 17
    },
    "id": "a-l1CJtm0eCa",
    "outputId": "18de0fe3-5906-410a-d22c-c28cdb041a66"
   },
   "outputs": [],
   "source": [
    "#from google.colab import files\n",
    "#files.download('/content/models/dropout_augment_batch_model')\n",
    "#files.download('/content/history/dropout_augment_batch_model')"
   ]
  },
  {
   "cell_type": "code",
   "execution_count": 42,
   "metadata": {
    "id": "nNnZTjmwCTUl"
   },
   "outputs": [
    {
     "ename": "FileNotFoundError",
     "evalue": "[Errno 2] No such file or directory: './models/dropout_augment_model'",
     "output_type": "error",
     "traceback": [
      "\u001b[0;31m---------------------------------------------------------------------------\u001b[0m",
      "\u001b[0;31mFileNotFoundError\u001b[0m                         Traceback (most recent call last)",
      "Cell \u001b[0;32mIn[42], line 1\u001b[0m\n\u001b[0;32m----> 1\u001b[0m test \u001b[38;5;241m=\u001b[39m \u001b[43mload_model\u001b[49m\u001b[43m(\u001b[49m\u001b[38;5;124;43m'\u001b[39;49m\u001b[38;5;124;43mdropout_augment_model\u001b[39;49m\u001b[38;5;124;43m'\u001b[39;49m\u001b[43m)\u001b[49m\n\u001b[1;32m      2\u001b[0m history_test \u001b[38;5;241m=\u001b[39m load_history(\u001b[38;5;124m'\u001b[39m\u001b[38;5;124mdropout_augment_model\u001b[39m\u001b[38;5;124m'\u001b[39m)\n",
      "Cell \u001b[0;32mIn[35], line 11\u001b[0m, in \u001b[0;36mload_model\u001b[0;34m(filename)\u001b[0m\n\u001b[1;32m      9\u001b[0m \u001b[38;5;28;01mdef\u001b[39;00m \u001b[38;5;21mload_model\u001b[39m(filename):\n\u001b[1;32m     10\u001b[0m     filename \u001b[38;5;241m=\u001b[39m \u001b[38;5;124m'\u001b[39m\u001b[38;5;124m./models/\u001b[39m\u001b[38;5;124m'\u001b[39m \u001b[38;5;241m+\u001b[39m filename\n\u001b[0;32m---> 11\u001b[0m     model \u001b[38;5;241m=\u001b[39m pickle\u001b[38;5;241m.\u001b[39mload(\u001b[38;5;28;43mopen\u001b[39;49m\u001b[43m(\u001b[49m\u001b[43mfilename\u001b[49m\u001b[43m,\u001b[49m\u001b[43m \u001b[49m\u001b[38;5;124;43m'\u001b[39;49m\u001b[38;5;124;43mrb\u001b[39;49m\u001b[38;5;124;43m'\u001b[39;49m\u001b[43m)\u001b[49m)\n\u001b[1;32m     12\u001b[0m     \u001b[38;5;28;01mreturn\u001b[39;00m model\n",
      "File \u001b[0;32m/opt/conda/lib/python3.10/site-packages/IPython/core/interactiveshell.py:310\u001b[0m, in \u001b[0;36m_modified_open\u001b[0;34m(file, *args, **kwargs)\u001b[0m\n\u001b[1;32m    303\u001b[0m \u001b[38;5;28;01mif\u001b[39;00m file \u001b[38;5;129;01min\u001b[39;00m {\u001b[38;5;241m0\u001b[39m, \u001b[38;5;241m1\u001b[39m, \u001b[38;5;241m2\u001b[39m}:\n\u001b[1;32m    304\u001b[0m     \u001b[38;5;28;01mraise\u001b[39;00m \u001b[38;5;167;01mValueError\u001b[39;00m(\n\u001b[1;32m    305\u001b[0m         \u001b[38;5;124mf\u001b[39m\u001b[38;5;124m\"\u001b[39m\u001b[38;5;124mIPython won\u001b[39m\u001b[38;5;124m'\u001b[39m\u001b[38;5;124mt let you open fd=\u001b[39m\u001b[38;5;132;01m{\u001b[39;00mfile\u001b[38;5;132;01m}\u001b[39;00m\u001b[38;5;124m by default \u001b[39m\u001b[38;5;124m\"\u001b[39m\n\u001b[1;32m    306\u001b[0m         \u001b[38;5;124m\"\u001b[39m\u001b[38;5;124mas it is likely to crash IPython. If you know what you are doing, \u001b[39m\u001b[38;5;124m\"\u001b[39m\n\u001b[1;32m    307\u001b[0m         \u001b[38;5;124m\"\u001b[39m\u001b[38;5;124myou can use builtins\u001b[39m\u001b[38;5;124m'\u001b[39m\u001b[38;5;124m open.\u001b[39m\u001b[38;5;124m\"\u001b[39m\n\u001b[1;32m    308\u001b[0m     )\n\u001b[0;32m--> 310\u001b[0m \u001b[38;5;28;01mreturn\u001b[39;00m \u001b[43mio_open\u001b[49m\u001b[43m(\u001b[49m\u001b[43mfile\u001b[49m\u001b[43m,\u001b[49m\u001b[43m \u001b[49m\u001b[38;5;241;43m*\u001b[39;49m\u001b[43margs\u001b[49m\u001b[43m,\u001b[49m\u001b[43m \u001b[49m\u001b[38;5;241;43m*\u001b[39;49m\u001b[38;5;241;43m*\u001b[39;49m\u001b[43mkwargs\u001b[49m\u001b[43m)\u001b[49m\n",
      "\u001b[0;31mFileNotFoundError\u001b[0m: [Errno 2] No such file or directory: './models/dropout_augment_model'"
     ]
    }
   ],
   "source": [
    "test = load_model('different_norm')\n",
    "history_test = load_history('different_norm')"
   ]
  },
  {
   "cell_type": "code",
   "execution_count": null,
   "metadata": {
    "colab": {
     "base_uri": "https://localhost:8080/",
     "height": 904
    },
    "id": "2FXGqv_kCTUl",
    "outputId": "d21dd1a8-018d-41de-db51-209f14a1e604"
   },
   "outputs": [],
   "source": [
    "plot_results(history_test)\n",
    "evaluate(test, testX, testY)"
   ]
  }
 ],
 "metadata": {
  "accelerator": "GPU",
  "colab": {
   "gpuType": "T4",
   "provenance": []
  },
  "kernelspec": {
   "display_name": "Python 3 (ipykernel)",
   "language": "python",
   "name": "python3"
  },
  "language_info": {
   "codemirror_mode": {
    "name": "ipython",
    "version": 3
   },
   "file_extension": ".py",
   "mimetype": "text/x-python",
   "name": "python",
   "nbconvert_exporter": "python",
   "pygments_lexer": "ipython3",
   "version": "3.10.13"
  },
  "vscode": {
   "interpreter": {
    "hash": "63009f7f2cc996fccde2458c7f62140de231233c09c29bb8f0fa7c6864762ba3"
   }
  }
 },
 "nbformat": 4,
 "nbformat_minor": 4
}
